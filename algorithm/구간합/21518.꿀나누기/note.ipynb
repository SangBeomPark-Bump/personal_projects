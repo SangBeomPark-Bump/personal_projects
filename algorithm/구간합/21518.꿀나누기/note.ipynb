{
 "cells": [
  {
   "cell_type": "code",
   "execution_count": null,
   "metadata": {},
   "outputs": [],
   "source": [
    "N = 7\n",
    "arr =  list(map(int, \"9 9 4 1 4 9 6\".split()))\n"
   ]
  },
  {
   "cell_type": "code",
   "execution_count": 1,
   "metadata": {},
   "outputs": [],
   "source": [
    "N = 3\n",
    "arr =  list(map(int, \"4 5 2\".split()))"
   ]
  },
  {
   "cell_type": "code",
   "execution_count": 2,
   "metadata": {},
   "outputs": [],
   "source": [
    "verbose = True\n"
   ]
  },
  {
   "cell_type": "code",
   "execution_count": 3,
   "metadata": {},
   "outputs": [],
   "source": [
    "factor =  -1 + (int(arr[0] <= arr[-1]))*2\n",
    "arr = arr[::factor]\n",
    "\n",
    "sum_arr = [0]\n",
    "for i in arr:\n",
    "    sum_arr.append(sum_arr[-1] + i)\n",
    "\n",
    "sum_arr = sum_arr[1:]\n",
    "end_hoeny = sum_arr[-1]"
   ]
  },
  {
   "cell_type": "code",
   "execution_count": 4,
   "metadata": {},
   "outputs": [
    {
     "data": {
      "text/plain": [
       "[2, 7, 11]"
      ]
     },
     "execution_count": 4,
     "metadata": {},
     "output_type": "execute_result"
    }
   ],
   "source": [
    "sum_arr"
   ]
  },
  {
   "cell_type": "code",
   "execution_count": 5,
   "metadata": {},
   "outputs": [
    {
     "name": "stdout",
     "output_type": "stream",
     "text": [
      "[2, 5, 4]\n",
      "[2, 7, 11]\n",
      "arr : 5\n",
      "cumsum : 7\n",
      "temp_hoeny_end : 8\n",
      "temp_hoeny_middle : 10\n",
      "--------------------------------------------------\n",
      "10\n"
     ]
    }
   ],
   "source": [
    "max_hoeny = -1\n",
    "if verbose:\n",
    "    print(arr)\n",
    "    print(sum_arr)\n",
    "\n",
    "for i in range(1, N-1):\n",
    "    temp_hoeny_end = end_hoeny * 2 - arr[i] - sum_arr[i] - arr[0]\n",
    "    temp_hoeny_middle = sum_arr[i] + sum_arr[-1] - sum_arr[i-1] - arr[-1] -arr[0]\n",
    "\n",
    "    if verbose:\n",
    "        print(f'arr : {arr[i]}')\n",
    "        print(f'cumsum : {sum_arr[i]}')\n",
    "        print(f'temp_hoeny_end : {temp_hoeny_end}')\n",
    "        print(f'temp_hoeny_middle : {temp_hoeny_middle}')\n",
    "        print('-' * 50)\n",
    "    max_hoeny = max(temp_hoeny_end, temp_hoeny_middle, max_hoeny)\n",
    "\n",
    "print(max_hoeny)\n"
   ]
  },
  {
   "cell_type": "code",
   "execution_count": null,
   "metadata": {},
   "outputs": [],
   "source": []
  },
  {
   "cell_type": "code",
   "execution_count": null,
   "metadata": {},
   "outputs": [],
   "source": []
  }
 ],
 "metadata": {
  "kernelspec": {
   "display_name": "secondllm",
   "language": "python",
   "name": "python3"
  },
  "language_info": {
   "codemirror_mode": {
    "name": "ipython",
    "version": 3
   },
   "file_extension": ".py",
   "mimetype": "text/x-python",
   "name": "python",
   "nbconvert_exporter": "python",
   "pygments_lexer": "ipython3",
   "version": "3.10.16"
  }
 },
 "nbformat": 4,
 "nbformat_minor": 2
}
