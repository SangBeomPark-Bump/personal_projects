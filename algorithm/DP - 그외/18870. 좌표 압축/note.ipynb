{
 "cells": [
  {
   "cell_type": "code",
   "execution_count": 2,
   "metadata": {},
   "outputs": [],
   "source": [
    "verbose = True\n",
    "verboses = [True for _ in range(10)]"
   ]
  },
  {
   "cell_type": "code",
   "execution_count": 27,
   "metadata": {},
   "outputs": [],
   "source": [
    "N = 6\n",
    "arr =  list(map(int, \"1000 999 1000 999 1000 999\".split()))"
   ]
  },
  {
   "cell_type": "code",
   "execution_count": 28,
   "metadata": {},
   "outputs": [
    {
     "name": "stdout",
     "output_type": "stream",
     "text": [
      "1 0 1 0 1 0\n"
     ]
    }
   ],
   "source": [
    "arr2 = [(index, value) for index, value in enumerate(arr)]\n",
    "arr3 = sorted(arr2, key= lambda x: x[1])\n",
    "arr3 = [(-1,float('inf') * -1)] + arr3\n",
    "\n",
    "dp = [-1] + [0] * N\n",
    "\n",
    "temp = 0\n",
    "for i in range(1,N+1):\n",
    "    dp [arr3[i][0] +1] = dp[arr3[i-1][0] +1] + (1 if arr3[i-1][1] != arr3[i][1] else 0)\n",
    "print(' '.join(map(str, dp[1:])))"
   ]
  },
  {
   "cell_type": "code",
   "execution_count": 21,
   "metadata": {},
   "outputs": [
    {
     "data": {
      "text/plain": [
       "[(-1, -inf), (2, -10), (4, -9), (0, 2), (1, 4), (3, 4)]"
      ]
     },
     "execution_count": 21,
     "metadata": {},
     "output_type": "execute_result"
    }
   ],
   "source": [
    "arr3"
   ]
  },
  {
   "cell_type": "code",
   "execution_count": 24,
   "metadata": {},
   "outputs": [
    {
     "name": "stdout",
     "output_type": "stream",
     "text": [
      "2 3 0 3 1\n"
     ]
    }
   ],
   "source": [
    "dp = [-1] + [0] * N\n",
    "\n",
    "temp = 0\n",
    "for i in range(1,N+1):\n",
    "    dp [arr3[i][0] +1] = dp[arr3[i-1][0] +1] + (1 if arr3[i-1][1] != arr3[i][1] else 0)\n",
    "print(' '.join(map(str, dp[1:])))"
   ]
  },
  {
   "cell_type": "code",
   "execution_count": null,
   "metadata": {},
   "outputs": [],
   "source": []
  }
 ],
 "metadata": {
  "kernelspec": {
   "display_name": "secondllm",
   "language": "python",
   "name": "python3"
  },
  "language_info": {
   "codemirror_mode": {
    "name": "ipython",
    "version": 3
   },
   "file_extension": ".py",
   "mimetype": "text/x-python",
   "name": "python",
   "nbconvert_exporter": "python",
   "pygments_lexer": "ipython3",
   "version": "3.10.16"
  }
 },
 "nbformat": 4,
 "nbformat_minor": 2
}
