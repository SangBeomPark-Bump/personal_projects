{
 "cells": [
  {
   "cell_type": "code",
   "execution_count": 2,
   "metadata": {},
   "outputs": [],
   "source": [
    "verbose = True"
   ]
  },
  {
   "cell_type": "code",
   "execution_count": 8,
   "metadata": {},
   "outputs": [],
   "source": [
    "N = 5\n",
    "M = 8\n",
    "\n",
    "raw_arr =  \"\"\"1 2\n",
    "1 3\n",
    "1 5\n",
    "2 3\n",
    "2 5\n",
    "3 4\n",
    "3 5\n",
    "4 5\"\"\".split('\\n')\n",
    "\n",
    "arr_test =  [tuple(map(int,raw.split())) for raw in raw_arr ]\n",
    "arr = [[] for _ in range(N+1)]\n",
    "for u,v in arr_test:\n",
    "    arr[u].append(v)\n",
    "    arr[v].append(u)"
   ]
  },
  {
   "cell_type": "code",
   "execution_count": 7,
   "metadata": {},
   "outputs": [
    {
     "data": {
      "text/plain": [
       "[[], [2, 3, 5], [1, 3, 5], [1, 2, 4, 5], [3, 5], [1, 2, 3, 4]]"
      ]
     },
     "execution_count": 7,
     "metadata": {},
     "output_type": "execute_result"
    }
   ],
   "source": [
    "arr"
   ]
  },
  {
   "cell_type": "code",
   "execution_count": 9,
   "metadata": {},
   "outputs": [
    {
     "name": "stdout",
     "output_type": "stream",
     "text": [
      "1\n",
      "2\n",
      "3\n",
      "4\n",
      "5\n"
     ]
    }
   ],
   "source": [
    "visited = [False] * (N+1)\n",
    "def dfs(node):\n",
    "    print(node)\n",
    "    visited[node] = True \n",
    "    for a in arr[node]:\n",
    "        if not visited[a]:\n",
    "            dfs(a)\n",
    "\n",
    "dfs(1)\n"
   ]
  },
  {
   "cell_type": "code",
   "execution_count": 10,
   "metadata": {},
   "outputs": [
    {
     "name": "stdout",
     "output_type": "stream",
     "text": [
      "1\n",
      "2\n",
      "3\n",
      "5\n",
      "4\n"
     ]
    }
   ],
   "source": [
    "from collections import deque\n",
    "def bfs(start):\n",
    "    visited = [False] * (N + 1)\n",
    "    que = deque()\n",
    "    que.append(start)\n",
    "    visited[start] = True \n",
    "\n",
    "    while que:\n",
    "        node = que.popleft()\n",
    "        print(node)\n",
    "        for a in arr[node]:\n",
    "            if not visited[a]:\n",
    "                que.append(a)\n",
    "                visited[a] = True\n",
    "\n",
    "bfs(1)\n"
   ]
  }
 ],
 "metadata": {
  "kernelspec": {
   "display_name": "secondllm",
   "language": "python",
   "name": "python3"
  },
  "language_info": {
   "codemirror_mode": {
    "name": "ipython",
    "version": 3
   },
   "file_extension": ".py",
   "mimetype": "text/x-python",
   "name": "python",
   "nbconvert_exporter": "python",
   "pygments_lexer": "ipython3",
   "version": "3.10.16"
  }
 },
 "nbformat": 4,
 "nbformat_minor": 2
}
