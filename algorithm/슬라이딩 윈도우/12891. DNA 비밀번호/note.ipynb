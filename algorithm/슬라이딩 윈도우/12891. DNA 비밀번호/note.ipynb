{
 "cells": [
  {
   "cell_type": "code",
   "execution_count": null,
   "metadata": {},
   "outputs": [],
   "source": [
    "letters = ['A', 'C', 'G', 'T']"
   ]
  },
  {
   "cell_type": "code",
   "execution_count": null,
   "metadata": {},
   "outputs": [],
   "source": [
    "S, P = 9, 8\n",
    "dna =  'CCTGGATTG'\n",
    "sample = [2, 0, 1, 1]"
   ]
  },
  {
   "cell_type": "code",
   "execution_count": null,
   "metadata": {},
   "outputs": [],
   "source": [
    "S, P = map(int, input().split())\n",
    "dna = input()\n",
    "freq_list = list(map(int, input().split()))"
   ]
  },
  {
   "cell_type": "code",
   "execution_count": null,
   "metadata": {},
   "outputs": [],
   "source": [
    "S, P = 4, 2\n",
    "dna = 'GATA'\n",
    "freq_list = [1, 0, 0, 1]"
   ]
  },
  {
   "cell_type": "code",
   "execution_count": null,
   "metadata": {},
   "outputs": [],
   "source": [
    "# letter_dict = {letter : freq  for letter, freq in zip(letters, list(map(int, input().split())))}\n",
    "letter_dict = {letter : freq  for letter, freq in zip(letters, freq_list)}\n",
    "freq_dict = {letter : 0  for letter in letters}"
   ]
  },
  {
   "cell_type": "code",
   "execution_count": null,
   "metadata": {},
   "outputs": [
    {
     "name": "stdout",
     "output_type": "stream",
     "text": [
      "2\n"
     ]
    }
   ],
   "source": [
    "\n",
    "\n",
    "result = 0\n",
    "\n",
    "for i in dna[:P]:\n",
    "    freq_dict[i] +=1\n",
    "\n",
    "def freq_test():\n",
    "    for letter in letters:\n",
    "        if letter_dict[letter] > freq_dict[letter]:\n",
    "            return False\n",
    "    return True\n",
    "\n",
    "result += int(freq_test())\n",
    "\n",
    "for i in range(S - P):\n",
    "    freq_dict[dna[i]] -= 1\n",
    "    freq_dict[dna[i+P]] += 1\n",
    "    result += int(freq_test())\n",
    "\n",
    "print(result)"
   ]
  },
  {
   "cell_type": "code",
   "execution_count": 16,
   "metadata": {},
   "outputs": [
    {
     "data": {
      "text/plain": [
       "{'A': 2, 'C': 0, 'G': 1, 'T': 1}"
      ]
     },
     "execution_count": 16,
     "metadata": {},
     "output_type": "execute_result"
    }
   ],
   "source": [
    "letter_dict"
   ]
  },
  {
   "cell_type": "code",
   "execution_count": 5,
   "metadata": {},
   "outputs": [
    {
     "data": {
      "text/plain": [
       "{'A': 1, 'C': 2, 'G': 2, 'T': 3}"
      ]
     },
     "execution_count": 5,
     "metadata": {},
     "output_type": "execute_result"
    }
   ],
   "source": [
    "word_dict"
   ]
  }
 ],
 "metadata": {
  "kernelspec": {
   "display_name": "secondllm",
   "language": "python",
   "name": "python3"
  },
  "language_info": {
   "codemirror_mode": {
    "name": "ipython",
    "version": 3
   },
   "file_extension": ".py",
   "mimetype": "text/x-python",
   "name": "python",
   "nbconvert_exporter": "python",
   "pygments_lexer": "ipython3",
   "version": "3.10.16"
  }
 },
 "nbformat": 4,
 "nbformat_minor": 2
}
