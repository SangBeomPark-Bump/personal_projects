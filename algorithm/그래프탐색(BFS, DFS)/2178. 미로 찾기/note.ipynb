{
 "cells": [
  {
   "cell_type": "code",
   "execution_count": null,
   "metadata": {},
   "outputs": [],
   "source": [
    "verbose = True"
   ]
  },
  {
   "cell_type": "code",
   "execution_count": 1,
   "metadata": {},
   "outputs": [],
   "source": [
    "N = 7\n",
    "arr =  list(map(int, \"9 9 4 1 4 9 6\".split()))"
   ]
  },
  {
   "cell_type": "code",
   "execution_count": 17,
   "metadata": {},
   "outputs": [],
   "source": [
    "N, M = 4, 6\n",
    "raw_arr =  \"\"\"101111\n",
    "101010\n",
    "101011\n",
    "111011\"\"\".split('\\n')\n",
    "\n",
    "arr =  [list(map(int,list(raw))) for raw in raw_arr ]"
   ]
  },
  {
   "cell_type": "code",
   "execution_count": 11,
   "metadata": {},
   "outputs": [],
   "source": [
    "N, M = 3, 3\n",
    "raw_arr =  \"\"\"101\n",
    "111\n",
    "101\"\"\".split('\\n')\n",
    "\n",
    "arr =  [list(map(int,list(raw))) for raw in raw_arr ]"
   ]
  },
  {
   "cell_type": "code",
   "execution_count": 12,
   "metadata": {},
   "outputs": [
    {
     "data": {
      "text/plain": [
       "[[1, 0, 1], [1, 1, 1], [1, 0, 1]]"
      ]
     },
     "execution_count": 12,
     "metadata": {},
     "output_type": "execute_result"
    }
   ],
   "source": [
    "arr"
   ]
  },
  {
   "cell_type": "code",
   "execution_count": null,
   "metadata": {},
   "outputs": [
    {
     "name": "stdout",
     "output_type": "stream",
     "text": [
      "0 0 1\n",
      "1 0 2\n",
      "2 0 3\n",
      "3 0 4\n",
      "3 1 5\n",
      "3 2 6\n",
      "2 2 7\n",
      "1 2 8\n",
      "0 2 9\n",
      "0 3 10\n",
      "0 4 11\n",
      "1 4 12\n",
      "0 5 12\n",
      "2 4 13\n",
      "3 4 14\n",
      "2 5 14\n",
      "3 5 15\n",
      "15\n",
      "[1, 0, 1, 1, 1, 1]\n",
      "[1, 0, 1, 0, 1, 0]\n",
      "[1, 0, 1, 0, 1, 1]\n",
      "[1, 1, 1, 0, 1, 1]\n"
     ]
    }
   ],
   "source": [
    "from collections import deque\n",
    "def maze_bfs(y, x, depth):\n",
    "    ### 여기는 앞에와 같음\n",
    "    visited = [[False] * M for _ in range(N)]\n",
    "    dy = (-1, 1, 0, 0)\n",
    "    dx = (0, 0, -1, 1)\n",
    "    ## 초기설정\n",
    "    visited[y][x] = True\n",
    "    que = deque()\n",
    "    ## y, x에 넣어준다\n",
    "    que.append((y, x, depth))\n",
    "\n",
    "    while que:\n",
    "        y, x, depth = que.popleft()\n",
    "        if verbose:\n",
    "            print(y, x, depth)\n",
    "        if y == N-1 and x == M-1:\n",
    "            return depth\n",
    "        for i in range(4):\n",
    "            ny = y + dy[i]\n",
    "            nx = x + dx[i]\n",
    "            if not(0 <= ny < N and 0 <= nx < M):\n",
    "                continue\n",
    "            if arr[ny][nx] == 0:\n",
    "                continue\n",
    "            if not visited[ny][nx]:\n",
    "                visited[ny][nx] = True\n",
    "                que.append((ny, nx, depth +1))\n",
    "\n",
    "\n",
    "print(maze_bfs(0, 0, 1))\n",
    "for raw in arr:\n",
    "    print(raw)\n"
   ]
  },
  {
   "cell_type": "code",
   "execution_count": null,
   "metadata": {},
   "outputs": [],
   "source": []
  }
 ],
 "metadata": {
  "kernelspec": {
   "display_name": "secondllm",
   "language": "python",
   "name": "python3"
  },
  "language_info": {
   "codemirror_mode": {
    "name": "ipython",
    "version": 3
   },
   "file_extension": ".py",
   "mimetype": "text/x-python",
   "name": "python",
   "nbconvert_exporter": "python",
   "pygments_lexer": "ipython3",
   "version": "3.10.16"
  }
 },
 "nbformat": 4,
 "nbformat_minor": 2
}
