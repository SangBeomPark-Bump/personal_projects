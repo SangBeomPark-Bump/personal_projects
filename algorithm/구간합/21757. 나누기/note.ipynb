{
 "cells": [
  {
   "cell_type": "markdown",
   "metadata": {},
   "source": [
    "# 21517. 나누기\n",
    "\n",
    "누적합 + DP\n"
   ]
  },
  {
   "cell_type": "code",
   "execution_count": 1,
   "metadata": {},
   "outputs": [],
   "source": [
    "N = 10\n",
    "array = [0] + list(map(int, \"4 -1 2 1 -3 1 2 2 1 3\".split()))\n"
   ]
  },
  {
   "cell_type": "code",
   "execution_count": 2,
   "metadata": {},
   "outputs": [],
   "source": [
    "# N = int(input())\n",
    "# array = [0] + list(map(int, input().split()))"
   ]
  },
  {
   "cell_type": "code",
   "execution_count": 3,
   "metadata": {},
   "outputs": [],
   "source": [
    "# N = 5\n",
    "# array = [0] + list(map(int, \"0 0 0 0 0\".split()))\n",
    "# array"
   ]
  },
  {
   "cell_type": "code",
   "execution_count": 4,
   "metadata": {},
   "outputs": [
    {
     "data": {
      "text/plain": [
       "[0, 4, 3, 5, 6, 3, 4, 6, 8, 9, 12]"
      ]
     },
     "execution_count": 4,
     "metadata": {},
     "output_type": "execute_result"
    }
   ],
   "source": [
    "sum_arr = [0 for _ in range(N+1)]\n",
    "\n",
    "for i in range(1, N+1):\n",
    "    sum_arr[i] += array[i] + sum_arr[i-1]\n",
    "\n",
    "sum_arr"
   ]
  },
  {
   "cell_type": "code",
   "execution_count": null,
   "metadata": {},
   "outputs": [
    {
     "data": {
      "text/plain": [
       "[3, 6, 3, 6, 9, 6, 12]"
      ]
     },
     "execution_count": 15,
     "metadata": {},
     "output_type": "execute_result"
    }
   ],
   "source": [
    "\n",
    "sum_arr = sum_arr[1:]\n",
    "sum_arr\n"
   ]
  },
  {
   "cell_type": "code",
   "execution_count": null,
   "metadata": {},
   "outputs": [
    {
     "name": "stdout",
     "output_type": "stream",
     "text": [
      "[1, 0, 0, 0]\n",
      "[1, 0, 0, 0]\n",
      "[1, 1, 0, 0]\n",
      "[1, 1, 0, 0]\n",
      "[1, 1, 1, 0]\n",
      "[1, 2, 1, 0]\n",
      "[1, 2, 1, 1]\n",
      "[1, 2, 3, 1]\n",
      "[1, 3, 3, 1]\n",
      "[1, 3, 3, 4]\n",
      "[1, 3, 6, 4]\n",
      "[1, 4, 6, 4]\n",
      "[1, 4, 6, 10]\n",
      "[1, 4, 10, 10]\n",
      "[1, 5, 10, 10]\n",
      "10\n"
     ]
    }
   ],
   "source": [
    "sum_arr = [0, 0, 0, 0, 0, 0]\n",
    "result = 0\n",
    "sum_arr = sum_arr[1:]\n",
    "dp = [1, 0, 0, 0]\n",
    "\n",
    "if sum_arr[-1] % 4 == 0:\n",
    "    fund_num =  sum_arr[-1] // 4\n",
    "    for cumsum in sum_arr:\n",
    "        for j in range(3, 0, -1):\n",
    "            if cumsum == fund_num * j:\n",
    "                dp[j] += dp[j - 1]\n",
    "            print(dp)\n",
    "    result = dp[-1]\n",
    "print(result)"
   ]
  },
  {
   "cell_type": "code",
   "execution_count": null,
   "metadata": {},
   "outputs": [],
   "source": []
  },
  {
   "cell_type": "code",
   "execution_count": null,
   "metadata": {},
   "outputs": [],
   "source": []
  }
 ],
 "metadata": {
  "kernelspec": {
   "display_name": "secondllm",
   "language": "python",
   "name": "python3"
  },
  "language_info": {
   "codemirror_mode": {
    "name": "ipython",
    "version": 3
   },
   "file_extension": ".py",
   "mimetype": "text/x-python",
   "name": "python",
   "nbconvert_exporter": "python",
   "pygments_lexer": "ipython3",
   "version": "3.10.16"
  }
 },
 "nbformat": 4,
 "nbformat_minor": 2
}
