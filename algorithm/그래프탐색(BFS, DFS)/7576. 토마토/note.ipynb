{
 "cells": [
  {
   "cell_type": "code",
   "execution_count": null,
   "metadata": {},
   "outputs": [],
   "source": [
    "verbose = True\n",
    "from collections import deque"
   ]
  },
  {
   "cell_type": "code",
   "execution_count": 73,
   "metadata": {},
   "outputs": [],
   "source": [
    "N, M = 4, 6\n",
    "raw_arr =  \"\"\"0 0 0 0 0 0\n",
    "0 0 0 0 0 0\n",
    "0 0 0 0 0 0\n",
    "0 0 0 0 0 1\"\"\".split('\\n')\n",
    "\n",
    "arr =  [list(map(int,raw.split())) for raw in raw_arr ]\n",
    "mydeq = deque([(3,5)])"
   ]
  },
  {
   "cell_type": "code",
   "execution_count": null,
   "metadata": {},
   "outputs": [],
   "source": [
    "M, N = 6, 4\n",
    "raw_arr =  \"\"\"1 -1 0 0 0 0\n",
    "0 -1 0 0 0 0\n",
    "0 0 0 0 -1 0\n",
    "0 0 0 0 -1 1\"\"\".split('\\n')\n",
    "\n",
    "arr =  [list(map(int,raw.split())) for raw in raw_arr ]"
   ]
  },
  {
   "cell_type": "code",
   "execution_count": 91,
   "metadata": {},
   "outputs": [],
   "source": [
    "M, N = 2, 2\n",
    "raw_arr =  \"\"\"1 -1\n",
    "-1 1\"\"\".split('\\n')\n",
    "\n",
    "arr =  [list(map(int,raw.split())) for raw in raw_arr ]"
   ]
  },
  {
   "cell_type": "code",
   "execution_count": 92,
   "metadata": {},
   "outputs": [
    {
     "name": "stdout",
     "output_type": "stream",
     "text": [
      "deque([(0, 0), (1, 1)])\n"
     ]
    }
   ],
   "source": [
    "mydeq = deque()\n",
    "for y in range(N):\n",
    "    for x in range(M):\n",
    "        if arr[y][x] ==1:\n",
    "            mydeq.append((y,x))\n",
    "print(mydeq)"
   ]
  },
  {
   "cell_type": "code",
   "execution_count": 93,
   "metadata": {},
   "outputs": [
    {
     "name": "stdout",
     "output_type": "stream",
     "text": [
      "[1, -1]\n",
      "[-1, 1]\n"
     ]
    }
   ],
   "source": [
    "for raw in arr:\n",
    "    print(raw)"
   ]
  },
  {
   "cell_type": "code",
   "execution_count": null,
   "metadata": {},
   "outputs": [],
   "source": [
    "\n",
    "\n",
    "\n",
    "def bfs(my_que : deque):\n",
    "    ### 여기는 앞에와 같음\n",
    "    dy = (-1, 1, 0, 0)\n",
    "    dx = (0, 0, -1, 1)\n",
    "\n",
    "\n",
    "    while my_que:\n",
    "        y, x = my_que.popleft()\n",
    "        # print(y, x)\n",
    "        for i in range(4):\n",
    "            ny = y + dy[i]\n",
    "            nx = x + dx[i]\n",
    "            if not(0 <= ny < N and 0 <= nx < M):\n",
    "                continue\n",
    "            if arr[ny][nx] == 0:\n",
    "                arr[ny][nx] = arr[y][x]+1\n",
    "                my_que.append((ny, nx))\n",
    "    return arr[y][x] -1"
   ]
  },
  {
   "cell_type": "code",
   "execution_count": null,
   "metadata": {},
   "outputs": [
    {
     "name": "stdout",
     "output_type": "stream",
     "text": [
      "0\n"
     ]
    }
   ],
   "source": [
    "arr =  [list(map(int,raw.split())) for raw in raw_arr ]\n",
    "result = bfs(mydeq)\n",
    "\n",
    "sad = False\n",
    "for i in range(N):\n",
    "    for j in range(N):\n",
    "        if arr[i][j] == 0:\n",
    "            sad = True\n",
    "\n",
    "if sad:\n",
    "    print(-1)\n",
    "else:\n",
    "    print(result)"
   ]
  },
  {
   "cell_type": "code",
   "execution_count": 89,
   "metadata": {},
   "outputs": [
    {
     "data": {
      "text/plain": [
       "[[1, -1], [-1, 1]]"
      ]
     },
     "execution_count": 89,
     "metadata": {},
     "output_type": "execute_result"
    }
   ],
   "source": [
    "arr"
   ]
  }
 ],
 "metadata": {
  "kernelspec": {
   "display_name": "secondllm",
   "language": "python",
   "name": "python3"
  },
  "language_info": {
   "codemirror_mode": {
    "name": "ipython",
    "version": 3
   },
   "file_extension": ".py",
   "mimetype": "text/x-python",
   "name": "python",
   "nbconvert_exporter": "python",
   "pygments_lexer": "ipython3",
   "version": "3.10.16"
  }
 },
 "nbformat": 4,
 "nbformat_minor": 2
}
