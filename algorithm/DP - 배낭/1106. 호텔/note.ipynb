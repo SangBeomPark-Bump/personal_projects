{
 "cells": [
  {
   "cell_type": "code",
   "execution_count": 1,
   "metadata": {},
   "outputs": [],
   "source": [
    "verbose = True\n",
    "verboses = [True for _ in range(10)]"
   ]
  },
  {
   "cell_type": "code",
   "execution_count": 43,
   "metadata": {},
   "outputs": [],
   "source": [
    "C, N = 12, 2\n",
    "\n",
    "raw_arr = \"\"\"3 5\n",
    "1 1\"\"\".split('\\n')\n",
    "\n",
    "arr =  [tuple(map(int,row.split())) for row in raw_arr]\n",
    "arr = [0] + arr\n"
   ]
  },
  {
   "cell_type": "code",
   "execution_count": 38,
   "metadata": {},
   "outputs": [],
   "source": [
    "C, N = 1, 1\n",
    "\n",
    "raw_arr = \"\"\"1 1\"\"\".split('\\n')\n",
    "\n",
    "arr =  [tuple(map(int,row.split())) for row in raw_arr]\n",
    "arr = [0] + arr"
   ]
  },
  {
   "cell_type": "code",
   "execution_count": 62,
   "metadata": {},
   "outputs": [
    {
     "name": "stdout",
     "output_type": "stream",
     "text": [
      "8\n"
     ]
    }
   ],
   "source": [
    "dp = [ [0] for _ in range(N+1)]\n",
    "\n",
    "for n in range(1, N+1):\n",
    "    c = 1\n",
    "    while True:\n",
    "        pay, benefit = arr[n]\n",
    "        prev = c - pay\n",
    "        case1 = 0\n",
    "        if prev >= 0:\n",
    "            case1 = dp[n][prev] + benefit\n",
    "        try:\n",
    "            case2 = dp[n-1][c]\n",
    "        except IndexError:\n",
    "            case2 = 0\n",
    "        dp[n].append(max(case1, case2))\n",
    "        c +=1\n",
    "        if dp[n][-1] >= C:\n",
    "            break\n",
    "\n",
    "print(len(dp[-1])-1)"
   ]
  },
  {
   "cell_type": "code",
   "execution_count": null,
   "metadata": {},
   "outputs": [],
   "source": [
    "dp = [ [0] for _ in range(N+1)]\n",
    "n = 1\n",
    "for n in range(N):\n",
    "    for c in range(1, C+1):\n",
    "        pay, benefit = arr[n]\n",
    "        prev = c - pay\n",
    "        case1 = 0\n",
    "        if prev >= 0:\n",
    "            case1 = dp[n][prev] + benefit\n",
    "        try:\n",
    "            case2 = dp[n-1][c]\n",
    "        except IndexError:\n",
    "            case2 = 0\n",
    "        dp[n].append(max(case1, case2))\n",
    "    if dp[n][-1] >= C:\n",
    "        break\n",
    "    n +=1\n"
   ]
  },
  {
   "cell_type": "code",
   "execution_count": 51,
   "metadata": {},
   "outputs": [
    {
     "data": {
      "text/plain": [
       "[[0], [0, 0, 0, 5, 5, 5, 10, 10, 10, 15, 15, 15, 20], [0]]"
      ]
     },
     "execution_count": 51,
     "metadata": {},
     "output_type": "execute_result"
    }
   ],
   "source": [
    "dp"
   ]
  },
  {
   "cell_type": "code",
   "execution_count": null,
   "metadata": {},
   "outputs": [],
   "source": [
    "import sys\n",
    "input = sys.stdin.readline\n",
    "\n",
    "mii = lambda: map(int, input().split())\n",
    "C, N = mii()\n",
    "\n",
    "cost, customer = [], []\n",
    "for _ in range(N):\n",
    "    ct, cs = mii()\n",
    "    cost.append(ct)\n",
    "    customer.append(cs)\n",
    "\n",
    "dp = [[0] * (C + 1) for _ in range(N)]\n",
    "def solve(n, c):\n",
    "    if n < 0:\n",
    "        return float('inf')\n",
    "\n",
    "    if c <= 0:\n",
    "        return 0\n",
    "\n",
    "    if dp[n][c]:\n",
    "        return dp[n][c]\n",
    "\n",
    "    case1 = solve(n - 1, c)\n",
    "    case2 = solve(n, c - customer[n]) + cost[n]\n",
    "    dp[n][c] = min(case1, case2)\n",
    "    return dp[n][c]\n",
    "\n",
    "print(solve(N - 1, C))\n"
   ]
  }
 ],
 "metadata": {
  "kernelspec": {
   "display_name": "secondllm",
   "language": "python",
   "name": "python3"
  },
  "language_info": {
   "codemirror_mode": {
    "name": "ipython",
    "version": 3
   },
   "file_extension": ".py",
   "mimetype": "text/x-python",
   "name": "python",
   "nbconvert_exporter": "python",
   "pygments_lexer": "ipython3",
   "version": "3.10.16"
  }
 },
 "nbformat": 4,
 "nbformat_minor": 2
}
