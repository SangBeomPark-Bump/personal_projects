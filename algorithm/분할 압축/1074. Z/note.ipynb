{
 "cells": [
  {
   "cell_type": "code",
   "execution_count": 1,
   "metadata": {},
   "outputs": [],
   "source": [
    "verbose = True\n",
    "verboses = [True for _ in range(10)]"
   ]
  },
  {
   "cell_type": "code",
   "execution_count": 77,
   "metadata": {},
   "outputs": [],
   "source": [
    "N, y, x = 2, 3, 1\n",
    "\n",
    "# N, y, x = 2, 1,2\n",
    "N, y, x = 3, 7, 7"
   ]
  },
  {
   "cell_type": "code",
   "execution_count": 78,
   "metadata": {},
   "outputs": [
    {
     "name": "stdout",
     "output_type": "stream",
     "text": [
      "63\n"
     ]
    }
   ],
   "source": [
    "\n",
    "ans = 0\n",
    "def recursive(N, x, y):\n",
    "    global ans\n",
    "    if N == 0:\n",
    "        return\n",
    "    the_number =  (2 ** (N-1))\n",
    "    temp = ((y // the_number) * 2 + (x // the_number )) * (the_number ** 2)\n",
    "    ans += temp\n",
    "    # print(f'the_number = {the_number}, x {x}, y {y}, temp {temp}, ans {ans}')\n",
    "    recursive(N-1, x%the_number, y%the_number)\n",
    "\n",
    "recursive(N, x, y)\n",
    "print(ans)\n"
   ]
  },
  {
   "cell_type": "code",
   "execution_count": 36,
   "metadata": {},
   "outputs": [
    {
     "data": {
      "text/plain": [
       "4"
      ]
     },
     "execution_count": 36,
     "metadata": {},
     "output_type": "execute_result"
    }
   ],
   "source": [
    "2**(N-1) * 2**(N-1)"
   ]
  }
 ],
 "metadata": {
  "kernelspec": {
   "display_name": "secondllm",
   "language": "python",
   "name": "python3"
  },
  "language_info": {
   "codemirror_mode": {
    "name": "ipython",
    "version": 3
   },
   "file_extension": ".py",
   "mimetype": "text/x-python",
   "name": "python",
   "nbconvert_exporter": "python",
   "pygments_lexer": "ipython3",
   "version": "3.10.16"
  }
 },
 "nbformat": 4,
 "nbformat_minor": 2
}
