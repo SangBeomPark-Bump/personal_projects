{
 "cells": [
  {
   "cell_type": "code",
   "execution_count": 1,
   "metadata": {},
   "outputs": [],
   "source": [
    "verbose = True\n",
    "verboses = [True for _ in range(10)]"
   ]
  },
  {
   "cell_type": "code",
   "execution_count": null,
   "metadata": {},
   "outputs": [],
   "source": [
    "# N, M = 1, 1\n",
    "\n",
    "# X, *t_arr = map(int, \"1 1\".split())\n",
    "\n",
    "# raw_arr = \"\"\"1 1\"\"\".split('\\n')\n",
    "\n",
    "# p_arr =  [list(map(int,row.split())) for row in raw_arr]"
   ]
  },
  {
   "cell_type": "code",
   "execution_count": 82,
   "metadata": {},
   "outputs": [],
   "source": [
    "# N, M = 4, 5\n",
    "\n",
    "# X, *t_arr = map(int, \"1 1\".split())\n",
    "\n",
    "# raw_arr = \"\"\"1 1\n",
    "# 1 2\n",
    "# 1 3\n",
    "# 1 4\n",
    "# 2 4 1\"\"\".split('\\n')\n",
    "\n",
    "# p_arr =  [list(map(int,row.split())) for row in raw_arr]"
   ]
  },
  {
   "cell_type": "code",
   "execution_count": 43,
   "metadata": {},
   "outputs": [],
   "source": [
    "N, M = 10, 9\n",
    "\n",
    "X, *t_arr = map(int, \"4 1 2 3 4\".split())\n",
    "\n",
    "raw_arr = \"\"\"2 1 5\n",
    "2 2 6\n",
    "1 7\n",
    "1 8\n",
    "2 7 8\n",
    "1 9\n",
    "1 10\n",
    "2 1 10\n",
    "1 4\"\"\".split('\\n')\n",
    "\n",
    "p_arr =  [list(map(int,row.split())) for row in raw_arr]"
   ]
  },
  {
   "cell_type": "code",
   "execution_count": null,
   "metadata": {},
   "outputs": [],
   "source": [
    "party_union = [num for num in range(N+1)]\n",
    "\n",
    "def find(x):\n",
    "    if party_union[x] == x:\n",
    "        return x\n",
    "    return party_union[x]\n",
    "\n",
    "def uninon(a, b):\n",
    "    fa = find(a)\n",
    "    fb = find(b)\n",
    "\n",
    "    if fa < fb:\n",
    "        party_union[fb] = fa\n",
    "    else :\n",
    "        party_union[fa] = fb\n",
    "\n",
    "for party_num, *party_members in p_arr:\n",
    "    for i in range(party_num - 1):\n",
    "        uninon(party_members[i], party_members[i+1])"
   ]
  },
  {
   "cell_type": "code",
   "execution_count": null,
   "metadata": {},
   "outputs": [
    {
     "name": "stdout",
     "output_type": "stream",
     "text": [
      "4\n"
     ]
    }
   ],
   "source": [
    "know_true_party = list(set([find(t)for t in t_arr]))\n",
    "\n",
    "cnt = 0\n",
    "for party in p_arr:\n",
    "    if find(party[1]) not in know_true_party:\n",
    "        cnt +=1\n",
    "\n",
    "print(cnt)\n"
   ]
  },
  {
   "cell_type": "code",
   "execution_count": 36,
   "metadata": {},
   "outputs": [
    {
     "data": {
      "text/plain": [
       "[0, 1, 2, 3, 4, 1, 2, 7, 7, 9, 1]"
      ]
     },
     "execution_count": 36,
     "metadata": {},
     "output_type": "execute_result"
    }
   ],
   "source": [
    "party_union"
   ]
  },
  {
   "cell_type": "code",
   "execution_count": null,
   "metadata": {},
   "outputs": [],
   "source": [
    "## 시ㅣㅣㅣ발\n",
    "# N, M = 4, 5\n",
    "\n",
    "# X, *t_arr = map(int, \"1 1\".split())\n",
    "\n",
    "# raw_arr = \"\"\"1 1\n",
    "# 1 2\n",
    "# 1 3\n",
    "# 1 4\n",
    "# 2 4 1\"\"\".split('\\n')\n",
    "\n",
    "# p_arr =  [list(map(int,row.split())) for row in raw_arr]"
   ]
  },
  {
   "cell_type": "code",
   "execution_count": 44,
   "metadata": {},
   "outputs": [],
   "source": [
    "true_list = t_arr"
   ]
  },
  {
   "cell_type": "code",
   "execution_count": 45,
   "metadata": {},
   "outputs": [
    {
     "name": "stdout",
     "output_type": "stream",
     "text": [
      "[0, 0, 0, 0, 0, 5, 6, 7, 8, 9, 10]\n"
     ]
    }
   ],
   "source": [
    "TRUE_KNOW = 0\n",
    "parent = [i for i in range(N+1)]\n",
    "\n",
    "\n",
    "def find(a):\n",
    "    if a != parent[a]:\n",
    "        parent[a] = find(parent[a])\n",
    "\n",
    "    return parent[a]\n",
    "\n",
    "def union(a, b):\n",
    "    a = find(a)\n",
    "    b = find(b)\n",
    "\n",
    "    if a < b:\n",
    "        parent[b] = a   \n",
    "    else:\n",
    "        parent[a] = b\n",
    "\n",
    "for i in true_list:\n",
    "    union(TRUE_KNOW, i)\n",
    "print(parent)"
   ]
  },
  {
   "cell_type": "code",
   "execution_count": 46,
   "metadata": {},
   "outputs": [
    {
     "name": "stdout",
     "output_type": "stream",
     "text": [
      "[0, 0, 0, 0, 0, 0, 0, 7, 7, 9, 0]\n"
     ]
    }
   ],
   "source": [
    "\n",
    "parties = []\n",
    "for i in range(M):\n",
    "    cnt, *party = p_arr[i]\n",
    "    parties.append(party)\n",
    "\n",
    "    for i in range(cnt - 1):\n",
    "        union(party[i], party[i+1])\n",
    "print(parent)\n",
    "\n",
    "cnt = 0\n"
   ]
  },
  {
   "cell_type": "code",
   "execution_count": 40,
   "metadata": {},
   "outputs": [
    {
     "name": "stdout",
     "output_type": "stream",
     "text": [
      "6\n"
     ]
    }
   ],
   "source": [
    "for party in parties:  \n",
    "    if find(party[0]) == TRUE_KNOW:\n",
    "        continue\n",
    "\n",
    "    cnt += 1\n",
    "\n",
    "print(cnt)"
   ]
  }
 ],
 "metadata": {
  "kernelspec": {
   "display_name": "secondllm",
   "language": "python",
   "name": "python3"
  },
  "language_info": {
   "codemirror_mode": {
    "name": "ipython",
    "version": 3
   },
   "file_extension": ".py",
   "mimetype": "text/x-python",
   "name": "python",
   "nbconvert_exporter": "python",
   "pygments_lexer": "ipython3",
   "version": "3.10.16"
  }
 },
 "nbformat": 4,
 "nbformat_minor": 2
}
