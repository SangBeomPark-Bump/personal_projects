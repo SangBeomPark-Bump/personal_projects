{
 "cells": [
  {
   "cell_type": "code",
   "execution_count": null,
   "metadata": {},
   "outputs": [
    {
     "name": "stdout",
     "output_type": "stream",
     "text": [
      "5\n"
     ]
    }
   ],
   "source": [
    "N, d, k, c = map(int, input().split())\n",
    "arr = []\n",
    "\n",
    "for _ in range(N):\n",
    "    arr.append(int(input()))\n",
    "\n",
    "check = [0] * (d+1)\n",
    "check[c] = 1\n",
    "eat_sushi = 1\n",
    "\n",
    "for i in range(k):\n",
    "    sushi = arr[i % N]\n",
    "\n",
    "    if not check[sushi]:\n",
    "        eat_sushi += 1\n",
    "\n",
    "    check[sushi] += 1\n",
    "max_sushi = eat_sushi\n",
    "\n",
    "for i in range(N):\n",
    "    start = arr[i % N]\n",
    "    end = arr[(i + k) % N]\n",
    "\n",
    "    check[start] -= 1\n",
    "    if not check[start]:\n",
    "        eat_sushi -= 1\n",
    "\n",
    "    if not check[end]:\n",
    "        eat_sushi += 1\n",
    "\n",
    "    check[end] += 1\n",
    "    max_sushi = max(max_sushi, eat_sushi)\n",
    "\n",
    "print(max_sushi)"
   ]
  }
 ],
 "metadata": {
  "kernelspec": {
   "display_name": "secondllm",
   "language": "python",
   "name": "python3"
  },
  "language_info": {
   "codemirror_mode": {
    "name": "ipython",
    "version": 3
   },
   "file_extension": ".py",
   "mimetype": "text/x-python",
   "name": "python",
   "nbconvert_exporter": "python",
   "pygments_lexer": "ipython3",
   "version": "3.10.16"
  }
 },
 "nbformat": 4,
 "nbformat_minor": 2
}
