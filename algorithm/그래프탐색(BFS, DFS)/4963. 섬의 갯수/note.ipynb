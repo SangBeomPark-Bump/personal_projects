{
 "cells": [
  {
   "cell_type": "code",
   "execution_count": 2,
   "metadata": {},
   "outputs": [],
   "source": [
    "verbose = True"
   ]
  },
  {
   "cell_type": "code",
   "execution_count": 3,
   "metadata": {},
   "outputs": [],
   "source": [
    "w, h = 5, 4\n",
    "raw_arr = \"\"\"1 0 1 0 0\n",
    "1 0 0 0 0\n",
    "1 0 1 0 1\n",
    "1 0 0 1 0\"\"\".split('\\n')\n",
    "\n",
    "arr =  [list(map(int,raw.split())) for raw in raw_arr ]"
   ]
  },
  {
   "cell_type": "code",
   "execution_count": 4,
   "metadata": {},
   "outputs": [
    {
     "data": {
      "text/plain": [
       "[[1, 0, 1, 0, 0], [1, 0, 0, 0, 0], [1, 0, 1, 0, 1], [1, 0, 0, 1, 0]]"
      ]
     },
     "execution_count": 4,
     "metadata": {},
     "output_type": "execute_result"
    }
   ],
   "source": [
    "arr"
   ]
  },
  {
   "cell_type": "code",
   "execution_count": 8,
   "metadata": {},
   "outputs": [
    {
     "data": {
      "text/plain": [
       "[[False, False, False, False, False],\n",
       " [False, False, False, False, False],\n",
       " [False, False, False, False, False],\n",
       " [False, False, False, False, False]]"
      ]
     },
     "execution_count": 8,
     "metadata": {},
     "output_type": "execute_result"
    }
   ],
   "source": [
    "visited = [[False] * w for _ in range(h)]\n",
    "visited"
   ]
  },
  {
   "cell_type": "code",
   "execution_count": 10,
   "metadata": {},
   "outputs": [
    {
     "name": "stdout",
     "output_type": "stream",
     "text": [
      "[1, 0, 1, 0, 0]\n",
      "[1, 0, 0, 0, 0]\n",
      "[1, 0, 1, 0, 1]\n",
      "[1, 0, 0, 1, 0]\n"
     ]
    }
   ],
   "source": [
    "for raw in arr:\n",
    "    print(raw)"
   ]
  },
  {
   "cell_type": "code",
   "execution_count": 16,
   "metadata": {},
   "outputs": [
    {
     "name": "stdout",
     "output_type": "stream",
     "text": [
      "3\n"
     ]
    }
   ],
   "source": [
    "### 방문 했는지 안했는지 알려줌\n",
    "visited = [[False] * w for _ in range(h)]\n",
    "### 이동방향(4개 - 굳이 4개나 쓸이유는 없긴한데 그냥 멋있자낭)\n",
    "dy = (1, 1, 1, 0, 0,-1,-1,-1)\n",
    "dx = (1, 0,-1, 1,-1, 1, 0,-1)\n",
    "\n",
    "def island_dfs(y, x):\n",
    "    # if verbose:\n",
    "    #     print(y, x)\n",
    "    ### visited에 넣기 (y, x임에 주의!)\n",
    "    visited[y][x] = True\n",
    "    ### 이동메커니즘\n",
    "    for i in range(8):\n",
    "        ### new_x, new_y\n",
    "        ny = y + dy[i]\n",
    "        nx = x + dx[i]\n",
    "        ### 경계면이라면 for문 거르기\n",
    "        if not(0 <= ny < h and 0 <= nx < w):\n",
    "            continue\n",
    "        ### 벽이라면 거르기\n",
    "        if arr[ny][nx] == 0:\n",
    "            continue\n",
    "        ### 방문 안했다면!\n",
    "        if not visited[ny][nx]:\n",
    "            ### 얘로 재귀함수돌리기\n",
    "            island_dfs(ny, nx)\n",
    "            #### 재귀함수라서 깊이기반 탐색이 된다. 재귀함수의 특징이야!\n",
    "\n",
    "\n",
    "cnt = 0\n",
    "for y in range(h):\n",
    "    for x in range(w):\n",
    "        if (not visited[y][x]) and (arr[y][x] == 1):\n",
    "            island_dfs(y, x)\n",
    "            cnt +=1\n",
    "\n",
    "print(cnt)"
   ]
  },
  {
   "cell_type": "code",
   "execution_count": null,
   "metadata": {},
   "outputs": [],
   "source": []
  }
 ],
 "metadata": {
  "kernelspec": {
   "display_name": "secondllm",
   "language": "python",
   "name": "python3"
  },
  "language_info": {
   "codemirror_mode": {
    "name": "ipython",
    "version": 3
   },
   "file_extension": ".py",
   "mimetype": "text/x-python",
   "name": "python",
   "nbconvert_exporter": "python",
   "pygments_lexer": "ipython3",
   "version": "3.10.16"
  }
 },
 "nbformat": 4,
 "nbformat_minor": 2
}
