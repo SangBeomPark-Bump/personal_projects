{
 "cells": [
  {
   "cell_type": "code",
   "execution_count": 1,
   "metadata": {},
   "outputs": [],
   "source": [
    "verbose = True"
   ]
  },
  {
   "cell_type": "code",
   "execution_count": 19,
   "metadata": {},
   "outputs": [],
   "source": [
    "N, M = 4, 2\n",
    "# arr = list(range(1, N))"
   ]
  },
  {
   "cell_type": "code",
   "execution_count": 20,
   "metadata": {},
   "outputs": [
    {
     "name": "stdout",
     "output_type": "stream",
     "text": [
      "1 2\n",
      "1 3\n",
      "1 4\n",
      "2 1\n",
      "2 3\n",
      "2 4\n",
      "3 1\n",
      "3 2\n",
      "3 4\n",
      "4 1\n",
      "4 2\n",
      "4 3\n"
     ]
    }
   ],
   "source": [
    "my_ans = []\n",
    "visited = [False] * (N + 1)\n",
    "def dfs(depth):\n",
    "    if depth == M:\n",
    "        print(*my_ans)\n",
    "        return\n",
    "\n",
    "    for i in range(1, N+1):\n",
    "        if visited[i]:\n",
    "            continue\n",
    "\n",
    "        visited[i] = True\n",
    "        my_ans.append(i)\n",
    "\n",
    "        dfs(depth + 1)\n",
    "\n",
    "        visited[i] = False\n",
    "        my_ans.pop()\n",
    "\n",
    "dfs(0)\n",
    "\n",
    "\n",
    "        "
   ]
  },
  {
   "cell_type": "code",
   "execution_count": null,
   "metadata": {},
   "outputs": [
    {
     "name": "stdout",
     "output_type": "stream",
     "text": [
      "1 2 0 0\n",
      "1 0 2 0\n",
      "1 0 0 2\n",
      "2 1 0 0\n",
      "0 1 2 0\n",
      "0 1 0 2\n",
      "2 0 1 0\n",
      "0 2 1 0\n",
      "0 0 1 2\n",
      "2 0 0 1\n",
      "0 2 0 1\n",
      "0 0 2 1\n"
     ]
    }
   ],
   "source": [
    "from collections import deque\n",
    "\n",
    "\n",
    "def bfs(start):\n",
    "    visited = [0] * (N + 1)\n",
    "    que = deque()\n",
    "    visited[start] = 1\n",
    "    answer = [1]\n",
    "    que.append((start, visited))\n",
    "\n",
    "    while que:\n",
    "        node, visited = que.popleft()\n",
    "        # if verbose:\n",
    "        #     print(node, visited)\n",
    "        for i in range(1, N+1):\n",
    "            new_visited = visited.copy()\n",
    "            if not new_visited[i]:\n",
    "                new_visited[i] = new_visited[node] +1\n",
    "                que.append((i, new_visited))\n",
    "                if new_visited[i] == M:\n",
    "                    _, answer =que.pop()\n",
    "                    print(' '.join(list(map(str, answer[1:]))))\n",
    "\n",
    "for i in range(1, N+1):\n",
    "    bfs(i)"
   ]
  },
  {
   "cell_type": "code",
   "execution_count": null,
   "metadata": {},
   "outputs": [],
   "source": []
  }
 ],
 "metadata": {
  "kernelspec": {
   "display_name": "secondllm",
   "language": "python",
   "name": "python3"
  },
  "language_info": {
   "codemirror_mode": {
    "name": "ipython",
    "version": 3
   },
   "file_extension": ".py",
   "mimetype": "text/x-python",
   "name": "python",
   "nbconvert_exporter": "python",
   "pygments_lexer": "ipython3",
   "version": "3.10.16"
  }
 },
 "nbformat": 4,
 "nbformat_minor": 2
}
