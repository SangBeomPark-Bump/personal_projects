{
 "cells": [
  {
   "cell_type": "code",
   "execution_count": 2,
   "metadata": {},
   "outputs": [],
   "source": [
    "verbose = True"
   ]
  },
  {
   "cell_type": "code",
   "execution_count": 16,
   "metadata": {},
   "outputs": [],
   "source": [
    "N, M = 6, 5\n",
    "\n",
    "raw_arr =  \"\"\"1 2\n",
    "2 5\n",
    "5 1\n",
    "3 4\n",
    "4 6\"\"\".split('\\n')\n",
    "\n",
    "arr_test =  [tuple(map(int,raw.split())) for raw in raw_arr ]\n",
    "arr = [[] for _ in range(N+1)]\n",
    "for u,v in arr_test:\n",
    "    arr[u].append(v)\n",
    "    arr[v].append(u)"
   ]
  },
  {
   "cell_type": "code",
   "execution_count": 17,
   "metadata": {},
   "outputs": [
    {
     "data": {
      "text/plain": [
       "[[], [2, 5], [1, 5], [4], [3, 6], [2, 1], [4]]"
      ]
     },
     "execution_count": 17,
     "metadata": {},
     "output_type": "execute_result"
    }
   ],
   "source": [
    "arr"
   ]
  },
  {
   "cell_type": "code",
   "execution_count": 21,
   "metadata": {},
   "outputs": [
    {
     "name": "stdout",
     "output_type": "stream",
     "text": [
      "2\n"
     ]
    }
   ],
   "source": [
    "visited = [False] * (N+1)\n",
    "def dfs(node):\n",
    "    # print(node)\n",
    "    visited[node] = True \n",
    "    for a in arr[node]:\n",
    "        if not visited[a]:\n",
    "            dfs(a)\n",
    "\n",
    "cnt = 0\n",
    "for i in range(1,N+1):\n",
    "    if not visited[i]:\n",
    "        dfs(i)\n",
    "        cnt +=1\n",
    "\n",
    "print(cnt)\n",
    "\n"
   ]
  },
  {
   "cell_type": "code",
   "execution_count": null,
   "metadata": {},
   "outputs": [
    {
     "name": "stdout",
     "output_type": "stream",
     "text": [
      "0\n"
     ]
    }
   ],
   "source": []
  }
 ],
 "metadata": {
  "kernelspec": {
   "display_name": "secondllm",
   "language": "python",
   "name": "python3"
  },
  "language_info": {
   "codemirror_mode": {
    "name": "ipython",
    "version": 3
   },
   "file_extension": ".py",
   "mimetype": "text/x-python",
   "name": "python",
   "nbconvert_exporter": "python",
   "pygments_lexer": "ipython3",
   "version": "3.10.16"
  }
 },
 "nbformat": 4,
 "nbformat_minor": 2
}
