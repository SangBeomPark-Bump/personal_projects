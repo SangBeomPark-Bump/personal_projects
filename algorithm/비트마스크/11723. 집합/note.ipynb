{
 "cells": [
  {
   "cell_type": "code",
   "execution_count": 2,
   "metadata": {},
   "outputs": [],
   "source": [
    "verbose = True\n",
    "verboses = [True for _ in range(10)]"
   ]
  },
  {
   "cell_type": "code",
   "execution_count": 40,
   "metadata": {},
   "outputs": [],
   "source": [
    "N = 26\n",
    "arr =  list(map(int, \"9 9 4 1 4 9 6\".split()))\n",
    "\n",
    "raw_arr = \"\"\"add 1\n",
    "add 2\n",
    "check 1\n",
    "check 2\n",
    "check 3\n",
    "remove 2\n",
    "check 1\n",
    "check 2\n",
    "toggle 3\n",
    "check 1\n",
    "check 2\n",
    "check 3\n",
    "check 4\n",
    "all\n",
    "check 10\n",
    "check 20\n",
    "toggle 10\n",
    "remove 20\n",
    "check 10\n",
    "check 20\n",
    "empty\n",
    "check 1\n",
    "toggle 1\n",
    "check 1\n",
    "toggle 1\n",
    "check 1\"\"\".split('\\n')\n",
    "\n"
   ]
  },
  {
   "cell_type": "code",
   "execution_count": 45,
   "metadata": {},
   "outputs": [],
   "source": [
    "S = set()\n",
    "def test(input_str):\n",
    "    global S\n",
    "    if input_str == 'empty':\n",
    "        S = set()\n",
    "    elif input_str == 'all':\n",
    "        S = set(range(1, 21))\n",
    "    else:\n",
    "        com, number = tuple(input_str.split())\n",
    "        number = int(number)\n",
    "        if com == 'add':\n",
    "            S.add(number)\n",
    "        elif com == 'remove' and number in S:\n",
    "            S.remove(number)\n",
    "        elif com == 'check':\n",
    "            print(int( number in S ))\n",
    "        elif com == 'toggle':\n",
    "            S.add(number) if number not in S else S.remove(number)"
   ]
  },
  {
   "cell_type": "markdown",
   "metadata": {},
   "source": [
    "### 비트마스크를 쓰면 어떨까???"
   ]
  },
  {
   "cell_type": "code",
   "execution_count": 75,
   "metadata": {},
   "outputs": [],
   "source": [
    "X = 0\n",
    "\n",
    "def check(number):\n",
    "    global X\n",
    "    return (X & 1<<number-1)\n",
    "\n",
    "def test(input_str):\n",
    "    global X\n",
    "    if input_str == 'empty':\n",
    "        X = 0 \n",
    "    elif input_str == 'all':\n",
    "        X = (2**20-1)\n",
    "    else:\n",
    "        com, number = tuple(input_str.split())\n",
    "        number = int(number)\n",
    "        if com == 'add' and not check(number):\n",
    "            X += (1<< number-1)\n",
    "        elif com == 'remove' and check(number):\n",
    "            X -= (1<< number-1)\n",
    "        elif com == 'check':\n",
    "            print(1 if check(number) else 0)\n",
    "        elif com == 'toggle':\n",
    "            X += (-(1<< number-1)) if check(number) else (1<<number-1)"
   ]
  },
  {
   "cell_type": "code",
   "execution_count": null,
   "metadata": {},
   "outputs": [
    {
     "name": "stdout",
     "output_type": "stream",
     "text": [
      "0b0\n",
      "add 1 0b1\n",
      "add 2 0b11\n",
      "1\n",
      "check 1 0b11\n",
      "1\n",
      "check 2 0b11\n",
      "0\n",
      "check 3 0b11\n",
      "remove 2 0b1\n",
      "1\n",
      "check 1 0b1\n",
      "0\n",
      "check 2 0b1\n",
      "toggle 3 0b101\n",
      "1\n",
      "check 1 0b101\n",
      "0\n",
      "check 2 0b101\n",
      "1\n",
      "check 3 0b101\n",
      "0\n",
      "check 4 0b101\n",
      "all 0b11111111111111111111\n",
      "1\n",
      "check 10 0b11111111111111111111\n",
      "1\n",
      "check 20 0b11111111111111111111\n",
      "toggle 10 0b11111111110111111111\n",
      "remove 20 0b1111111110111111111\n",
      "0\n",
      "check 10 0b1111111110111111111\n",
      "0\n",
      "check 20 0b1111111110111111111\n",
      "empty 0b0\n",
      "0\n",
      "check 1 0b0\n",
      "toggle 1 0b1\n",
      "1\n",
      "check 1 0b1\n",
      "toggle 1 0b0\n",
      "0\n",
      "check 1 0b0\n"
     ]
    }
   ],
   "source": [
    "print(bin(X))\n",
    "for i in raw_arr:\n",
    "    test(i)\n",
    "    print(i, bin(X))"
   ]
  },
  {
   "cell_type": "code",
   "execution_count": 65,
   "metadata": {},
   "outputs": [
    {
     "data": {
      "text/plain": [
       "17"
      ]
     },
     "execution_count": 65,
     "metadata": {},
     "output_type": "execute_result"
    }
   ],
   "source": [
    "number = 5\n",
    "1 + (1<< number-1)"
   ]
  }
 ],
 "metadata": {
  "kernelspec": {
   "display_name": "secondllm",
   "language": "python",
   "name": "python3"
  },
  "language_info": {
   "codemirror_mode": {
    "name": "ipython",
    "version": 3
   },
   "file_extension": ".py",
   "mimetype": "text/x-python",
   "name": "python",
   "nbconvert_exporter": "python",
   "pygments_lexer": "ipython3",
   "version": "3.10.16"
  }
 },
 "nbformat": 4,
 "nbformat_minor": 2
}
