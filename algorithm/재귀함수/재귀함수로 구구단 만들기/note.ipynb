{
 "cells": [
  {
   "cell_type": "code",
   "execution_count": 1,
   "metadata": {},
   "outputs": [],
   "source": [
    "verbose = True\n",
    "verboses = [True for _ in range(10)]"
   ]
  },
  {
   "cell_type": "code",
   "execution_count": 2,
   "metadata": {},
   "outputs": [],
   "source": [
    "N = 7\n",
    "arr =  list(map(int, \"9 9 4 1 4 9 6\".split()))"
   ]
  },
  {
   "cell_type": "code",
   "execution_count": 11,
   "metadata": {},
   "outputs": [],
   "source": [
    "def gugu_for(n : int):\n",
    "    for i in range(1, 10):\n",
    "        print(f'{n} X {i} = {n * i}')"
   ]
  },
  {
   "cell_type": "code",
   "execution_count": 12,
   "metadata": {},
   "outputs": [
    {
     "name": "stdout",
     "output_type": "stream",
     "text": [
      "7 X 1 = 7\n",
      "7 X 2 = 14\n",
      "7 X 3 = 21\n",
      "7 X 4 = 28\n",
      "7 X 5 = 35\n",
      "7 X 6 = 42\n",
      "7 X 7 = 49\n",
      "7 X 8 = 56\n",
      "7 X 9 = 63\n"
     ]
    }
   ],
   "source": [
    "gugu_for(7)"
   ]
  },
  {
   "cell_type": "code",
   "execution_count": 21,
   "metadata": {},
   "outputs": [],
   "source": [
    "def gugu_recursion(n : int, dan : int = None):\n",
    "    if dan is None:\n",
    "        dan = 1\n",
    "    print(f'{n} X {dan} = {n * dan}')\n",
    "    if dan == 9:\n",
    "        return\n",
    "    gugu_recursion(n, dan+1)"
   ]
  },
  {
   "cell_type": "code",
   "execution_count": null,
   "metadata": {},
   "outputs": [
    {
     "name": "stdout",
     "output_type": "stream",
     "text": [
      "7 X 1 = 7\n",
      "7 X 2 = 14\n",
      "7 X 3 = 21\n",
      "7 X 4 = 28\n",
      "7 X 5 = 35\n",
      "7 X 6 = 42\n",
      "7 X 7 = 49\n",
      "7 X 8 = 56\n",
      "7 X 9 = 63\n"
     ]
    }
   ],
   "source": [
    "gugu_recursion(7)"
   ]
  },
  {
   "cell_type": "code",
   "execution_count": 55,
   "metadata": {},
   "outputs": [],
   "source": [
    "def gugu_recursion_plus(n : int = None, dan : int = None):\n",
    "    if dan is None:\n",
    "        dan = 1\n",
    "    if n is None:\n",
    "        n = 1\n",
    "    if dan == 9:\n",
    "        return\n",
    "    \n",
    "    for i in range(9):\n",
    "        print(f'{n+i} X {dan} = {(n+i) * dan}')\n",
    "        gugu_recursion(n+i, dan+1)\n",
    "        print('-'* 30 , f'{n+i}단', '-' * 30)\n",
    "\n"
   ]
  },
  {
   "cell_type": "code",
   "execution_count": 103,
   "metadata": {},
   "outputs": [],
   "source": [
    "# def gugu_recursion_n(n: int):\n",
    "#     if n == 9:\n",
    "#         return\n",
    "#     print('야호')\n",
    "#     gugu_recursion_super(n+1)\n",
    "\n",
    "\n",
    "def gugu_recursion_super(n : int = None, dan : int = None):\n",
    "    if n == 10:\n",
    "        return\n",
    "    if dan == 10:\n",
    "        print('-' * 50)\n",
    "        gugu_recursion_super(n+1)\n",
    "        return\n",
    "    if dan is None:\n",
    "        print(f'{n}단{\"-\" * 48}')\n",
    "        dan = 1\n",
    "    if n is None:\n",
    "        n = 1\n",
    "    \n",
    "    print(f'{n} X {dan} = {(n) * dan}')\n",
    "    gugu_recursion_super(n, dan+1)"
   ]
  },
  {
   "cell_type": "code",
   "execution_count": 104,
   "metadata": {},
   "outputs": [
    {
     "name": "stdout",
     "output_type": "stream",
     "text": [
      "1단------------------------------------------------\n",
      "1 X 1 = 1\n",
      "1 X 2 = 2\n",
      "1 X 3 = 3\n",
      "1 X 4 = 4\n",
      "1 X 5 = 5\n",
      "1 X 6 = 6\n",
      "1 X 7 = 7\n",
      "1 X 8 = 8\n",
      "1 X 9 = 9\n",
      "--------------------------------------------------\n",
      "2단------------------------------------------------\n",
      "2 X 1 = 2\n",
      "2 X 2 = 4\n",
      "2 X 3 = 6\n",
      "2 X 4 = 8\n",
      "2 X 5 = 10\n",
      "2 X 6 = 12\n",
      "2 X 7 = 14\n",
      "2 X 8 = 16\n",
      "2 X 9 = 18\n",
      "--------------------------------------------------\n",
      "3단------------------------------------------------\n",
      "3 X 1 = 3\n",
      "3 X 2 = 6\n",
      "3 X 3 = 9\n",
      "3 X 4 = 12\n",
      "3 X 5 = 15\n",
      "3 X 6 = 18\n",
      "3 X 7 = 21\n",
      "3 X 8 = 24\n",
      "3 X 9 = 27\n",
      "--------------------------------------------------\n",
      "4단------------------------------------------------\n",
      "4 X 1 = 4\n",
      "4 X 2 = 8\n",
      "4 X 3 = 12\n",
      "4 X 4 = 16\n",
      "4 X 5 = 20\n",
      "4 X 6 = 24\n",
      "4 X 7 = 28\n",
      "4 X 8 = 32\n",
      "4 X 9 = 36\n",
      "--------------------------------------------------\n",
      "5단------------------------------------------------\n",
      "5 X 1 = 5\n",
      "5 X 2 = 10\n",
      "5 X 3 = 15\n",
      "5 X 4 = 20\n",
      "5 X 5 = 25\n",
      "5 X 6 = 30\n",
      "5 X 7 = 35\n",
      "5 X 8 = 40\n",
      "5 X 9 = 45\n",
      "--------------------------------------------------\n",
      "6단------------------------------------------------\n",
      "6 X 1 = 6\n",
      "6 X 2 = 12\n",
      "6 X 3 = 18\n",
      "6 X 4 = 24\n",
      "6 X 5 = 30\n",
      "6 X 6 = 36\n",
      "6 X 7 = 42\n",
      "6 X 8 = 48\n",
      "6 X 9 = 54\n",
      "--------------------------------------------------\n",
      "7단------------------------------------------------\n",
      "7 X 1 = 7\n",
      "7 X 2 = 14\n",
      "7 X 3 = 21\n",
      "7 X 4 = 28\n",
      "7 X 5 = 35\n",
      "7 X 6 = 42\n",
      "7 X 7 = 49\n",
      "7 X 8 = 56\n",
      "7 X 9 = 63\n",
      "--------------------------------------------------\n",
      "8단------------------------------------------------\n",
      "8 X 1 = 8\n",
      "8 X 2 = 16\n",
      "8 X 3 = 24\n",
      "8 X 4 = 32\n",
      "8 X 5 = 40\n",
      "8 X 6 = 48\n",
      "8 X 7 = 56\n",
      "8 X 8 = 64\n",
      "8 X 9 = 72\n",
      "--------------------------------------------------\n",
      "9단------------------------------------------------\n",
      "9 X 1 = 9\n",
      "9 X 2 = 18\n",
      "9 X 3 = 27\n",
      "9 X 4 = 36\n",
      "9 X 5 = 45\n",
      "9 X 6 = 54\n",
      "9 X 7 = 63\n",
      "9 X 8 = 72\n",
      "9 X 9 = 81\n",
      "--------------------------------------------------\n"
     ]
    }
   ],
   "source": [
    "gugu_recursion_super(1)"
   ]
  },
  {
   "cell_type": "code",
   "execution_count": null,
   "metadata": {},
   "outputs": [],
   "source": [
    "def recursion_ultra(n : int, n1: int = None, n2: int = None, n3 : int = None):\n",
    "    if n1 is None:\n",
    "        n1 = 0\n",
    "    \n",
    "    if n2 is None:\n",
    "        n2 = 0\n",
    "\n",
    "    if n3 is None:\n",
    "        n3 = 0\n",
    "    \n",
    "    if n1 == n:\n",
    "        recursion_ultra(n, 0, n2+1, n3)\n",
    "        return\n",
    "    \n",
    "    if n2 == n:\n",
    "        recursion_ultra(n, 0, 0, n3+1)\n",
    "        return\n",
    "    \n",
    "    if n3 == n:\n",
    "        return\n",
    "\n",
    "    print(f'n1 = {n1}, n2 = {n2}, n3 = {n3}')\n",
    "    recursion_ultra(n, n1+1, n2, n3)\n",
    "    \n"
   ]
  },
  {
   "cell_type": "code",
   "execution_count": 130,
   "metadata": {},
   "outputs": [
    {
     "name": "stdout",
     "output_type": "stream",
     "text": [
      "n1 = 0, n2 = 0, n3 = 0\n",
      "n1 = 1, n2 = 0, n3 = 0\n",
      "n1 = 2, n2 = 0, n3 = 0\n",
      "3 0 0\n",
      "n1 = 0, n2 = 1, n3 = 0\n",
      "n1 = 1, n2 = 1, n3 = 0\n",
      "n1 = 2, n2 = 1, n3 = 0\n",
      "3 1 0\n",
      "n1 = 0, n2 = 2, n3 = 0\n",
      "n1 = 1, n2 = 2, n3 = 0\n",
      "n1 = 2, n2 = 2, n3 = 0\n",
      "3 2 0\n",
      "0 3 0\n",
      "n1 = 0, n2 = 0, n3 = 1\n",
      "n1 = 1, n2 = 0, n3 = 1\n",
      "n1 = 2, n2 = 0, n3 = 1\n",
      "3 0 1\n",
      "n1 = 0, n2 = 1, n3 = 1\n",
      "n1 = 1, n2 = 1, n3 = 1\n",
      "n1 = 2, n2 = 1, n3 = 1\n",
      "3 1 1\n",
      "n1 = 0, n2 = 2, n3 = 1\n",
      "n1 = 1, n2 = 2, n3 = 1\n",
      "n1 = 2, n2 = 2, n3 = 1\n",
      "3 2 1\n",
      "0 3 1\n",
      "n1 = 0, n2 = 0, n3 = 2\n",
      "n1 = 1, n2 = 0, n3 = 2\n",
      "n1 = 2, n2 = 0, n3 = 2\n",
      "3 0 2\n",
      "n1 = 0, n2 = 1, n3 = 2\n",
      "n1 = 1, n2 = 1, n3 = 2\n",
      "n1 = 2, n2 = 1, n3 = 2\n",
      "3 1 2\n",
      "n1 = 0, n2 = 2, n3 = 2\n",
      "n1 = 1, n2 = 2, n3 = 2\n",
      "n1 = 2, n2 = 2, n3 = 2\n",
      "3 2 2\n",
      "0 3 2\n",
      "0 0 3\n"
     ]
    }
   ],
   "source": [
    "import sys\n",
    "sys.setrecursionlimit(100)\n",
    "recursion_ultra(3)"
   ]
  },
  {
   "cell_type": "code",
   "execution_count": null,
   "metadata": {},
   "outputs": [],
   "source": []
  }
 ],
 "metadata": {
  "kernelspec": {
   "display_name": "secondllm",
   "language": "python",
   "name": "python3"
  },
  "language_info": {
   "codemirror_mode": {
    "name": "ipython",
    "version": 3
   },
   "file_extension": ".py",
   "mimetype": "text/x-python",
   "name": "python",
   "nbconvert_exporter": "python",
   "pygments_lexer": "ipython3",
   "version": "3.10.16"
  }
 },
 "nbformat": 4,
 "nbformat_minor": 2
}
