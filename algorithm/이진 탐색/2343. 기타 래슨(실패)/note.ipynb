{
 "cells": [
  {
   "cell_type": "code",
   "execution_count": 1,
   "metadata": {},
   "outputs": [],
   "source": [
    "verbose = True"
   ]
  },
  {
   "cell_type": "code",
   "execution_count": 2,
   "metadata": {},
   "outputs": [],
   "source": [
    "N, M = 9, 3\n",
    "arr =  list(map(int, \"1 2 3 4 5 6 7 8 9\".split()))"
   ]
  },
  {
   "cell_type": "code",
   "execution_count": 34,
   "metadata": {},
   "outputs": [],
   "source": [
    "N, M = 1, 1\n",
    "arr =  list(map(int, \"2\".split()))"
   ]
  },
  {
   "cell_type": "code",
   "execution_count": 35,
   "metadata": {},
   "outputs": [
    {
     "data": {
      "text/plain": [
       "[2]"
      ]
     },
     "execution_count": 35,
     "metadata": {},
     "output_type": "execute_result"
    }
   ],
   "source": [
    "arr"
   ]
  },
  {
   "cell_type": "code",
   "execution_count": 36,
   "metadata": {},
   "outputs": [
    {
     "data": {
      "text/plain": [
       "[0, 2]"
      ]
     },
     "execution_count": 36,
     "metadata": {},
     "output_type": "execute_result"
    }
   ],
   "source": [
    "sum_arr = [0]\n",
    "for i in range(N):\n",
    "    sum_arr.append(arr[i] +sum_arr[i])\n",
    "# sum_arr =  sum_arr[1:]\n",
    "sum_arr"
   ]
  },
  {
   "cell_type": "code",
   "execution_count": 37,
   "metadata": {},
   "outputs": [
    {
     "name": "stdout",
     "output_type": "stream",
     "text": [
      "temp, factor, cnt : (2, 0, 2)\n",
      "start_num, end_num, cur_num, cnt : (1, 2, 1, 2)\n",
      "--------------------------------------------------------------------------------------------------------------------------------------------------------------------------------------------------------\n",
      "temp, factor, cnt : (2, 0, 1)\n",
      "start_num, end_num, cur_num, cnt : (2, 2, 2, 1)\n",
      "--------------------------------------------------------------------------------------------------------------------------------------------------------------------------------------------------------\n",
      "2 1 2\n"
     ]
    }
   ],
   "source": [
    "start_num = sum_arr[-1] // M-1\n",
    "end_num = sum_arr[-1]\n",
    "# iter = 0\n",
    "\n",
    "while start_num <= end_num:\n",
    "    # iter +=1\n",
    "    factor = 0\n",
    "    cnt = 1\n",
    "    cur_num = (start_num + end_num)// 2\n",
    "\n",
    "    for i in  range(1,N+1):\n",
    "        temp = sum_arr[i] - factor\n",
    "        if temp > cur_num:\n",
    "            factor = sum_arr[i-1]\n",
    "            cnt +=1\n",
    "        if verbose:\n",
    "            print(f'temp, factor, cnt : {temp, factor, cnt}')\n",
    "    if verbose:\n",
    "        print(f'start_num, end_num, cur_num, cnt : {start_num, end_num, cur_num, cnt}')\n",
    "        print('----' * 50)\n",
    "\n",
    "    if cnt <= M:\n",
    "        end_num = cur_num -1\n",
    "    else:\n",
    "        start_num = cur_num +1\n",
    "    # if iter >100:\n",
    "    #     break\n",
    "print(start_num, end_num, cur_num)\n",
    "\n"
   ]
  },
  {
   "cell_type": "markdown",
   "metadata": {},
   "source": [
    "### 정답코드.."
   ]
  },
  {
   "cell_type": "code",
   "execution_count": null,
   "metadata": {},
   "outputs": [
    {
     "data": {
      "text/plain": [
       "3123"
      ]
     },
     "execution_count": 23,
     "metadata": {},
     "output_type": "execute_result"
    }
   ],
   "source": [
    "while left <= right:\n",
    "    mid = (left + right) // 2\n",
    "    cnt, total = 1, 0\n",
    "    for d in disc:\n",
    "        if total + d <= mid:\n",
    "            total += d\n",
    "        else:\n",
    "            total = d\n",
    "            cnt += 1\n",
    "\n",
    "    if M < cnt:\n",
    "        left = mid + 1\n",
    "    else:\n",
    "        right = mid - 1\n",
    "\n",
    "print(left)\n"
   ]
  },
  {
   "cell_type": "code",
   "execution_count": null,
   "metadata": {},
   "outputs": [
    {
     "data": {
      "text/plain": [
       "[1, 3, 6, 10, 15, 21, 28, 36, 45]"
      ]
     },
     "execution_count": 6,
     "metadata": {},
     "output_type": "execute_result"
    }
   ],
   "source": [
    " "
   ]
  },
  {
   "cell_type": "code",
   "execution_count": 17,
   "metadata": {},
   "outputs": [
    {
     "name": "stdout",
     "output_type": "stream",
     "text": [
      "temp, factor, cnt : (1, 0, 1)\n",
      "temp, factor, cnt : (3, 0, 1)\n",
      "temp, factor, cnt : (6, 0, 1)\n",
      "temp, factor, cnt : (10, 0, 1)\n",
      "temp, factor, cnt : (15, 0, 1)\n",
      "temp, factor, cnt : (21, 15, 2)\n",
      "temp, factor, cnt : (13, 15, 2)\n",
      "temp, factor, cnt : (21, 28, 3)\n",
      "temp, factor, cnt : (17, 36, 4)\n"
     ]
    }
   ],
   "source": [
    "# temp_sumarr =  sum_arr + [46]\n",
    "\n",
    "factor = 0\n",
    "cnt = 1\n",
    "cur_num = 15\n",
    "\n",
    "for i in  range(N):\n",
    "    temp = sum_arr[i] - factor\n",
    "    if temp > cur_num:\n",
    "        factor += sum_arr[i-1] - factor\n",
    "        cnt +=1\n",
    "    if verbose:\n",
    "        print(f'temp, factor, cnt : {temp, factor, cnt}')"
   ]
  },
  {
   "cell_type": "code",
   "execution_count": null,
   "metadata": {},
   "outputs": [],
   "source": []
  },
  {
   "cell_type": "code",
   "execution_count": null,
   "metadata": {},
   "outputs": [],
   "source": []
  },
  {
   "cell_type": "code",
   "execution_count": null,
   "metadata": {},
   "outputs": [],
   "source": []
  }
 ],
 "metadata": {
  "kernelspec": {
   "display_name": "secondllm",
   "language": "python",
   "name": "python3"
  },
  "language_info": {
   "codemirror_mode": {
    "name": "ipython",
    "version": 3
   },
   "file_extension": ".py",
   "mimetype": "text/x-python",
   "name": "python",
   "nbconvert_exporter": "python",
   "pygments_lexer": "ipython3",
   "version": "3.10.16"
  }
 },
 "nbformat": 4,
 "nbformat_minor": 2
}
