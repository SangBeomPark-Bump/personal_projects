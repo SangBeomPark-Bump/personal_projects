{
 "cells": [
  {
   "cell_type": "code",
   "execution_count": 2,
   "metadata": {},
   "outputs": [],
   "source": [
    "verbose = True"
   ]
  },
  {
   "cell_type": "code",
   "execution_count": 14,
   "metadata": {},
   "outputs": [
    {
     "data": {
      "text/plain": [
       "[[], [3, 2, 3], [1], [1, 1], [5, 6], [4, 5, 5], [4, 7], [6]]"
      ]
     },
     "execution_count": 14,
     "metadata": {},
     "output_type": "execute_result"
    }
   ],
   "source": [
    "N= 7\n",
    "raw_arr =  \"\"\"3\n",
    "1\n",
    "1\n",
    "5\n",
    "5\n",
    "4\n",
    "6\"\"\".split('\\n')\n",
    "\n",
    "arr_test = [[]] + [[i] + list(map(int,raw)) for i, raw in enumerate(raw_arr, start=1) ]\n",
    "\n",
    "\n",
    "arr = [[] for _ in range(N+1)]\n",
    "\n",
    "for i in range(1, N+1):\n",
    "    arr[i].append(arr_test[i][1])\n",
    "    arr[arr_test[i][1]].append(i)\n",
    "\n",
    "arr"
   ]
  },
  {
   "cell_type": "code",
   "execution_count": 86,
   "metadata": {},
   "outputs": [],
   "source": [
    "N= 7\n",
    "raw_arr =  \"\"\"3\n",
    "1\n",
    "1\n",
    "5\n",
    "5\n",
    "4\n",
    "6\"\"\".split('\\n')\n",
    "\n",
    "arr = [0] + list(map(int, raw_arr))\n",
    "\n",
    "\n",
    "# arr = [set() for _ in range(N+1)]\n",
    "\n",
    "# same = 0\n",
    "# for i in range(1, N+1):\n",
    "#     if i != arr_test[i][1]:\n",
    "#         arr[i].add(arr_test[i][1])\n",
    "#         arr[arr_test[i][1]].add(i)\n",
    "#     else:\n",
    "#         same +=1\n",
    "        \n",
    "\n",
    "# arr"
   ]
  },
  {
   "cell_type": "code",
   "execution_count": 87,
   "metadata": {},
   "outputs": [
    {
     "data": {
      "text/plain": [
       "[0, 3, 1, 1, 5, 5, 4, 6]"
      ]
     },
     "execution_count": 87,
     "metadata": {},
     "output_type": "execute_result"
    }
   ],
   "source": [
    "arr"
   ]
  },
  {
   "cell_type": "code",
   "execution_count": 88,
   "metadata": {},
   "outputs": [
    {
     "name": "stdout",
     "output_type": "stream",
     "text": [
      "1 3 1\n",
      "2 1 1\n",
      "1 3 2\n",
      "3 1 1\n",
      "4 5 1\n",
      "6 4 1\n",
      "4 5 2\n",
      "7 6 1\n",
      "6 4 2\n",
      "4 5 3\n"
     ]
    },
    {
     "data": {
      "text/plain": [
       "3"
      ]
     },
     "execution_count": 88,
     "metadata": {},
     "output_type": "execute_result"
    }
   ],
   "source": [
    "from collections import deque\n",
    "\n",
    "def simple_bfs(node):\n",
    "    visited = [False] * (N+1)\n",
    "    visited[node] = True\n",
    "    que = deque()\n",
    "    que.append(node)\n",
    "    length = 1\n",
    "    while que:\n",
    "        cur_node = que.popleft()\n",
    "        next_node = arr[cur_node]\n",
    "\n",
    "        if not visited[next_node]:\n",
    "            visited[next_node] = True\n",
    "            que.append(next_node)\n",
    "            if verbose:\n",
    "                print(cur_node, next_node, length)\n",
    "            length +=1\n",
    "    return int(node == next_node)\n",
    "\n",
    "result = 0\n",
    "for i in range(1, N+1):\n",
    "    result += simple_bfs(i)\n",
    "result"
   ]
  },
  {
   "cell_type": "code",
   "execution_count": null,
   "metadata": {},
   "outputs": [],
   "source": []
  }
 ],
 "metadata": {
  "kernelspec": {
   "display_name": "secondllm",
   "language": "python",
   "name": "python3"
  },
  "language_info": {
   "codemirror_mode": {
    "name": "ipython",
    "version": 3
   },
   "file_extension": ".py",
   "mimetype": "text/x-python",
   "name": "python",
   "nbconvert_exporter": "python",
   "pygments_lexer": "ipython3",
   "version": "3.10.16"
  }
 },
 "nbformat": 4,
 "nbformat_minor": 2
}
