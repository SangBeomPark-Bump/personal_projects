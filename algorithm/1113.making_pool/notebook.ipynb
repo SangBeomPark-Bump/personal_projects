{
 "cells": [
  {
   "cell_type": "code",
   "execution_count": 1,
   "metadata": {},
   "outputs": [],
   "source": [
    "N = 3\n",
    "M = 5"
   ]
  },
  {
   "cell_type": "code",
   "execution_count": 2,
   "metadata": {},
   "outputs": [],
   "source": [
    "inputs = [16661, 61116, 16661]"
   ]
  },
  {
   "cell_type": "code",
   "execution_count": 5,
   "metadata": {},
   "outputs": [
    {
     "name": "stdout",
     "output_type": "stream",
     "text": [
      "16661\n",
      "61116\n",
      "16661\n"
     ]
    }
   ],
   "source": [
    "for i in inputs:\n",
    "    print(i)"
   ]
  },
  {
   "cell_type": "code",
   "execution_count": null,
   "metadata": {},
   "outputs": [],
   "source": []
  },
  {
   "cell_type": "code",
   "execution_count": null,
   "metadata": {},
   "outputs": [],
   "source": [
    "\n",
    "from collections import deque\n",
    "import sys\n",
    "input = sys.stdin.readline\n",
    "\n",
    "\n"
   ]
  },
  {
   "cell_type": "code",
   "execution_count": null,
   "metadata": {},
   "outputs": [
    {
     "data": {
      "text/plain": [
       "[1, 6, 6, 6, 1]"
      ]
     },
     "execution_count": 14,
     "metadata": {},
     "output_type": "execute_result"
    }
   ],
   "source": []
  },
  {
   "cell_type": "code",
   "execution_count": 33,
   "metadata": {},
   "outputs": [],
   "source": [
    "from collections import deque\n",
    "import sys\n",
    "input = sys.stdin.readline\n",
    "\n",
    "dx = [0, 0, -1, 1]\n",
    "dy = [-1, 1, 0, 0]\n",
    "\n",
    "# N, M = map(int, input().split())\n",
    "N, M = 3, 5\n",
    "\n",
    "\n",
    "# map_list = [list(map(int, input().strip())) for _ in range(N)]\n",
    "inputs = [16661, 61116, 16661]\n",
    "map_list =  [list(map(int,list(str(i)))) for i in inputs]\n",
    "result = 0"
   ]
  },
  {
   "cell_type": "code",
   "execution_count": 34,
   "metadata": {},
   "outputs": [
    {
     "name": "stdout",
     "output_type": "stream",
     "text": [
      "0 set()\n",
      "0 set()\n",
      "0 set()\n",
      "0 set()\n",
      "0 set()\n",
      "0 set()\n",
      "6 {(3, 1), (1, 1), (2, 1)}\n",
      "15\n",
      "0 set()\n",
      "0 set()\n",
      "0 set()\n",
      "0 set()\n",
      "0 set()\n",
      "0 set()\n",
      "0 set()\n",
      "0 set()\n",
      "15\n"
     ]
    }
   ],
   "source": [
    "\n",
    "\n",
    "def bfs(x, y) :\n",
    "  q = deque([(x, y)])\n",
    "\n",
    "  init_val = map_list[y][x]\n",
    "  min_border = 10\n",
    "  result = set()\n",
    "  result.add((x, y))\n",
    "  while q :\n",
    "    x, y = q.popleft()\n",
    "    for k in range(4) :\n",
    "      ax, ay = x + dx[k], y + dy[k]\n",
    "      if not (-1 < ax < M and -1 < ay < N) :\n",
    "        return 0, set()\n",
    "      if map_list[ay][ax] <= init_val and (ax, ay) not in result :\n",
    "        result.add((ax, ay))\n",
    "        q.append((ax, ay))\n",
    "      elif map_list[ay][ax] > init_val :\n",
    "        min_border = min(min_border, map_list[ay][ax])\n",
    "\n",
    "  return min_border, result\n",
    "\n",
    "def fill(val, coord_set) :\n",
    "  global result\n",
    "  for x, y in coord_set :\n",
    "    result += val - map_list[y][x]\n",
    "    map_list[y][x] = val\n",
    "\n",
    "for i in range(N) :\n",
    "  for j in range(M) :\n",
    "    val, coord_set = bfs(j, i)\n",
    "    print(val, coord_set)\n",
    "    if coord_set :\n",
    "      fill(val, coord_set)\n",
    "      print(result)\n",
    "\n",
    "print(result)\n"
   ]
  },
  {
   "cell_type": "code",
   "execution_count": 35,
   "metadata": {},
   "outputs": [
    {
     "data": {
      "text/plain": [
       "[[1, 6, 6, 6, 1], [6, 6, 6, 6, 6], [1, 6, 6, 6, 1]]"
      ]
     },
     "execution_count": 35,
     "metadata": {},
     "output_type": "execute_result"
    }
   ],
   "source": [
    "map_list"
   ]
  },
  {
   "cell_type": "code",
   "execution_count": 10,
   "metadata": {},
   "outputs": [
    {
     "name": "stdout",
     "output_type": "stream",
     "text": [
      "16661\n",
      "61116\n",
      "16661\n"
     ]
    }
   ],
   "source": [
    "for i in inputs:\n",
    "    print(i)"
   ]
  },
  {
   "cell_type": "code",
   "execution_count": 24,
   "metadata": {},
   "outputs": [
    {
     "name": "stdout",
     "output_type": "stream",
     "text": [
      "(0, set())\n"
     ]
    }
   ],
   "source": [
    "print(bfs(2,2))"
   ]
  },
  {
   "cell_type": "code",
   "execution_count": null,
   "metadata": {},
   "outputs": [],
   "source": []
  },
  {
   "cell_type": "code",
   "execution_count": null,
   "metadata": {},
   "outputs": [],
   "source": []
  }
 ],
 "metadata": {
  "kernelspec": {
   "display_name": "secondllm",
   "language": "python",
   "name": "python3"
  },
  "language_info": {
   "codemirror_mode": {
    "name": "ipython",
    "version": 3
   },
   "file_extension": ".py",
   "mimetype": "text/x-python",
   "name": "python",
   "nbconvert_exporter": "python",
   "pygments_lexer": "ipython3",
   "version": "3.10.16"
  }
 },
 "nbformat": 4,
 "nbformat_minor": 2
}
