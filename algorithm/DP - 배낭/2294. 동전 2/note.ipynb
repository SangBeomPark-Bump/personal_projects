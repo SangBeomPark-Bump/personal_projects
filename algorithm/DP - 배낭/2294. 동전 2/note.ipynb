{
 "cells": [
  {
   "cell_type": "code",
   "execution_count": 3,
   "metadata": {},
   "outputs": [],
   "source": [
    "verbose = True\n",
    "verboses = [True for _ in range(10)]"
   ]
  },
  {
   "cell_type": "code",
   "execution_count": 32,
   "metadata": {},
   "outputs": [],
   "source": [
    "N, K = 3, 15\n",
    "raw_arr = \"\"\"2\n",
    "6\n",
    "12\"\"\".split('\\n')\n",
    "\n",
    "arr =  [0] + list(set([int(row) for row in raw_arr]))"
   ]
  },
  {
   "cell_type": "code",
   "execution_count": 33,
   "metadata": {},
   "outputs": [],
   "source": [
    "# N, K = 3, 15\n",
    "# raw_arr = \"\"\"1\n",
    "# 3\n",
    "# 12\"\"\".split('\\n')\n",
    "\n",
    "arr =  list(set([int(row) for row in raw_arr]))"
   ]
  },
  {
   "cell_type": "code",
   "execution_count": 34,
   "metadata": {},
   "outputs": [
    {
     "data": {
      "text/plain": [
       "[2, 12, 6]"
      ]
     },
     "execution_count": 34,
     "metadata": {},
     "output_type": "execute_result"
    }
   ],
   "source": [
    "arr"
   ]
  },
  {
   "cell_type": "code",
   "execution_count": null,
   "metadata": {},
   "outputs": [
    {
     "name": "stdout",
     "output_type": "stream",
     "text": [
      "inf\n"
     ]
    }
   ],
   "source": [
    "# dp = [[[0,0]] + [[0,float('inf')]] * (K) for _ in range(N+1)]\n",
    "\n",
    "# for n in range(1,N+1):\n",
    "#     for k in range(1, K+1):\n",
    "#         # print(arr[n])\n",
    "#         prev = k - arr[n-1]\n",
    "\n",
    "#         case1 = 0\n",
    "#         if prev >=0:\n",
    "#             case1 = dp[n][prev][1] + 1\n",
    "#         case2 = dp[n-1][k][1]\n",
    "        \n",
    "#         if case1 < case2 and case1 >0:\n",
    "#             dp[n][k] = [dp[n][prev][0] + arr[n-1], case1 ]\n",
    "#         else:\n",
    "#             dp[n][k] = dp[n-1][k]\n",
    "    \n",
    "# result = dp[-1][-1][-1]\n",
    "\n",
    "# if result == float('inf'):\n",
    "#     print(-1)\n",
    "# else:\n",
    "#     print(result)"
   ]
  },
  {
   "cell_type": "code",
   "execution_count": null,
   "metadata": {},
   "outputs": [],
   "source": [
    "dp = [0] + [float('inf') for _ in range(K)] \n",
    "\n",
    "\n",
    "for n in range(N):\n",
    "    for k in range(1, K+1):\n",
    "        prev = k - arr[n]\n",
    "        dp[k] = min( dp[prev] + 1, dp[k])\n",
    "\n",
    "if dp[-1] == float('inf'):\n",
    "    print(-1)\n",
    "else :\n",
    "    print(dp[-1])"
   ]
  },
  {
   "cell_type": "code",
   "execution_count": null,
   "metadata": {},
   "outputs": [
    {
     "data": {
      "text/plain": [
       "[0, inf, 1, inf, 2, inf, 1, inf, 2, inf, 3, inf, 1, inf, 2, inf]"
      ]
     },
     "execution_count": 36,
     "metadata": {},
     "output_type": "execute_result"
    }
   ],
   "source": []
  }
 ],
 "metadata": {
  "kernelspec": {
   "display_name": "secondllm",
   "language": "python",
   "name": "python3"
  },
  "language_info": {
   "codemirror_mode": {
    "name": "ipython",
    "version": 3
   },
   "file_extension": ".py",
   "mimetype": "text/x-python",
   "name": "python",
   "nbconvert_exporter": "python",
   "pygments_lexer": "ipython3",
   "version": "3.10.16"
  }
 },
 "nbformat": 4,
 "nbformat_minor": 2
}
