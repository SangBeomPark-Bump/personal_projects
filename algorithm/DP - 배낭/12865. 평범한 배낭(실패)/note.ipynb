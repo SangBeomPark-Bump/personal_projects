{
 "cells": [
  {
   "cell_type": "code",
   "execution_count": 1,
   "metadata": {},
   "outputs": [],
   "source": [
    "verbose = True\n",
    "verboses = [True for _ in range(10)]"
   ]
  },
  {
   "cell_type": "code",
   "execution_count": 2,
   "metadata": {},
   "outputs": [],
   "source": [
    "N, K = 4, 7\n",
    "raw_arr = \"\"\"1 1\n",
    "3 4\n",
    "5 6\n",
    "7 8\"\"\".split('\\n')\n",
    "\n",
    "arr =  [tuple(map(int,row.split())) for row in raw_arr]"
   ]
  },
  {
   "cell_type": "code",
   "execution_count": 43,
   "metadata": {},
   "outputs": [],
   "source": [
    "# N, K = 4, 7\n",
    "# raw_arr = \"\"\"6 13\n",
    "# 4 4\n",
    "# 3 6\n",
    "# 5 12\"\"\".split('\\n')\n",
    "\n",
    "# temp = {}\n",
    "\n",
    "# for i in range(N):\n",
    "#     weigt, value = map(int, raw_arr[i].split())\n",
    "\n",
    "#     if weigt in temp.keys():\n",
    "#         temp[weigt] = max(temp[weigt], value)\n",
    "#     else:\n",
    "#         temp[weigt] = value\n",
    "\n",
    "# arr = [(weigt, value) for weigt, value in temp.items()]"
   ]
  },
  {
   "cell_type": "code",
   "execution_count": 44,
   "metadata": {},
   "outputs": [],
   "source": [
    "# N, K = 1, 1\n",
    "# raw_arr = \"\"\"1 0\"\"\".split('\\n')\n",
    "\n",
    "# arr =  [tuple(map(int,row.split())) for row in raw_arr]"
   ]
  },
  {
   "cell_type": "code",
   "execution_count": 45,
   "metadata": {},
   "outputs": [
    {
     "data": {
      "text/plain": [
       "[(1, 1), (3, 4), (5, 6), (7, 8)]"
      ]
     },
     "execution_count": 45,
     "metadata": {},
     "output_type": "execute_result"
    }
   ],
   "source": [
    "arr"
   ]
  },
  {
   "cell_type": "code",
   "execution_count": 46,
   "metadata": {},
   "outputs": [
    {
     "data": {
      "text/plain": [
       "[0, 1, 0, 4, 0, 6, 0, 8]"
      ]
     },
     "execution_count": 46,
     "metadata": {},
     "output_type": "execute_result"
    }
   ],
   "source": [
    "dp = [0] * (K + 1)\n",
    "for i in arr:\n",
    "    if i[0] < K+1:\n",
    "        dp[i[0]] = i[1]\n",
    "\n",
    "dp"
   ]
  },
  {
   "cell_type": "code",
   "execution_count": null,
   "metadata": {},
   "outputs": [
    {
     "name": "stdout",
     "output_type": "stream",
     "text": [
      "6 6 5\n",
      "6 6 5\n",
      "9\n"
     ]
    }
   ],
   "source": [
    "for j in range(K+1):\n",
    "    for weigt, value in arr:\n",
    "        if j > weigt:\n",
    "            dp[j] = max(dp[j - weigt] + dp[weigt], dp[j], dp[j-1])\n",
    "print(dp[-1])"
   ]
  },
  {
   "cell_type": "code",
   "execution_count": 48,
   "metadata": {},
   "outputs": [
    {
     "data": {
      "text/plain": [
       "[0, 1, 2, 4, 5, 6, 8, 9]"
      ]
     },
     "execution_count": 48,
     "metadata": {},
     "output_type": "execute_result"
    }
   ],
   "source": [
    "dp"
   ]
  },
  {
   "cell_type": "markdown",
   "metadata": {},
   "source": [
    "## 해답편"
   ]
  },
  {
   "cell_type": "code",
   "execution_count": 3,
   "metadata": {},
   "outputs": [],
   "source": [
    "W, V = [], []\n",
    "\n",
    "for row in arr:\n",
    "    W.append(row[0])\n",
    "    V.append(row[1])"
   ]
  },
  {
   "cell_type": "code",
   "execution_count": 4,
   "metadata": {},
   "outputs": [
    {
     "name": "stdout",
     "output_type": "stream",
     "text": [
      "[0, 1, 1, 1, 1, 1, 1, 1]\n",
      "[0, 1, 1, 4, 5, 5, 5, 5]\n",
      "[0, 1, 1, 4, 5, 6, 7, 7]\n",
      "[0, 1, 1, 4, 5, 6, 7, 8]\n",
      "8\n"
     ]
    }
   ],
   "source": [
    "memo = [[0] * (K+1) for _ in range(N+1)]\n",
    "\n",
    "for n in range(N):\n",
    "    for k in range(K+1):\n",
    "        prev_k = k - W[n]\n",
    "        case1 = 0\n",
    "        if 0 <= prev_k:\n",
    "            case1 = memo[n-1][prev_k] + V[n]\n",
    "\n",
    "        case2 = memo[n-1][k]\n",
    "        memo[n][k] = max(case1, case2)\n",
    "    print(memo[n])\n",
    "\n",
    "print(memo[N-1][K])"
   ]
  },
  {
   "cell_type": "code",
   "execution_count": 8,
   "metadata": {},
   "outputs": [
    {
     "name": "stdout",
     "output_type": "stream",
     "text": [
      "[0, 1, 1, 1, 1, 1, 1, 1]\n",
      "[0, 1, 1, 4, 5, 5, 5, 5]\n",
      "[0, 1, 1, 4, 5, 6, 7, 7]\n",
      "[0, 1, 1, 4, 5, 6, 7, 8]\n",
      "8\n"
     ]
    }
   ],
   "source": [
    "memo = [[0] * (K+1) for _ in range(N+1)]\n",
    "\n",
    "for n in range(N):\n",
    "    for k in range(K+1):\n",
    "        prev_k = k - W[n]\n",
    "        case1 = 0\n",
    "        if 0 <= prev_k:\n",
    "            case1 = memo[n-1][prev_k] + V[n]\n",
    "\n",
    "        case2 = memo[n-1][k]\n",
    "        memo[n][k] = max(case1, case2)\n",
    "    print(memo[n])\n",
    "\n",
    "print(memo[N-1][K])"
   ]
  },
  {
   "cell_type": "code",
   "execution_count": null,
   "metadata": {},
   "outputs": [],
   "source": []
  }
 ],
 "metadata": {
  "kernelspec": {
   "display_name": "secondllm",
   "language": "python",
   "name": "python3"
  },
  "language_info": {
   "codemirror_mode": {
    "name": "ipython",
    "version": 3
   },
   "file_extension": ".py",
   "mimetype": "text/x-python",
   "name": "python",
   "nbconvert_exporter": "python",
   "pygments_lexer": "ipython3",
   "version": "3.10.16"
  }
 },
 "nbformat": 4,
 "nbformat_minor": 2
}
