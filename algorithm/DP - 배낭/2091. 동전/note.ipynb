{
 "cells": [
  {
   "cell_type": "code",
   "execution_count": 1,
   "metadata": {},
   "outputs": [],
   "source": [
    "verbose = True\n",
    "verboses = [True for _ in range(10)]"
   ]
  },
  {
   "cell_type": "code",
   "execution_count": 2,
   "metadata": {},
   "outputs": [],
   "source": [
    "X, A, B, C, D = 12, 3, 3, 1, 2\n",
    "arr = [A, B, C, D]\n",
    "coins = [1, 5, 10, 25]"
   ]
  },
  {
   "cell_type": "code",
   "execution_count": 3,
   "metadata": {},
   "outputs": [],
   "source": [
    "# X, A, B, C, D = 16, 1, 0, 0, 1\n",
    "# arr = [A, B, C, D]\n",
    "# coins = [1, 5, 10, 25]"
   ]
  },
  {
   "cell_type": "code",
   "execution_count": 5,
   "metadata": {},
   "outputs": [
    {
     "name": "stdout",
     "output_type": "stream",
     "text": [
      "2 2 0 0\n"
     ]
    }
   ],
   "source": [
    "dp = [ [0]* 4 for _ in range(X+1)]\n",
    "\n",
    "for x in range(1, X+1):\n",
    "    cur_max = [0, 0, 0, 0]\n",
    "    for i in range(4):\n",
    "        temp = [0, 0, 0, 0]\n",
    "        cur_coin = coins[i]\n",
    "        prev = x - cur_coin\n",
    "        if prev >=0 and arr[i] >= dp[prev][i] +1 :\n",
    "            if (prev == 0) or (sum(dp[prev]) > 0):\n",
    "                temp = dp[prev].copy()\n",
    "                temp[i] += 1\n",
    "        cur_max = max(cur_max, temp, key=sum)\n",
    "\n",
    "    dp[x] = cur_max\n",
    "\n",
    "print(' '.join(map(str,dp[-1])))"
   ]
  },
  {
   "cell_type": "code",
   "execution_count": 72,
   "metadata": {},
   "outputs": [
    {
     "name": "stdout",
     "output_type": "stream",
     "text": [
      "0 [0, 0, 0, 0]\n",
      "1 [1, 0, 0, 0]\n",
      "2 [2, 0, 0, 0]\n",
      "3 [3, 0, 0, 0]\n",
      "4 [0, 0, 0, 0]\n",
      "5 [0, 1, 0, 0]\n",
      "6 [1, 1, 0, 0]\n",
      "7 [2, 1, 0, 0]\n",
      "8 [3, 1, 0, 0]\n",
      "9 [0, 0, 0, 0]\n",
      "10 [0, 2, 0, 0]\n",
      "11 [1, 2, 0, 0]\n",
      "12 [2, 2, 0, 0]\n",
      "13 [3, 2, 0, 0]\n",
      "14 [0, 0, 0, 0]\n",
      "15 [0, 3, 0, 0]\n",
      "16 [1, 3, 0, 0]\n",
      "17 [2, 3, 0, 0]\n",
      "18 [3, 3, 0, 0]\n",
      "19 [0, 0, 0, 0]\n",
      "20 [0, 2, 1, 0]\n",
      "21 [1, 2, 1, 0]\n",
      "22 [2, 2, 1, 0]\n",
      "23 [3, 2, 1, 0]\n",
      "24 [0, 0, 0, 0]\n"
     ]
    }
   ],
   "source": [
    "for index, li in enumerate(dp):\n",
    "    print(index, li)"
   ]
  },
  {
   "cell_type": "code",
   "execution_count": null,
   "metadata": {},
   "outputs": [
    {
     "name": "stdout",
     "output_type": "stream",
     "text": [
      "[0, 0, 0, 0]\n"
     ]
    }
   ],
   "source": [
    "dp = [ [0]* 4 for _ in range(X+1)]\n",
    "def test(x):\n",
    "    cur_max = [0,0,0,0]\n",
    "    for i in range(4):\n",
    "        temp = [0,0,0,0]\n",
    "        cur_coin = coins[i]\n",
    "        prev = x - cur_coin\n",
    "        if prev >=0 and arr[i] >= dp[prev][i] +1 :\n",
    "            temp = dp[prev].copy()\n",
    "            temp[i] += 1\n",
    "        cur_max = max(cur_max, temp, key=sum)\n",
    "\n",
    "    dp[x] = cur_max\n",
    "\n",
    "for i in range(1, X+1):\n",
    "    test(i)\n",
    "print(dp[-1])"
   ]
  },
  {
   "cell_type": "code",
   "execution_count": null,
   "metadata": {},
   "outputs": [],
   "source": []
  }
 ],
 "metadata": {
  "kernelspec": {
   "display_name": "secondllm",
   "language": "python",
   "name": "python3"
  },
  "language_info": {
   "codemirror_mode": {
    "name": "ipython",
    "version": 3
   },
   "file_extension": ".py",
   "mimetype": "text/x-python",
   "name": "python",
   "nbconvert_exporter": "python",
   "pygments_lexer": "ipython3",
   "version": "3.10.16"
  }
 },
 "nbformat": 4,
 "nbformat_minor": 2
}
