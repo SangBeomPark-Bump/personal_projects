{
 "cells": [
  {
   "cell_type": "code",
   "execution_count": 1,
   "metadata": {},
   "outputs": [],
   "source": [
    "verbose = True\n",
    "verboses = [True for _ in range(10)]"
   ]
  },
  {
   "cell_type": "code",
   "execution_count": 2,
   "metadata": {},
   "outputs": [],
   "source": [
    "N = 5\n",
    "arr = [0] +  list(map(int, \"1 1 1 4 3\".split()))"
   ]
  },
  {
   "cell_type": "code",
   "execution_count": 3,
   "metadata": {},
   "outputs": [],
   "source": [
    "dp = [[float('inf')] * 20 for _ in range(N+1)]\n",
    "dp[0][0] = 0"
   ]
  },
  {
   "cell_type": "code",
   "execution_count": 4,
   "metadata": {},
   "outputs": [
    {
     "data": {
      "text/plain": [
       "[0, 1, 1, 1, 4, 3]"
      ]
     },
     "execution_count": 4,
     "metadata": {},
     "output_type": "execute_result"
    }
   ],
   "source": [
    "arr"
   ]
  },
  {
   "cell_type": "code",
   "execution_count": 5,
   "metadata": {},
   "outputs": [
    {
     "name": "stdout",
     "output_type": "stream",
     "text": [
      "클때 [inf, 1, inf, inf, inf, inf, inf, inf, inf, inf, inf, inf, inf, inf, inf, inf, inf, inf, inf, inf]\n",
      "같을때 [inf, 1, inf, inf, inf, inf, inf, inf, inf, inf, inf, inf, inf, inf, inf, inf, inf, inf, inf, inf]\n",
      "작을때 [inf, 1, inf, inf, inf, inf, inf, inf, inf, inf, inf, inf, inf, inf, inf, inf, inf, inf, inf, inf]\n",
      "작을때 [inf, 1, inf, inf, inf, inf, inf, inf, inf, inf, inf, inf, inf, inf, inf, inf, inf, inf, inf, inf]\n",
      "작을때 [inf, 1, inf, inf, inf, inf, inf, inf, inf, inf, inf, inf, inf, inf, inf, inf, inf, inf, inf, inf]\n",
      "작을때 [inf, 1, inf, inf, inf, inf, inf, inf, inf, inf, inf, inf, inf, inf, inf, inf, inf, inf, inf, inf]\n",
      "작을때 [inf, 1, inf, inf, inf, inf, inf, inf, inf, inf, inf, inf, inf, inf, inf, inf, inf, inf, inf, inf]\n",
      "작을때 [inf, 1, inf, inf, inf, inf, inf, inf, inf, inf, inf, inf, inf, inf, inf, inf, inf, inf, inf, inf]\n",
      "작을때 [inf, 1, inf, inf, inf, inf, inf, inf, inf, inf, inf, inf, inf, inf, inf, inf, inf, inf, inf, inf]\n",
      "작을때 [inf, 1, inf, inf, inf, inf, inf, inf, inf, inf, inf, inf, inf, inf, inf, inf, inf, inf, inf, inf]\n",
      "[inf, 1, inf, inf, inf, inf, inf, inf, inf, inf, inf, inf, inf, inf, inf, inf, inf, inf, inf, inf]\n"
     ]
    }
   ],
   "source": [
    "dp = [[float('inf')] * 20 for _ in range(N+1)]\n",
    "dp[0][0] = 0\n",
    "\n",
    "n = 1\n",
    "cur_pebble = arr[n] ## 2\n",
    "for number in range(10):\n",
    "    rest_pebble = dp[n-1][number] \n",
    "    # if rest_pebble != float('inf'):\n",
    "    if cur_pebble > number:\n",
    "        dp[n][cur_pebble - number] = min(dp[n][cur_pebble - number], rest_pebble +1)\n",
    "        print('클때',dp[n])\n",
    "    elif cur_pebble == number:\n",
    "        dp[n][0] = min(dp[n][0], rest_pebble)\n",
    "        dp[n][number] = min(dp[n][number], rest_pebble + 1)\n",
    "        print('같을때',dp[n])\n",
    "    else:\n",
    "        dp[n][0] = min(dp[n][0], rest_pebble + 1)\n",
    "        dp[n][number - cur_pebble] = min(dp[n][number - cur_pebble], rest_pebble +1)\n",
    "        print('작을때',dp[n])\n",
    "print(dp[n])"
   ]
  },
  {
   "cell_type": "code",
   "execution_count": null,
   "metadata": {},
   "outputs": [
    {
     "ename": "KeyError",
     "evalue": "1",
     "output_type": "error",
     "traceback": [
      "\u001b[0;31m---------------------------------------------------------------------------\u001b[0m",
      "\u001b[0;31mKeyError\u001b[0m                                  Traceback (most recent call last)",
      "Cell \u001b[0;32mIn[90], line 10\u001b[0m\n\u001b[1;32m      8\u001b[0m \u001b[38;5;66;03m# if rest_pebble != float('inf'):\u001b[39;00m\n\u001b[1;32m      9\u001b[0m \u001b[38;5;28;01mif\u001b[39;00m cur_pebble \u001b[38;5;241m>\u001b[39m number:\n\u001b[0;32m---> 10\u001b[0m     dp[n][cur_pebble \u001b[38;5;241m-\u001b[39m number] \u001b[38;5;241m=\u001b[39m \u001b[38;5;28mmin\u001b[39m(\u001b[43mdp\u001b[49m\u001b[43m[\u001b[49m\u001b[43mn\u001b[49m\u001b[43m]\u001b[49m\u001b[43m[\u001b[49m\u001b[43mcur_pebble\u001b[49m\u001b[43m \u001b[49m\u001b[38;5;241;43m-\u001b[39;49m\u001b[43m \u001b[49m\u001b[43mnumber\u001b[49m\u001b[43m]\u001b[49m, rest_pebble \u001b[38;5;241m+\u001b[39m\u001b[38;5;241m1\u001b[39m)\n\u001b[1;32m     11\u001b[0m     \u001b[38;5;28mprint\u001b[39m(\u001b[38;5;124m'\u001b[39m\u001b[38;5;124m클때\u001b[39m\u001b[38;5;124m'\u001b[39m,dp[n])\n\u001b[1;32m     12\u001b[0m \u001b[38;5;28;01melif\u001b[39;00m cur_pebble \u001b[38;5;241m==\u001b[39m number:\n",
      "\u001b[0;31mKeyError\u001b[0m: 1"
     ]
    }
   ],
   "source": [
    "dp = [dict() for _ in range(N+1)]\n",
    "dp[0][0] = 0\n",
    "\n",
    "n = 1\n",
    "cur_pebble = arr[n] ## 2\n",
    "for number in dp[n-1].keys():\n",
    "    rest_pebble = dp[n-1][number] \n",
    "    # if rest_pebble != float('inf'):\n",
    "    if cur_pebble > number:\n",
    "        dp[n][cur_pebble - number] = min(dp[n][cur_pebble - number], rest_pebble +1)\n",
    "        print('클때',dp[n])\n",
    "    elif cur_pebble == number:\n",
    "        dp[n][0] = min(dp[n][0], rest_pebble)\n",
    "        dp[n][number] = min(dp[n][number], rest_pebble + 1)\n",
    "        print('같을때',dp[n])\n",
    "    else:\n",
    "        dp[n][0] = min(dp[n][0], rest_pebble + 1)\n",
    "        dp[n][number - cur_pebble] = min(dp[n][number - cur_pebble], rest_pebble +1)\n",
    "        print('작을때',dp[n])\n",
    "print(dp[n])"
   ]
  },
  {
   "cell_type": "code",
   "execution_count": 54,
   "metadata": {},
   "outputs": [],
   "source": [
    "import random\n",
    "N = 10\n",
    "factor = 9\n",
    "arr = [0] + [random.randint(1, factor) for _ in range(N)]"
   ]
  },
  {
   "cell_type": "code",
   "execution_count": 72,
   "metadata": {},
   "outputs": [
    {
     "name": "stdout",
     "output_type": "stream",
     "text": [
      "[8, 10, inf, inf, inf, 8, inf, inf, inf, inf, inf, inf, inf, inf, inf, inf, inf, inf]\n"
     ]
    }
   ],
   "source": [
    "\n",
    "\n",
    "dp = [[float('inf')] * factor * 2 for _ in range(N+1)]\n",
    "dp[0][0] = 0\n",
    "for n in range(1, N+1):\n",
    "    cur_pebble = arr[n] ## 2\n",
    "    for number in range(factor + 1):\n",
    "        rest_pebble = dp[n-1][number] \n",
    "        if cur_pebble > number:\n",
    "            dp[n][0] = min(dp[n][0], rest_pebble + 1)\n",
    "            dp[n][cur_pebble - number] = min(dp[n][cur_pebble - number], rest_pebble +1)\n",
    "        elif cur_pebble == number:\n",
    "            dp[n][0] = min(dp[n][0], rest_pebble)\n",
    "            dp[n][number] = min(dp[n][number], rest_pebble + 1)\n",
    "        else:\n",
    "            dp[n][0] = min(dp[n][0], rest_pebble + 1)\n",
    "            dp[n][cur_pebble] = min(dp[n][cur_pebble], rest_pebble +1)\n",
    "\n",
    "print(dp[-1])"
   ]
  },
  {
   "cell_type": "code",
   "execution_count": 73,
   "metadata": {},
   "outputs": [
    {
     "name": "stdout",
     "output_type": "stream",
     "text": [
      "[0, inf, inf, inf, inf, inf, inf, inf, inf, inf, inf, inf, inf, inf, inf, inf, inf, inf] 0\n",
      "[1, inf, 1, inf, inf, inf, inf, inf, inf, inf, inf, inf, inf, inf, inf, inf, inf, inf] 2\n",
      "[2, inf, inf, inf, inf, inf, 2, inf, 2, inf, inf, inf, inf, inf, inf, inf, inf, inf] 8\n",
      "[2, inf, inf, inf, inf, inf, 3, inf, inf, inf, inf, inf, inf, inf, inf, inf, inf, inf] 6\n",
      "[3, inf, 4, inf, inf, inf, inf, inf, 3, inf, inf, inf, inf, inf, inf, inf, inf, inf] 8\n",
      "[4, inf, inf, inf, inf, 5, inf, 4, inf, inf, inf, inf, inf, inf, inf, inf, inf, inf] 7\n",
      "[5, inf, 5, inf, 6, inf, inf, inf, inf, 5, inf, inf, inf, inf, inf, inf, inf, inf] 9\n",
      "[6, inf, inf, inf, 7, inf, 6, inf, 6, inf, inf, inf, inf, inf, inf, inf, inf, inf] 8\n",
      "[6, inf, 7, inf, 8, inf, inf, inf, 7, inf, inf, inf, inf, inf, inf, inf, inf, inf] 8\n",
      "[7, inf, inf, inf, 9, inf, 8, inf, 7, inf, inf, inf, inf, inf, inf, inf, inf, inf] 8\n",
      "[8, 10, inf, inf, inf, 8, inf, inf, inf, inf, inf, inf, inf, inf, inf, inf, inf, inf] 5\n"
     ]
    }
   ],
   "source": [
    "for number, i in enumerate(dp):\n",
    "    print(i, arr[number])"
   ]
  },
  {
   "cell_type": "code",
   "execution_count": 56,
   "metadata": {},
   "outputs": [
    {
     "data": {
      "text/plain": [
       "[0, 2, 8, 6, 8, 7, 9, 8, 8, 8, 5]"
      ]
     },
     "execution_count": 56,
     "metadata": {},
     "output_type": "execute_result"
    }
   ],
   "source": [
    "arr"
   ]
  },
  {
   "cell_type": "code",
   "execution_count": 62,
   "metadata": {},
   "outputs": [
    {
     "data": {
      "text/plain": [
       "[{0}, {2}, {6, 8}, {0}, {8}, {0, 7}, {2, 9}, {0, 6, 8}, {0}, {8}, {0, 5}]"
      ]
     },
     "execution_count": 62,
     "metadata": {},
     "output_type": "execute_result"
    }
   ],
   "source": [
    "dp"
   ]
  },
  {
   "cell_type": "code",
   "execution_count": 75,
   "metadata": {},
   "outputs": [],
   "source": [
    "dp = [ set() for _ in range(N+1) ]\n",
    "cnt = 0\n",
    "dp[0].add(0)\n",
    "for n in range(1, N+1):\n",
    "    cur_number = arr[n] # 현재 검사하고자 하는 숫자\n",
    "    prev_set = dp[n-1] # 이전에 남았던 돌멩이 후보들\n",
    "\n",
    "    dp[n].add(cur_number) ## 일단 cur_number를 집어넣는다.\n",
    "\n",
    "    for pebble in prev_set: ## 돌멩이 후보들중 하나를 골라서\n",
    "        pebble_cand = cur_number - pebble ## 이번 숫자에서 뺀다\n",
    "        if pebble_cand == 0: ## 같다면!\n",
    "            dp[n] = {0} ### 0으로 바꿔버리기~\n",
    "            cnt +=1\n",
    "            break\n",
    "        else: # 다르다면!!\n",
    "            dp[n].add( pebble_cand if pebble_cand >0 else 0 ) ### 차이가 0보다 크면 차이를, 작다면 0을 집어넣는는다.\n"
   ]
  },
  {
   "cell_type": "code",
   "execution_count": 76,
   "metadata": {},
   "outputs": [
    {
     "data": {
      "text/plain": [
       "[{0}, {2}, {6, 8}, {0}, {8}, {0, 7}, {2, 9}, {0, 6, 8}, {0}, {8}, {0, 5}]"
      ]
     },
     "execution_count": 76,
     "metadata": {},
     "output_type": "execute_result"
    }
   ],
   "source": [
    "dp"
   ]
  },
  {
   "cell_type": "code",
   "execution_count": 77,
   "metadata": {},
   "outputs": [
    {
     "data": {
      "text/plain": [
       "[0, 2, 8, 6, 8, 7, 9, 8, 8, 8, 5]"
      ]
     },
     "execution_count": 77,
     "metadata": {},
     "output_type": "execute_result"
    }
   ],
   "source": [
    "arr"
   ]
  },
  {
   "cell_type": "code",
   "execution_count": 78,
   "metadata": {},
   "outputs": [
    {
     "name": "stdout",
     "output_type": "stream",
     "text": [
      "8\n"
     ]
    }
   ],
   "source": [
    "print(N - cnt)"
   ]
  },
  {
   "cell_type": "code",
   "execution_count": 60,
   "metadata": {},
   "outputs": [
    {
     "data": {
      "text/plain": [
       "2"
      ]
     },
     "execution_count": 60,
     "metadata": {},
     "output_type": "execute_result"
    }
   ],
   "source": [
    "cnt"
   ]
  }
 ],
 "metadata": {
  "kernelspec": {
   "display_name": "secondllm",
   "language": "python",
   "name": "python3"
  },
  "language_info": {
   "codemirror_mode": {
    "name": "ipython",
    "version": 3
   },
   "file_extension": ".py",
   "mimetype": "text/x-python",
   "name": "python",
   "nbconvert_exporter": "python",
   "pygments_lexer": "ipython3",
   "version": "3.10.16"
  }
 },
 "nbformat": 4,
 "nbformat_minor": 2
}
