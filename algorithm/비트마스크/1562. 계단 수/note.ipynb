{
 "cells": [
  {
   "cell_type": "code",
   "execution_count": 1,
   "metadata": {},
   "outputs": [],
   "source": [
    "verbose = True\n",
    "verboses = [True for _ in range(10)]"
   ]
  },
  {
   "cell_type": "code",
   "execution_count": null,
   "metadata": {},
   "outputs": [],
   "source": [
    "N = 20"
   ]
  },
  {
   "cell_type": "code",
   "execution_count": 17,
   "metadata": {},
   "outputs": [],
   "source": [
    "## 쉬운 계단수 메커니즘\n",
    "\n",
    "# dp =[[0] * 10 for _ in range(N+1)]\n",
    "# dp[1] = [0] + [1] * 9\n",
    "# for n in range(2, N+1):\n",
    "#     for i in range(10):\n",
    "#         minus =  i-1\n",
    "#         plus = i+1\n",
    "#         factor = dp[n-1][i]\n",
    "#         if plus <10:\n",
    "#             dp[n][plus] += factor\n",
    "#             # print(i * 10 + plus)\n",
    "#         if minus >=0:\n",
    "#             dp[n][minus] += factor\n",
    "# dp"
   ]
  },
  {
   "cell_type": "code",
   "execution_count": null,
   "metadata": {},
   "outputs": [],
   "source": []
  },
  {
   "cell_type": "code",
   "execution_count": 12,
   "metadata": {},
   "outputs": [],
   "source": [
    "### 초기 메커니즘(계산량이 너무 많음..)\n",
    "\n",
    "dp_prev = [ [1<<num ] for num in range(10) ]\n",
    "dp_prev[0].pop()\n",
    "cnts = []\n",
    "\n",
    "for _ in range(1, N):\n",
    "    cnt = 0\n",
    "    dp_cur = [[] for _ in range(10) ]\n",
    "    for i in range(10): ### 저번꺼를 이동시킬거임. 이동시킬 번호는 i\n",
    "        for bitmask in dp_prev[i]: # 저번꺼의 bitmask 번호\n",
    "            if i != 0:    \n",
    "                input_plus = bitmask | 1 <<(i-1)\n",
    "                if input_plus == 1023:\n",
    "                    cnt+=1\n",
    "                dp_cur[i-1].append(input_plus)\n",
    "            if i != 9:\n",
    "                input_minus = bitmask | 1 <<(i+1)\n",
    "                if input_minus == 1023:\n",
    "                    cnt+=1\n",
    "                dp_cur[i+1].append(input_minus)\n",
    "    dp_prev = dp_cur\n",
    "    cnts.append(cnt)"
   ]
  },
  {
   "cell_type": "code",
   "execution_count": null,
   "metadata": {},
   "outputs": [
    {
     "name": "stdout",
     "output_type": "stream",
     "text": [
      "64203722859\n"
     ]
    }
   ],
   "source": [
    "## 후기 메커니즘. 계산량이 많은걸 없앰\n",
    "dp_prev = []\n",
    "\n",
    "default = [0] * 1024\n",
    "dp_prev.append(default)\n",
    "for i in range(1, 10):\n",
    "    temp = default.copy()\n",
    "    temp[1<<i] = 1\n",
    "    dp_prev.append(temp)\n",
    "\n",
    "cnt_sums = []\n",
    "for _ in range(1, 40):\n",
    "    dp_cur = [[0] * 1024 for _ in range(10) ]\n",
    "    cnt_sum = 0\n",
    "    for i in range(10): ### 저번꺼를 이동시킬거임. 이동시킬 번호는 i\n",
    "        for bitmask, cnt in enumerate(dp_prev[i]): # 저번꺼의 bitmask 번호\n",
    "            if i != 0:\n",
    "                input_minus = bitmask | 1 <<(i-1) ### 예를들어, 1이랑 2면 3\n",
    "                if input_minus == 1023:\n",
    "                    cnt_sum += cnt\n",
    "                dp_cur[i-1][input_minus] += cnt\n",
    "            if i != 9:\n",
    "                input_plus = bitmask | 1 <<(i+1)\n",
    "                if input_plus == 1023:\n",
    "                    cnt_sum += cnt\n",
    "                dp_cur[i+1][input_plus] += cnt\n",
    "    dp_prev = dp_cur\n",
    "    cnt_sums.append(cnt_sum)\n",
    "\n",
    "s = 0\n",
    "for i in dp_prev:\n",
    "    s += i[1023] \n",
    "print(s % (10**9))"
   ]
  },
  {
   "cell_type": "code",
   "execution_count": 41,
   "metadata": {},
   "outputs": [
    {
     "data": {
      "text/plain": [
       "203722859"
      ]
     },
     "execution_count": 41,
     "metadata": {},
     "output_type": "execute_result"
    }
   ],
   "source": [
    "s % (10**9)"
   ]
  },
  {
   "cell_type": "code",
   "execution_count": 42,
   "metadata": {},
   "outputs": [
    {
     "name": "stdout",
     "output_type": "stream",
     "text": [
      "126461847755\n"
     ]
    }
   ],
   "source": [
    "print(sum(cnt_sums))"
   ]
  },
  {
   "cell_type": "code",
   "execution_count": null,
   "metadata": {},
   "outputs": [
    {
     "name": "stdout",
     "output_type": "stream",
     "text": [
      "23249\n"
     ]
    }
   ],
   "source": []
  },
  {
   "cell_type": "code",
   "execution_count": 10,
   "metadata": {},
   "outputs": [
    {
     "data": {
      "text/plain": [
       "[0,\n",
       " 0,\n",
       " 0,\n",
       " 0,\n",
       " 0,\n",
       " 0,\n",
       " 0,\n",
       " 0,\n",
       " 1,\n",
       " 3,\n",
       " 14,\n",
       " 37,\n",
       " 117,\n",
       " 287,\n",
       " 770,\n",
       " 1800,\n",
       " 4420,\n",
       " 9994,\n",
       " 23249,\n",
       " 51307,\n",
       " 115156,\n",
       " 249487]"
      ]
     },
     "execution_count": 10,
     "metadata": {},
     "output_type": "execute_result"
    }
   ],
   "source": [
    "cnts"
   ]
  },
  {
   "cell_type": "code",
   "execution_count": 100,
   "metadata": {},
   "outputs": [
    {
     "name": "stdout",
     "output_type": "stream",
     "text": [
      "\n",
      "3\n",
      "\n",
      "6\n",
      "\n",
      "6\n",
      "12\n",
      "\n",
      "12\n",
      "24\n",
      "\n",
      "24\n",
      "48\n",
      "\n",
      "48\n",
      "96\n",
      "\n",
      "96\n",
      "192\n",
      "\n",
      "192\n",
      "384\n",
      "\n",
      "384\n",
      "768\n",
      "\n",
      "768\n"
     ]
    }
   ],
   "source": [
    "for i in range(10):\n",
    "    print('')\n",
    "    for index, j in enumerate(dp_prev[i]):\n",
    "        if j != 0:\n",
    "            print(index)"
   ]
  }
 ],
 "metadata": {
  "kernelspec": {
   "display_name": "secondllm",
   "language": "python",
   "name": "python3"
  },
  "language_info": {
   "codemirror_mode": {
    "name": "ipython",
    "version": 3
   },
   "file_extension": ".py",
   "mimetype": "text/x-python",
   "name": "python",
   "nbconvert_exporter": "python",
   "pygments_lexer": "ipython3",
   "version": "3.10.16"
  }
 },
 "nbformat": 4,
 "nbformat_minor": 2
}
