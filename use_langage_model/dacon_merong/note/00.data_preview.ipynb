{
 "cells": [
  {
   "cell_type": "code",
   "execution_count": 1,
   "metadata": {},
   "outputs": [
    {
     "name": "stdout",
     "output_type": "stream",
     "text": [
      "hello world!\n"
     ]
    }
   ],
   "source": [
    "import pandas as pd\n",
    "import numpy as np\n",
    "import matplotlib.pyplot as plt\n",
    "print(\"hello world!\")"
   ]
  },
  {
   "cell_type": "code",
   "execution_count": 2,
   "metadata": {},
   "outputs": [],
   "source": [
    "# 한글 폰트 문제 해결 \n",
    "# matplotlib은 한글 폰트를 지원하지 않음\n",
    "# os정보\n",
    "import platform\n",
    "\n",
    "# font_manager : 폰트 관리 모듈\n",
    "# rc : 폰트 변경 모듈\n",
    "from matplotlib import font_manager, rc\n",
    "# unicode 설정\n",
    "plt.rcParams['axes.unicode_minus'] = False\n",
    "\n",
    "if platform.system() == 'Darwin':\n",
    "    rc('font', family='AppleGothic') # os가 macos\n",
    "elif platform.system() == 'Windows':\n",
    "    path = 'c:/Windows/Fonts/malgun.ttf' # os가 windows\n",
    "    font_name = font_manager.FontProperties(fname=path).get_name()\n",
    "    rc('font', family=font_name)\n",
    "else:\n",
    "    print(\"Unknown System\")"
   ]
  },
  {
   "cell_type": "markdown",
   "metadata": {},
   "source": [
    "### 일단 데이터 어떤식인지 확인하기"
   ]
  },
  {
   "cell_type": "code",
   "execution_count": 3,
   "metadata": {},
   "outputs": [
    {
     "data": {
      "text/html": [
       "<div>\n",
       "<style scoped>\n",
       "    .dataframe tbody tr th:only-of-type {\n",
       "        vertical-align: middle;\n",
       "    }\n",
       "\n",
       "    .dataframe tbody tr th {\n",
       "        vertical-align: top;\n",
       "    }\n",
       "\n",
       "    .dataframe thead th {\n",
       "        text-align: right;\n",
       "    }\n",
       "</style>\n",
       "<table border=\"1\" class=\"dataframe\">\n",
       "  <thead>\n",
       "    <tr style=\"text-align: right;\">\n",
       "      <th></th>\n",
       "      <th>ID</th>\n",
       "      <th>발생일시</th>\n",
       "      <th>사고인지 시간</th>\n",
       "      <th>날씨</th>\n",
       "      <th>기온</th>\n",
       "      <th>습도</th>\n",
       "      <th>공사종류</th>\n",
       "      <th>연면적</th>\n",
       "      <th>층 정보</th>\n",
       "      <th>인적사고</th>\n",
       "      <th>물적사고</th>\n",
       "      <th>공종</th>\n",
       "      <th>사고객체</th>\n",
       "      <th>작업프로세스</th>\n",
       "      <th>장소</th>\n",
       "      <th>부위</th>\n",
       "      <th>사고원인</th>\n",
       "      <th>재발방지대책 및 향후조치계획</th>\n",
       "    </tr>\n",
       "  </thead>\n",
       "  <tbody>\n",
       "    <tr>\n",
       "      <th>0</th>\n",
       "      <td>TRAIN_00000</td>\n",
       "      <td>2023-12-31 오후 12:44</td>\n",
       "      <td>정규작업 -</td>\n",
       "      <td>맑음</td>\n",
       "      <td>1℃</td>\n",
       "      <td>30%</td>\n",
       "      <td>건축 / 건축물 / 근린생활시설</td>\n",
       "      <td>4,892.77㎡</td>\n",
       "      <td>지상 14층, 지하 3층</td>\n",
       "      <td>떨어짐(5미터 이상 ~ 10미터 미만)</td>\n",
       "      <td>없음</td>\n",
       "      <td>건축 &gt; 철근콘크리트공사</td>\n",
       "      <td>건설자재 &gt; 철근</td>\n",
       "      <td>설치작업</td>\n",
       "      <td>근린생활시설 / 내부</td>\n",
       "      <td>철근 / 고소</td>\n",
       "      <td>고소작업 중 추락 위험이 있음에도 불구하고, 안전난간대, 안전고리 착용 등 안전장치...</td>\n",
       "      <td>고소작업 시 추락 위험이 있는 부위에 안전장비 설치.</td>\n",
       "    </tr>\n",
       "    <tr>\n",
       "      <th>1</th>\n",
       "      <td>TRAIN_00001</td>\n",
       "      <td>2023-12-30 오후 03:35</td>\n",
       "      <td>정규작업 -</td>\n",
       "      <td>맑음</td>\n",
       "      <td>10℃</td>\n",
       "      <td>90%</td>\n",
       "      <td>토목 / 터널 / 철도터널</td>\n",
       "      <td>-</td>\n",
       "      <td>-</td>\n",
       "      <td>끼임</td>\n",
       "      <td>없음</td>\n",
       "      <td>토목 &gt; 터널공사</td>\n",
       "      <td>건설자재 &gt; 볼트</td>\n",
       "      <td>운반작업</td>\n",
       "      <td>철도터널 / 내부</td>\n",
       "      <td>볼트 / 바닥</td>\n",
       "      <td>부주의</td>\n",
       "      <td>재발 방지 대책 마련과 안전교육 실시.</td>\n",
       "    </tr>\n",
       "    <tr>\n",
       "      <th>2</th>\n",
       "      <td>TRAIN_00002</td>\n",
       "      <td>2023-12-30 오후 02:30</td>\n",
       "      <td>정규작업 -</td>\n",
       "      <td>맑음</td>\n",
       "      <td>14℃</td>\n",
       "      <td>70%</td>\n",
       "      <td>건축 / 건축물 / 업무시설</td>\n",
       "      <td>1,994.62㎡</td>\n",
       "      <td>지상 5층, 지하 0층</td>\n",
       "      <td>넘어짐(미끄러짐)</td>\n",
       "      <td>없음</td>\n",
       "      <td>건축 &gt; 철근콘크리트공사</td>\n",
       "      <td>기타 &gt; 기타</td>\n",
       "      <td>형틀 및 목공</td>\n",
       "      <td>업무시설 / 내부</td>\n",
       "      <td>기타 / 바닥</td>\n",
       "      <td>3층 슬라브 작업시 이동중  미끄러짐</td>\n",
       "      <td>현장자재 정리와 안전관리 철저를 통한 재발 방지 대책 및 공문 발송을 통한 향후 조...</td>\n",
       "    </tr>\n",
       "    <tr>\n",
       "      <th>3</th>\n",
       "      <td>TRAIN_00003</td>\n",
       "      <td>2023-12-30 오후 12:00</td>\n",
       "      <td>휴일근무 -</td>\n",
       "      <td>흐림</td>\n",
       "      <td>12℃</td>\n",
       "      <td>55%</td>\n",
       "      <td>토목 / 하천 / 기타</td>\n",
       "      <td>-</td>\n",
       "      <td>-</td>\n",
       "      <td>기타</td>\n",
       "      <td>전도</td>\n",
       "      <td>토목 &gt; 하천공사</td>\n",
       "      <td>부재 &gt; 교각 기초</td>\n",
       "      <td>조립작업</td>\n",
       "      <td>기타 / 동산교 신축구간</td>\n",
       "      <td>교각 기초 / 바닥</td>\n",
       "      <td>교각 기초철근 조립 중 강한 바람에 의해 기둥측 주철근이 균형을 잃고 전도되어, 하...</td>\n",
       "      <td>위험성 평가 및 교육을 통해 작업장 내 위험요인과 안전수칙을 근로자에게 전파하고, ...</td>\n",
       "    </tr>\n",
       "    <tr>\n",
       "      <th>4</th>\n",
       "      <td>TRAIN_00004</td>\n",
       "      <td>2023-12-30 오전 10:00</td>\n",
       "      <td>정규작업 -</td>\n",
       "      <td>맑음</td>\n",
       "      <td>0℃</td>\n",
       "      <td>10%</td>\n",
       "      <td>건축 / 건축물 / 공동주택</td>\n",
       "      <td>59,388.93㎡</td>\n",
       "      <td>지상 27층, 지하 3층</td>\n",
       "      <td>넘어짐(미끄러짐)</td>\n",
       "      <td>없음</td>\n",
       "      <td>건축 &gt; 해체 및 철거공사</td>\n",
       "      <td>기타 &gt; 건설폐기물</td>\n",
       "      <td>해체작업</td>\n",
       "      <td>공동주택 / 내부</td>\n",
       "      <td>건설폐기물 / 바닥</td>\n",
       "      <td>근로자의 부주의</td>\n",
       "      <td>자재 정리 작업 시 세부 작업 방법에 대한 교육 실시와 작업 구간 이동 경로 점검 ...</td>\n",
       "    </tr>\n",
       "  </tbody>\n",
       "</table>\n",
       "</div>"
      ],
      "text/plain": [
       "            ID                 발생일시 사고인지 시간  날씨   기온   습도               공사종류  \\\n",
       "0  TRAIN_00000  2023-12-31 오후 12:44  정규작업 -  맑음   1℃  30%  건축 / 건축물 / 근린생활시설   \n",
       "1  TRAIN_00001  2023-12-30 오후 03:35  정규작업 -  맑음  10℃  90%     토목 / 터널 / 철도터널   \n",
       "2  TRAIN_00002  2023-12-30 오후 02:30  정규작업 -  맑음  14℃  70%    건축 / 건축물 / 업무시설   \n",
       "3  TRAIN_00003  2023-12-30 오후 12:00  휴일근무 -  흐림  12℃  55%       토목 / 하천 / 기타   \n",
       "4  TRAIN_00004  2023-12-30 오전 10:00  정규작업 -  맑음   0℃  10%    건축 / 건축물 / 공동주택   \n",
       "\n",
       "          연면적           층 정보                   인적사고 물적사고              공종  \\\n",
       "0   4,892.77㎡  지상 14층, 지하 3층  떨어짐(5미터 이상 ~ 10미터 미만)   없음   건축 > 철근콘크리트공사   \n",
       "1           -              -                     끼임   없음       토목 > 터널공사   \n",
       "2   1,994.62㎡   지상 5층, 지하 0층              넘어짐(미끄러짐)   없음   건축 > 철근콘크리트공사   \n",
       "3           -              -                     기타   전도       토목 > 하천공사   \n",
       "4  59,388.93㎡  지상 27층, 지하 3층              넘어짐(미끄러짐)   없음  건축 > 해체 및 철거공사   \n",
       "\n",
       "         사고객체   작업프로세스             장소          부위  \\\n",
       "0   건설자재 > 철근     설치작업    근린생활시설 / 내부     철근 / 고소   \n",
       "1   건설자재 > 볼트     운반작업      철도터널 / 내부     볼트 / 바닥   \n",
       "2     기타 > 기타  형틀 및 목공      업무시설 / 내부     기타 / 바닥   \n",
       "3  부재 > 교각 기초     조립작업  기타 / 동산교 신축구간  교각 기초 / 바닥   \n",
       "4  기타 > 건설폐기물     해체작업      공동주택 / 내부  건설폐기물 / 바닥   \n",
       "\n",
       "                                                사고원인  \\\n",
       "0  고소작업 중 추락 위험이 있음에도 불구하고, 안전난간대, 안전고리 착용 등 안전장치...   \n",
       "1                                                부주의   \n",
       "2                               3층 슬라브 작업시 이동중  미끄러짐   \n",
       "3  교각 기초철근 조립 중 강한 바람에 의해 기둥측 주철근이 균형을 잃고 전도되어, 하...   \n",
       "4                                           근로자의 부주의   \n",
       "\n",
       "                                     재발방지대책 및 향후조치계획  \n",
       "0                      고소작업 시 추락 위험이 있는 부위에 안전장비 설치.  \n",
       "1                              재발 방지 대책 마련과 안전교육 실시.  \n",
       "2  현장자재 정리와 안전관리 철저를 통한 재발 방지 대책 및 공문 발송을 통한 향후 조...  \n",
       "3  위험성 평가 및 교육을 통해 작업장 내 위험요인과 안전수칙을 근로자에게 전파하고, ...  \n",
       "4  자재 정리 작업 시 세부 작업 방법에 대한 교육 실시와 작업 구간 이동 경로 점검 ...  "
      ]
     },
     "execution_count": 3,
     "metadata": {},
     "output_type": "execute_result"
    }
   ],
   "source": [
    "train_data =  pd.read_csv('../data/train.csv')\n",
    "\n",
    "train_data.head()"
   ]
  },
  {
   "cell_type": "code",
   "execution_count": 4,
   "metadata": {},
   "outputs": [
    {
     "name": "stdout",
     "output_type": "stream",
     "text": [
      "<class 'pandas.core.frame.DataFrame'>\n",
      "RangeIndex: 23422 entries, 0 to 23421\n",
      "Data columns (total 18 columns):\n",
      " #   Column           Non-Null Count  Dtype \n",
      "---  ------           --------------  ----- \n",
      " 0   ID               23422 non-null  object\n",
      " 1   발생일시             23422 non-null  object\n",
      " 2   사고인지 시간          23422 non-null  object\n",
      " 3   날씨               23422 non-null  object\n",
      " 4   기온               23422 non-null  object\n",
      " 5   습도               23422 non-null  object\n",
      " 6   공사종류             23422 non-null  object\n",
      " 7   연면적              23422 non-null  object\n",
      " 8   층 정보             23422 non-null  object\n",
      " 9   인적사고             23390 non-null  object\n",
      " 10  물적사고             21932 non-null  object\n",
      " 11  공종               23411 non-null  object\n",
      " 12  사고객체             22735 non-null  object\n",
      " 13  작업프로세스           23359 non-null  object\n",
      " 14  장소               23422 non-null  object\n",
      " 15  부위               23422 non-null  object\n",
      " 16  사고원인             23359 non-null  object\n",
      " 17  재발방지대책 및 향후조치계획  23422 non-null  object\n",
      "dtypes: object(18)\n",
      "memory usage: 3.2+ MB\n"
     ]
    }
   ],
   "source": [
    "train_data.info()"
   ]
  },
  {
   "cell_type": "code",
   "execution_count": 5,
   "metadata": {},
   "outputs": [],
   "source": [
    "import numpy as np\n",
    "train_data.replace( '-', np.nan, inplace=True)"
   ]
  },
  {
   "cell_type": "code",
   "execution_count": 6,
   "metadata": {},
   "outputs": [
    {
     "name": "stdout",
     "output_type": "stream",
     "text": [
      "<class 'pandas.core.frame.DataFrame'>\n",
      "RangeIndex: 23422 entries, 0 to 23421\n",
      "Data columns (total 18 columns):\n",
      " #   Column           Non-Null Count  Dtype \n",
      "---  ------           --------------  ----- \n",
      " 0   ID               23422 non-null  object\n",
      " 1   발생일시             23422 non-null  object\n",
      " 2   사고인지 시간          20296 non-null  object\n",
      " 3   날씨               23422 non-null  object\n",
      " 4   기온               23422 non-null  object\n",
      " 5   습도               23422 non-null  object\n",
      " 6   공사종류             23422 non-null  object\n",
      " 7   연면적              15334 non-null  object\n",
      " 8   층 정보             15222 non-null  object\n",
      " 9   인적사고             23390 non-null  object\n",
      " 10  물적사고             21932 non-null  object\n",
      " 11  공종               23411 non-null  object\n",
      " 12  사고객체             22735 non-null  object\n",
      " 13  작업프로세스           23359 non-null  object\n",
      " 14  장소               23422 non-null  object\n",
      " 15  부위               23422 non-null  object\n",
      " 16  사고원인             23355 non-null  object\n",
      " 17  재발방지대책 및 향후조치계획  23422 non-null  object\n",
      "dtypes: object(18)\n",
      "memory usage: 3.2+ MB\n"
     ]
    }
   ],
   "source": [
    "train_data.info()"
   ]
  },
  {
   "cell_type": "markdown",
   "metadata": {},
   "source": [
    "### train data구경 & 전처리"
   ]
  },
  {
   "cell_type": "code",
   "execution_count": 7,
   "metadata": {},
   "outputs": [],
   "source": [
    "serieses = []"
   ]
  },
  {
   "cell_type": "markdown",
   "metadata": {},
   "source": [
    "#### ID(조정의미없음)"
   ]
  },
  {
   "cell_type": "code",
   "execution_count": 8,
   "metadata": {},
   "outputs": [
    {
     "name": "stdout",
     "output_type": "stream",
     "text": [
      "0        TRAIN_00000\n",
      "1        TRAIN_00001\n",
      "2        TRAIN_00002\n",
      "3        TRAIN_00003\n",
      "4        TRAIN_00004\n",
      "            ...     \n",
      "23417    TRAIN_23417\n",
      "23418    TRAIN_23418\n",
      "23419    TRAIN_23419\n",
      "23420    TRAIN_23420\n",
      "23421    TRAIN_23421\n",
      "Name: ID, Length: 23422, dtype: object\n"
     ]
    }
   ],
   "source": [
    "print(train_data.iloc[:,0]) # ID는 꽤 의미없는 칼럼\n",
    "serieses.append(train_data.iloc[:,0])"
   ]
  },
  {
   "cell_type": "markdown",
   "metadata": {},
   "source": [
    "#### 발생시간"
   ]
  },
  {
   "cell_type": "code",
   "execution_count": 9,
   "metadata": {},
   "outputs": [
    {
     "data": {
      "text/plain": [
       "0        2023-12-31 오후 12:44\n",
       "1        2023-12-30 오후 03:35\n",
       "2        2023-12-30 오후 02:30\n",
       "3        2023-12-30 오후 12:00\n",
       "4        2023-12-30 오전 10:00\n",
       "                ...         \n",
       "23417    2019-07-03 오후 03:10\n",
       "23418    2019-07-03 오후 03:00\n",
       "23419    2019-07-03 오후 03:00\n",
       "23420    2019-07-03 오후 02:30\n",
       "23421    2019-07-03 오후 02:30\n",
       "Name: 발생일시, Length: 23422, dtype: object"
      ]
     },
     "execution_count": 9,
     "metadata": {},
     "output_type": "execute_result"
    }
   ],
   "source": [
    "train_data.iloc[:,1] # 이건 조정필요\n"
   ]
  },
  {
   "cell_type": "code",
   "execution_count": 10,
   "metadata": {},
   "outputs": [
    {
     "data": {
      "text/plain": [
       "0       2023-12-31 12:44:00\n",
       "1       2023-12-30 15:35:00\n",
       "2       2023-12-30 14:30:00\n",
       "3       2023-12-30 12:00:00\n",
       "4       2023-12-30 10:00:00\n",
       "                ...        \n",
       "23417   2019-07-03 15:10:00\n",
       "23418   2019-07-03 15:00:00\n",
       "23419   2019-07-03 15:00:00\n",
       "23420   2019-07-03 14:30:00\n",
       "23421   2019-07-03 14:30:00\n",
       "Name: 발생일시, Length: 23422, dtype: datetime64[ns]"
      ]
     },
     "execution_count": 10,
     "metadata": {},
     "output_type": "execute_result"
    }
   ],
   "source": [
    "def timeparser(time_str:str):\n",
    "    tmep_str = time_str.replace('오전', 'AM').replace('오후', 'PM') # 오전오후 AMPM으로 변환\n",
    "    tmep_str =  tmep_str if tmep_str[-5:-3] != '00' else tmep_str[:-5] + '12' + tmep_str[-3:] ## 00시를 12시로 바꾸기\n",
    "    result =  pd.to_datetime(tmep_str, format=\"%Y-%m-%d %p %I:%M\") ## 타입변환\n",
    "    return result\n",
    "\n",
    "event_time =  train_data.iloc[:,1]\n",
    "event_time =  event_time.map(timeparser)\n",
    "serieses.append(event_time)\n",
    "event_time"
   ]
  },
  {
   "cell_type": "markdown",
   "metadata": {},
   "source": [
    "#### 사고인지시간"
   ]
  },
  {
   "cell_type": "code",
   "execution_count": 11,
   "metadata": {},
   "outputs": [],
   "source": [
    "recog_time = train_data.iloc[:,2]\n",
    "recog_time.unique()\n",
    "## 세상에나..\n",
    "recog_time_kind =  recog_time.map( lambda x: x.split(' -')[0].strip(), na_action='ignore')\n",
    "recog_time_time = recog_time.map( lambda x: x.split(' - ')[1].strip() if len(x.split(' - ')) > 1 else np.nan , na_action='ignore')"
   ]
  },
  {
   "cell_type": "code",
   "execution_count": 12,
   "metadata": {},
   "outputs": [
    {
     "name": "stdout",
     "output_type": "stream",
     "text": [
      "<class 'pandas.core.series.Series'>\n",
      "RangeIndex: 23422 entries, 0 to 23421\n",
      "Series name: 사고인지 시간\n",
      "Non-Null Count  Dtype \n",
      "--------------  ----- \n",
      "334 non-null    object\n",
      "dtypes: object(1)\n",
      "memory usage: 183.1+ KB\n"
     ]
    }
   ],
   "source": [
    "recog_time_time.info()\n",
    "serieses.append(recog_time_kind)"
   ]
  },
  {
   "cell_type": "markdown",
   "metadata": {},
   "source": [
    "#### 날씨(변경사항없음)"
   ]
  },
  {
   "cell_type": "code",
   "execution_count": 13,
   "metadata": {},
   "outputs": [
    {
     "data": {
      "text/plain": [
       "0        맑음\n",
       "1        맑음\n",
       "2        맑음\n",
       "3        흐림\n",
       "4        맑음\n",
       "         ..\n",
       "23417    맑음\n",
       "23418    맑음\n",
       "23419    맑음\n",
       "23420    흐림\n",
       "23421    강우\n",
       "Name: 날씨, Length: 23422, dtype: object"
      ]
     },
     "execution_count": 13,
     "metadata": {},
     "output_type": "execute_result"
    }
   ],
   "source": [
    "weather =  train_data.iloc[:,3]\n",
    "serieses.append(weather)\n",
    "weather"
   ]
  },
  {
   "cell_type": "markdown",
   "metadata": {},
   "source": [
    "#### 기온 (추후변경예정..)"
   ]
  },
  {
   "cell_type": "code",
   "execution_count": 14,
   "metadata": {},
   "outputs": [
    {
     "data": {
      "text/plain": [
       "0         1\n",
       "1        10\n",
       "2        14\n",
       "3        12\n",
       "4         0\n",
       "         ..\n",
       "23417    28\n",
       "23418    28\n",
       "23419    24\n",
       "23420    30\n",
       "23421    24\n",
       "Name: 기온, Length: 23422, dtype: object"
      ]
     },
     "execution_count": 14,
     "metadata": {},
     "output_type": "execute_result"
    }
   ],
   "source": [
    "temperture = train_data.iloc[:, 4]\n",
    "temperture.unique()\n",
    "# print(temperture.map(lambda x: x if x.endswith('℃') else np.nan).isna().sum())\n",
    "temp_temperture =  temperture.map(lambda x : x.split('℃')[0]).replace('', np.nan)\n",
    "serieses.append(temp_temperture)\n",
    "temp_temperture"
   ]
  },
  {
   "cell_type": "code",
   "execution_count": 15,
   "metadata": {},
   "outputs": [],
   "source": [
    "temp_temp_dropna =temp_temperture.dropna()\n",
    "## 우와...\n",
    "\n",
    "temp_temp_dropna.map(lambda x: ('.' in x) ).sum()\n",
    "### 생각보다 .들어간게 적어서 그냥 float로 바꿀게요\n",
    "\n",
    "temp_temp_dropna = temp_temp_dropna.astype(float)\n",
    "wrong =  temp_temp_dropna[(temp_temp_dropna > 35) | (temp_temp_dropna < -15)]\n"
   ]
  },
  {
   "cell_type": "code",
   "execution_count": 16,
   "metadata": {},
   "outputs": [
    {
     "data": {
      "text/html": [
       "<div>\n",
       "<style scoped>\n",
       "    .dataframe tbody tr th:only-of-type {\n",
       "        vertical-align: middle;\n",
       "    }\n",
       "\n",
       "    .dataframe tbody tr th {\n",
       "        vertical-align: top;\n",
       "    }\n",
       "\n",
       "    .dataframe thead th {\n",
       "        text-align: right;\n",
       "    }\n",
       "</style>\n",
       "<table border=\"1\" class=\"dataframe\">\n",
       "  <thead>\n",
       "    <tr style=\"text-align: right;\">\n",
       "      <th></th>\n",
       "      <th>ID</th>\n",
       "      <th>발생일시</th>\n",
       "      <th>사고인지 시간</th>\n",
       "      <th>날씨</th>\n",
       "      <th>기온</th>\n",
       "      <th>습도</th>\n",
       "      <th>공사종류</th>\n",
       "      <th>연면적</th>\n",
       "      <th>층 정보</th>\n",
       "      <th>인적사고</th>\n",
       "      <th>물적사고</th>\n",
       "      <th>공종</th>\n",
       "      <th>사고객체</th>\n",
       "      <th>작업프로세스</th>\n",
       "      <th>장소</th>\n",
       "      <th>부위</th>\n",
       "      <th>사고원인</th>\n",
       "      <th>재발방지대책 및 향후조치계획</th>\n",
       "    </tr>\n",
       "  </thead>\n",
       "  <tbody>\n",
       "    <tr>\n",
       "      <th>81</th>\n",
       "      <td>TRAIN_00081</td>\n",
       "      <td>2023-12-26 오후 02:00</td>\n",
       "      <td>정규작업 -</td>\n",
       "      <td>맑음</td>\n",
       "      <td>91℃</td>\n",
       "      <td>50%</td>\n",
       "      <td>건축 / 건축물 / 업무시설</td>\n",
       "      <td>1,292.59㎡</td>\n",
       "      <td>지상 1층, 지하 4층</td>\n",
       "      <td>끼임</td>\n",
       "      <td>없음</td>\n",
       "      <td>건축 &gt; 철근콘크리트공사</td>\n",
       "      <td>건설자재 &gt; 철근</td>\n",
       "      <td>타설작업</td>\n",
       "      <td>업무시설 / 외부</td>\n",
       "      <td>철근 / 옆</td>\n",
       "      <td>작업자 부주의</td>\n",
       "      <td>작업전 사전 안전교육 실시와 작업자의 부주의한 행동 항시 모니터링 감시.</td>\n",
       "    </tr>\n",
       "    <tr>\n",
       "      <th>110</th>\n",
       "      <td>TRAIN_00110</td>\n",
       "      <td>2023-12-25 오전 08:00</td>\n",
       "      <td>정규작업 -</td>\n",
       "      <td>흐림</td>\n",
       "      <td>-26℃</td>\n",
       "      <td>98%</td>\n",
       "      <td>토목 / 도로 / 도로</td>\n",
       "      <td>NaN</td>\n",
       "      <td>NaN</td>\n",
       "      <td>물체에 맞음</td>\n",
       "      <td>없음</td>\n",
       "      <td>토목 &gt; 철근콘크리트공사</td>\n",
       "      <td>건설자재 &gt; 자재</td>\n",
       "      <td>운반작업</td>\n",
       "      <td>도로 / 외부</td>\n",
       "      <td>자재 / 바닥</td>\n",
       "      <td>거푸집 설치를 위해 유로폼 운반 중 거푸집 낙하로 손가락 협착</td>\n",
       "      <td>인력운반 시 작업방법 및 작업순서 교육 실시와 현장 관리 강화를 통한 동일 사고 발...</td>\n",
       "    </tr>\n",
       "    <tr>\n",
       "      <th>120</th>\n",
       "      <td>TRAIN_00120</td>\n",
       "      <td>2023-12-23 오후 02:20</td>\n",
       "      <td>정규작업 -</td>\n",
       "      <td>흐림</td>\n",
       "      <td>-64℃</td>\n",
       "      <td>80%</td>\n",
       "      <td>건축 / 건축물 / 공동주택</td>\n",
       "      <td>65,472㎡</td>\n",
       "      <td>지상 28층, 지하 5층</td>\n",
       "      <td>절단, 베임</td>\n",
       "      <td>없음</td>\n",
       "      <td>건축 &gt; 철근콘크리트공사</td>\n",
       "      <td>가시설 &gt; 비계</td>\n",
       "      <td>정리작업</td>\n",
       "      <td>공동주택 / 내부</td>\n",
       "      <td>비계 / 지하</td>\n",
       "      <td>비계에서 띠장 보걸이 해체 보조작업 후 비계 수직 승강용 사다리를 통해 해치발판을 ...</td>\n",
       "      <td>해치발판 사용 시 덮개 완전 개방, 관리감독 철저, 안전교육 실시 및 안전관리 철저...</td>\n",
       "    </tr>\n",
       "    <tr>\n",
       "      <th>183</th>\n",
       "      <td>TRAIN_00183</td>\n",
       "      <td>2023-12-20 오전 10:30</td>\n",
       "      <td>정규작업 -</td>\n",
       "      <td>맑음</td>\n",
       "      <td>-64℃</td>\n",
       "      <td>65%</td>\n",
       "      <td>건축 / 건축물 / 공동주택</td>\n",
       "      <td>142,815.91㎡</td>\n",
       "      <td>지상 20층, 지하 2층</td>\n",
       "      <td>찔림</td>\n",
       "      <td>없음</td>\n",
       "      <td>토목 &gt; 토공사</td>\n",
       "      <td>건설공구 &gt; 공구류</td>\n",
       "      <td>청소작업</td>\n",
       "      <td>공동주택 / 내부</td>\n",
       "      <td>공구류 / 쪽가위</td>\n",
       "      <td>덤프트럭 적재함 후면 토사(흙) 청소 근로자가 부러진 빗자루를 임의로 수리하던 중 ...</td>\n",
       "      <td>자재와 공구에 대한 미숙련 근로자의 임의수리 금지와 해당 공종 전체 근로자 및 관리...</td>\n",
       "    </tr>\n",
       "    <tr>\n",
       "      <th>226</th>\n",
       "      <td>TRAIN_00226</td>\n",
       "      <td>2023-12-18 오전 10:30</td>\n",
       "      <td>정규작업 -</td>\n",
       "      <td>흐림</td>\n",
       "      <td>-54℃</td>\n",
       "      <td>98%</td>\n",
       "      <td>토목 / 도로 / 도로</td>\n",
       "      <td>NaN</td>\n",
       "      <td>NaN</td>\n",
       "      <td>물체에 맞음</td>\n",
       "      <td>없음</td>\n",
       "      <td>토목 &gt; 해체 및 철거공사</td>\n",
       "      <td>가시설 &gt; 거푸집</td>\n",
       "      <td>해체작업</td>\n",
       "      <td>도로 / 외부</td>\n",
       "      <td>거푸집 / 상부(위)</td>\n",
       "      <td>횡배수관 도수로 거푸집 해체 작업 중재해자 쏨욧이 횡배수관 도수로 덮개의 거푸집 해...</td>\n",
       "      <td>유사사고 방지를 위한 실질적인 재발 방지 대책으로 거푸집 해체 작업 시 작업 방법 ...</td>\n",
       "    </tr>\n",
       "    <tr>\n",
       "      <th>...</th>\n",
       "      <td>...</td>\n",
       "      <td>...</td>\n",
       "      <td>...</td>\n",
       "      <td>...</td>\n",
       "      <td>...</td>\n",
       "      <td>...</td>\n",
       "      <td>...</td>\n",
       "      <td>...</td>\n",
       "      <td>...</td>\n",
       "      <td>...</td>\n",
       "      <td>...</td>\n",
       "      <td>...</td>\n",
       "      <td>...</td>\n",
       "      <td>...</td>\n",
       "      <td>...</td>\n",
       "      <td>...</td>\n",
       "      <td>...</td>\n",
       "      <td>...</td>\n",
       "    </tr>\n",
       "    <tr>\n",
       "      <th>22975</th>\n",
       "      <td>TRAIN_22975</td>\n",
       "      <td>2019-08-05 오후 02:40</td>\n",
       "      <td>NaN</td>\n",
       "      <td>흐림</td>\n",
       "      <td>36℃</td>\n",
       "      <td>80%</td>\n",
       "      <td>토목 / 도로 / 기타</td>\n",
       "      <td>NaN</td>\n",
       "      <td>NaN</td>\n",
       "      <td>물체에 맞음</td>\n",
       "      <td>없음</td>\n",
       "      <td>토목 &gt; 관공사</td>\n",
       "      <td>토사 및 암반 &gt; 경사면</td>\n",
       "      <td>매설작업</td>\n",
       "      <td>기타 /</td>\n",
       "      <td>경사면 /</td>\n",
       "      <td>하천인근 우수관로(흄관) 공사작업을 위한 관로 터파기 토사유출로  발생된 사고임</td>\n",
       "      <td>터파기 구배 준수 및 필요시 작업자 안전시설 추가설치, 특별안전교육 실시 및 안전점...</td>\n",
       "    </tr>\n",
       "    <tr>\n",
       "      <th>22976</th>\n",
       "      <td>TRAIN_22976</td>\n",
       "      <td>2019-08-05 오후 02:32</td>\n",
       "      <td>NaN</td>\n",
       "      <td>맑음</td>\n",
       "      <td>36℃</td>\n",
       "      <td>65%</td>\n",
       "      <td>건축 / 건축물 / 공장</td>\n",
       "      <td>NaN</td>\n",
       "      <td>NaN</td>\n",
       "      <td>기타</td>\n",
       "      <td>없음</td>\n",
       "      <td>건축 &gt; 철근콘크리트공사</td>\n",
       "      <td>가시설 &gt; 거푸집</td>\n",
       "      <td>운반작업</td>\n",
       "      <td>공장 /</td>\n",
       "      <td>거푸집 /</td>\n",
       "      <td>1.용접작업장 하부 근로자통제 미흡2.재해자의 자재운반 동선 불량</td>\n",
       "      <td>위험작업구간 관리책임자 배치 강화, 하부 근로자 통제 강화, 불티비산 방지시설 설치...</td>\n",
       "    </tr>\n",
       "    <tr>\n",
       "      <th>23064</th>\n",
       "      <td>TRAIN_23064</td>\n",
       "      <td>2019-07-29 오후 05:20</td>\n",
       "      <td>정규작업 -</td>\n",
       "      <td>맑음</td>\n",
       "      <td>294℃</td>\n",
       "      <td>70%</td>\n",
       "      <td>건축 / 건축물 / 공장</td>\n",
       "      <td>1,101,562㎡</td>\n",
       "      <td>NaN</td>\n",
       "      <td>끼임</td>\n",
       "      <td>없음</td>\n",
       "      <td>건축 &gt; 철골공사</td>\n",
       "      <td>부재 &gt; 철골부재</td>\n",
       "      <td>설치작업</td>\n",
       "      <td>공장 / 외부</td>\n",
       "      <td>철골부재 / 고소</td>\n",
       "      <td>고소작업대 탑승과정중 사고발생</td>\n",
       "      <td>안전사고 재발 방지를 위한 감리자 및 현장관리자의 철저한 현장관리 지시.</td>\n",
       "    </tr>\n",
       "    <tr>\n",
       "      <th>23223</th>\n",
       "      <td>TRAIN_23223</td>\n",
       "      <td>2019-07-17 오전 11:40</td>\n",
       "      <td>정규작업 -</td>\n",
       "      <td>맑음</td>\n",
       "      <td>265℃</td>\n",
       "      <td>60%</td>\n",
       "      <td>건축 / 건축물 / 근린생활시설</td>\n",
       "      <td>499.80㎡</td>\n",
       "      <td>지상 3층, 지하 0층</td>\n",
       "      <td>넘어짐(기타)</td>\n",
       "      <td>없음</td>\n",
       "      <td>건축 &gt; 철골공사</td>\n",
       "      <td>시설물 &gt; 건물</td>\n",
       "      <td>조립작업</td>\n",
       "      <td>근린생활시설 / 외부</td>\n",
       "      <td>건물 / 고소</td>\n",
       "      <td>2층 캐노피 상부에서 판넬설치 작업 중 창주위에 나사를 박기위해 두손으로 전동공구를...</td>\n",
       "      <td>안전사고 재발 방지를 위한 안전교육 실시</td>\n",
       "    </tr>\n",
       "    <tr>\n",
       "      <th>23312</th>\n",
       "      <td>TRAIN_23312</td>\n",
       "      <td>2019-07-10 오후 02:00</td>\n",
       "      <td>정규작업 -</td>\n",
       "      <td>강우</td>\n",
       "      <td>225℃</td>\n",
       "      <td>72%</td>\n",
       "      <td>건축 / 건축물 / 공동주택</td>\n",
       "      <td>583,738㎡</td>\n",
       "      <td>지상 39층, 지하 0층</td>\n",
       "      <td>떨어짐(2미터 미만)</td>\n",
       "      <td>없음</td>\n",
       "      <td>기타 &gt; 기타</td>\n",
       "      <td>기타 &gt; 건설폐기물</td>\n",
       "      <td>해체작업</td>\n",
       "      <td>공동주택 / 내부</td>\n",
       "      <td>건설폐기물 / 고소</td>\n",
       "      <td>신체 균형상실</td>\n",
       "      <td>미끄러짐 등 떨어짐 위험구간 작업 시 사전 작업공간 확보와 안전대 부착걸이 및 안전...</td>\n",
       "    </tr>\n",
       "  </tbody>\n",
       "</table>\n",
       "<p>695 rows × 18 columns</p>\n",
       "</div>"
      ],
      "text/plain": [
       "                ID                 발생일시 사고인지 시간  날씨    기온   습도  \\\n",
       "81     TRAIN_00081  2023-12-26 오후 02:00  정규작업 -  맑음   91℃  50%   \n",
       "110    TRAIN_00110  2023-12-25 오전 08:00  정규작업 -  흐림  -26℃  98%   \n",
       "120    TRAIN_00120  2023-12-23 오후 02:20  정규작업 -  흐림  -64℃  80%   \n",
       "183    TRAIN_00183  2023-12-20 오전 10:30  정규작업 -  맑음  -64℃  65%   \n",
       "226    TRAIN_00226  2023-12-18 오전 10:30  정규작업 -  흐림  -54℃  98%   \n",
       "...            ...                  ...     ...  ..   ...  ...   \n",
       "22975  TRAIN_22975  2019-08-05 오후 02:40     NaN  흐림   36℃  80%   \n",
       "22976  TRAIN_22976  2019-08-05 오후 02:32     NaN  맑음   36℃  65%   \n",
       "23064  TRAIN_23064  2019-07-29 오후 05:20  정규작업 -  맑음  294℃  70%   \n",
       "23223  TRAIN_23223  2019-07-17 오전 11:40  정규작업 -  맑음  265℃  60%   \n",
       "23312  TRAIN_23312  2019-07-10 오후 02:00  정규작업 -  강우  225℃  72%   \n",
       "\n",
       "                    공사종류          연면적           층 정보         인적사고 물적사고  \\\n",
       "81       건축 / 건축물 / 업무시설    1,292.59㎡   지상 1층, 지하 4층           끼임   없음   \n",
       "110         토목 / 도로 / 도로          NaN            NaN       물체에 맞음   없음   \n",
       "120      건축 / 건축물 / 공동주택      65,472㎡  지상 28층, 지하 5층       절단, 베임   없음   \n",
       "183      건축 / 건축물 / 공동주택  142,815.91㎡  지상 20층, 지하 2층           찔림   없음   \n",
       "226         토목 / 도로 / 도로          NaN            NaN       물체에 맞음   없음   \n",
       "...                  ...          ...            ...          ...  ...   \n",
       "22975       토목 / 도로 / 기타          NaN            NaN       물체에 맞음   없음   \n",
       "22976      건축 / 건축물 / 공장          NaN            NaN           기타   없음   \n",
       "23064      건축 / 건축물 / 공장   1,101,562㎡            NaN           끼임   없음   \n",
       "23223  건축 / 건축물 / 근린생활시설      499.80㎡   지상 3층, 지하 0층      넘어짐(기타)   없음   \n",
       "23312    건축 / 건축물 / 공동주택     583,738㎡  지상 39층, 지하 0층  떨어짐(2미터 미만)   없음   \n",
       "\n",
       "                   공종           사고객체 작업프로세스           장소           부위  \\\n",
       "81      건축 > 철근콘크리트공사      건설자재 > 철근   타설작업    업무시설 / 외부       철근 / 옆   \n",
       "110     토목 > 철근콘크리트공사      건설자재 > 자재   운반작업      도로 / 외부      자재 / 바닥   \n",
       "120     건축 > 철근콘크리트공사       가시설 > 비계   정리작업    공동주택 / 내부      비계 / 지하   \n",
       "183          토목 > 토공사     건설공구 > 공구류   청소작업    공동주택 / 내부    공구류 / 쪽가위   \n",
       "226    토목 > 해체 및 철거공사      가시설 > 거푸집   해체작업      도로 / 외부  거푸집 / 상부(위)   \n",
       "...               ...            ...    ...          ...          ...   \n",
       "22975        토목 > 관공사  토사 및 암반 > 경사면   매설작업         기타 /        경사면 /   \n",
       "22976   건축 > 철근콘크리트공사      가시설 > 거푸집   운반작업         공장 /        거푸집 /   \n",
       "23064       건축 > 철골공사      부재 > 철골부재   설치작업      공장 / 외부    철골부재 / 고소   \n",
       "23223       건축 > 철골공사       시설물 > 건물   조립작업  근린생활시설 / 외부      건물 / 고소   \n",
       "23312         기타 > 기타     기타 > 건설폐기물   해체작업    공동주택 / 내부   건설폐기물 / 고소   \n",
       "\n",
       "                                                    사고원인  \\\n",
       "81                                               작업자 부주의   \n",
       "110                   거푸집 설치를 위해 유로폼 운반 중 거푸집 낙하로 손가락 협착   \n",
       "120    비계에서 띠장 보걸이 해체 보조작업 후 비계 수직 승강용 사다리를 통해 해치발판을 ...   \n",
       "183    덤프트럭 적재함 후면 토사(흙) 청소 근로자가 부러진 빗자루를 임의로 수리하던 중 ...   \n",
       "226    횡배수관 도수로 거푸집 해체 작업 중재해자 쏨욧이 횡배수관 도수로 덮개의 거푸집 해...   \n",
       "...                                                  ...   \n",
       "22975       하천인근 우수관로(흄관) 공사작업을 위한 관로 터파기 토사유출로  발생된 사고임   \n",
       "22976               1.용접작업장 하부 근로자통제 미흡2.재해자의 자재운반 동선 불량   \n",
       "23064                                   고소작업대 탑승과정중 사고발생   \n",
       "23223  2층 캐노피 상부에서 판넬설치 작업 중 창주위에 나사를 박기위해 두손으로 전동공구를...   \n",
       "23312                                            신체 균형상실   \n",
       "\n",
       "                                         재발방지대책 및 향후조치계획  \n",
       "81              작업전 사전 안전교육 실시와 작업자의 부주의한 행동 항시 모니터링 감시.  \n",
       "110    인력운반 시 작업방법 및 작업순서 교육 실시와 현장 관리 강화를 통한 동일 사고 발...  \n",
       "120    해치발판 사용 시 덮개 완전 개방, 관리감독 철저, 안전교육 실시 및 안전관리 철저...  \n",
       "183    자재와 공구에 대한 미숙련 근로자의 임의수리 금지와 해당 공종 전체 근로자 및 관리...  \n",
       "226    유사사고 방지를 위한 실질적인 재발 방지 대책으로 거푸집 해체 작업 시 작업 방법 ...  \n",
       "...                                                  ...  \n",
       "22975  터파기 구배 준수 및 필요시 작업자 안전시설 추가설치, 특별안전교육 실시 및 안전점...  \n",
       "22976  위험작업구간 관리책임자 배치 강화, 하부 근로자 통제 강화, 불티비산 방지시설 설치...  \n",
       "23064           안전사고 재발 방지를 위한 감리자 및 현장관리자의 철저한 현장관리 지시.  \n",
       "23223                             안전사고 재발 방지를 위한 안전교육 실시  \n",
       "23312  미끄러짐 등 떨어짐 위험구간 작업 시 사전 작업공간 확보와 안전대 부착걸이 및 안전...  \n",
       "\n",
       "[695 rows x 18 columns]"
      ]
     },
     "execution_count": 16,
     "metadata": {},
     "output_type": "execute_result"
    }
   ],
   "source": [
    "train_data.loc[wrong.index]"
   ]
  },
  {
   "cell_type": "markdown",
   "metadata": {},
   "source": [
    "#### 습도"
   ]
  },
  {
   "cell_type": "code",
   "execution_count": 17,
   "metadata": {},
   "outputs": [],
   "source": [
    "humidity =  train_data.iloc[:, 5]\n",
    "humidity =  humidity.map(lambda x: x[:-1])\n",
    "humidity =  humidity.astype(float)\n",
    "humidity\n",
    "serieses.append(humidity)"
   ]
  },
  {
   "cell_type": "markdown",
   "metadata": {},
   "source": [
    "#### 공사종류"
   ]
  },
  {
   "cell_type": "code",
   "execution_count": 18,
   "metadata": {},
   "outputs": [],
   "source": [
    "kind =  train_data.iloc[:, 6]"
   ]
  },
  {
   "cell_type": "code",
   "execution_count": 19,
   "metadata": {},
   "outputs": [
    {
     "data": {
      "text/html": [
       "<div>\n",
       "<style scoped>\n",
       "    .dataframe tbody tr th:only-of-type {\n",
       "        vertical-align: middle;\n",
       "    }\n",
       "\n",
       "    .dataframe tbody tr th {\n",
       "        vertical-align: top;\n",
       "    }\n",
       "\n",
       "    .dataframe thead th {\n",
       "        text-align: right;\n",
       "    }\n",
       "</style>\n",
       "<table border=\"1\" class=\"dataframe\">\n",
       "  <thead>\n",
       "    <tr style=\"text-align: right;\">\n",
       "      <th></th>\n",
       "      <th>대분류(공사장위치)</th>\n",
       "      <th>중분류(공사장위치)</th>\n",
       "      <th>소분류(공사장위치)</th>\n",
       "      <th>극소분류(공사장위치)</th>\n",
       "    </tr>\n",
       "  </thead>\n",
       "  <tbody>\n",
       "    <tr>\n",
       "      <th>0</th>\n",
       "      <td>건축</td>\n",
       "      <td>건축물</td>\n",
       "      <td>근린생활시설</td>\n",
       "      <td>NaN</td>\n",
       "    </tr>\n",
       "    <tr>\n",
       "      <th>1</th>\n",
       "      <td>토목</td>\n",
       "      <td>터널</td>\n",
       "      <td>철도터널</td>\n",
       "      <td>NaN</td>\n",
       "    </tr>\n",
       "    <tr>\n",
       "      <th>2</th>\n",
       "      <td>건축</td>\n",
       "      <td>건축물</td>\n",
       "      <td>업무시설</td>\n",
       "      <td>NaN</td>\n",
       "    </tr>\n",
       "    <tr>\n",
       "      <th>3</th>\n",
       "      <td>토목</td>\n",
       "      <td>하천</td>\n",
       "      <td>기타</td>\n",
       "      <td>NaN</td>\n",
       "    </tr>\n",
       "    <tr>\n",
       "      <th>4</th>\n",
       "      <td>건축</td>\n",
       "      <td>건축물</td>\n",
       "      <td>공동주택</td>\n",
       "      <td>NaN</td>\n",
       "    </tr>\n",
       "    <tr>\n",
       "      <th>...</th>\n",
       "      <td>...</td>\n",
       "      <td>...</td>\n",
       "      <td>...</td>\n",
       "      <td>...</td>\n",
       "    </tr>\n",
       "    <tr>\n",
       "      <th>23417</th>\n",
       "      <td>건축</td>\n",
       "      <td>건축물</td>\n",
       "      <td>교육연구시설</td>\n",
       "      <td>NaN</td>\n",
       "    </tr>\n",
       "    <tr>\n",
       "      <th>23418</th>\n",
       "      <td>건축</td>\n",
       "      <td>건축물</td>\n",
       "      <td>공동주택</td>\n",
       "      <td>NaN</td>\n",
       "    </tr>\n",
       "    <tr>\n",
       "      <th>23419</th>\n",
       "      <td>건축</td>\n",
       "      <td>건축물</td>\n",
       "      <td>문화 및 집회시설</td>\n",
       "      <td>NaN</td>\n",
       "    </tr>\n",
       "    <tr>\n",
       "      <th>23420</th>\n",
       "      <td>건축</td>\n",
       "      <td>건축물</td>\n",
       "      <td>공장</td>\n",
       "      <td>NaN</td>\n",
       "    </tr>\n",
       "    <tr>\n",
       "      <th>23421</th>\n",
       "      <td>건축</td>\n",
       "      <td>건축물</td>\n",
       "      <td>종교시설</td>\n",
       "      <td>NaN</td>\n",
       "    </tr>\n",
       "  </tbody>\n",
       "</table>\n",
       "<p>23422 rows × 4 columns</p>\n",
       "</div>"
      ],
      "text/plain": [
       "      대분류(공사장위치) 중분류(공사장위치)  소분류(공사장위치) 극소분류(공사장위치)\n",
       "0            건축        건축물       근린생활시설         NaN\n",
       "1            토목         터널         철도터널         NaN\n",
       "2            건축        건축물         업무시설         NaN\n",
       "3            토목         하천           기타         NaN\n",
       "4            건축        건축물         공동주택         NaN\n",
       "...          ...        ...         ...         ...\n",
       "23417        건축        건축물       교육연구시설         NaN\n",
       "23418        건축        건축물         공동주택         NaN\n",
       "23419        건축        건축물    문화 및 집회시설         NaN\n",
       "23420        건축        건축물           공장         NaN\n",
       "23421        건축        건축물         종교시설         NaN\n",
       "\n",
       "[23422 rows x 4 columns]"
      ]
     },
     "execution_count": 19,
     "metadata": {},
     "output_type": "execute_result"
    }
   ],
   "source": [
    "## 형식확인\n",
    "# print(kind.map(lambda x : len(x.split('/'))).value_counts())\n",
    "\n",
    "## 그치 2, 4, 1일수잇구나.. 확인..\n",
    "kinds = []\n",
    "\n",
    "for i in range(4):\n",
    "    kinds.append(kind.map(lambda x : x.split('/')[i] if len(x.split('/'))> i else np.nan ))\n",
    "\n",
    "# kind_0 =  kind.map(lambda x : x.split('/')[0])\n",
    "# kind_1 = kind.map(lambda x : x.split('/')[1] if len(x.split('/'))> 1 else np.nan )\n",
    "# kind_2 = kind.map(lambda x : x.split('/')[2] if len(x.split('/'))> 2 else np.nan )\n",
    "# kind_3 = kind.map(lambda x : x.split('/')[3] if len(x.split('/'))> 3 else np.nan )\n",
    "\n",
    "kind_sep =  pd.concat(kinds, axis=1)\n",
    "kind_sep.columns = ['대분류(공사장위치)','중분류(공사장위치)','소분류(공사장위치)', '극소분류(공사장위치)']\n",
    "\n",
    "serieses.append(kind_sep)\n",
    "kind_sep"
   ]
  },
  {
   "cell_type": "markdown",
   "metadata": {},
   "source": [
    "#### 연면적, 층정보 (7,8)"
   ]
  },
  {
   "cell_type": "code",
   "execution_count": 20,
   "metadata": {},
   "outputs": [],
   "source": [
    "area = train_data.iloc[:, 7]\n",
    "area = area.map(lambda x: x[:-1].replace(',', ''), 'ignore').astype(float)\n",
    "serieses.append(area)"
   ]
  },
  {
   "cell_type": "code",
   "execution_count": 21,
   "metadata": {},
   "outputs": [
    {
     "name": "stdout",
     "output_type": "stream",
     "text": [
      "['지상 14층' '지상 5층' '지상 27층' '지상 12층' '지상 1층' '지상 3층' '지상 49층' '지상 4층'\n",
      " '지상 28층' '지상 20층' '지상 29층' '지상 9층' '지상 15층' '지상 34층' '지상 8층' '지상 2층'\n",
      " '지상 16층' '지상 25층' '지상 22층' '지상 43층' '지상 6층' '지상 33층' '지상 24층' '지상 11층'\n",
      " '지상 48층' '지상 35층' '지상 13층' '지상 36층' '지상 30층' '지상 23층' '지상 7층' '지상 39층'\n",
      " '지상 10층' '지상 18층' '지상 44층' '지상 32층' '지상 47층' '지상 40층' '지상 21층' '지상 37층'\n",
      " '지상 0층' '지상 41층' '지상 26층' '지상 19층' '지상 38층' '지상 17층' '지상 31층' '지상 42층'\n",
      " '지상 70층' '지상 45층' '지상 46층' '지상 57층' '지상 59층' '지상 105층' '지상 254층'\n",
      " '지상 101층' '지상 69층' '지상 65층']\n",
      "층정보(지하)\n",
      "지하 1층     4230\n",
      "지하 2층     3418\n",
      "지하 0층     2795\n",
      "지하 3층     1675\n",
      "지하 4층     1180\n",
      "지하 5층      795\n",
      "지하 6층      380\n",
      "지하 7층      175\n",
      "지하 29층      57\n",
      "지하 20층      56\n",
      "지하 8층       50\n",
      "지하 25층      46\n",
      "지하 35층      35\n",
      "지하 10층      31\n",
      "지하 9층       31\n",
      "지하 15층      27\n",
      "지하 49층      24\n",
      "지하 27층      22\n",
      "지하 12층      17\n",
      "지하 11층      16\n",
      "지하 23층      14\n",
      "지하 24층      10\n",
      "지하 28층      10\n",
      "지하 18층       9\n",
      "지하 37층       9\n",
      "지하 19층       8\n",
      "지하 14층       8\n",
      "지하 33층       7\n",
      "지하 34층       7\n",
      "지하 36층       6\n",
      "지하 43층       6\n",
      "지하 13층       6\n",
      "지하 26층       6\n",
      "지하 39층       5\n",
      "지하 17층       5\n",
      "지하 38층       5\n",
      "지하 22층       4\n",
      "지하 40층       4\n",
      "지하 16층       4\n",
      "지하 47층       4\n",
      "지하 48층       4\n",
      "지하 42층       3\n",
      "지하 21층       3\n",
      "지하 46층       3\n",
      "지하 44층       3\n",
      "지하 32층       3\n",
      "지하 30층       2\n",
      "지하 31층       1\n",
      "지하 41층       1\n",
      "지하 61층       1\n",
      "지하 45층       1\n",
      "Name: count, dtype: int64\n"
     ]
    }
   ],
   "source": [
    "floor = train_data.iloc[:, 8]\n",
    "up_floor =  floor.map(lambda x: x.split(', ')[0], 'ignore')\n",
    "down_floor = floor.map(lambda x: x.split(', ')[1], 'ignore')\n",
    "up_floor.name = '층정보(지상)'\n",
    "down_floor.name = '층정보(지하)'\n",
    "print(up_floor.dropna().unique())\n",
    "print(down_floor.dropna().value_counts())\n",
    "## 크크 개또라이같네요\n",
    "## 얘그냥 스킵할게요~\n",
    "serieses.append(up_floor)\n",
    "serieses.append(down_floor)"
   ]
  },
  {
   "cell_type": "markdown",
   "metadata": {},
   "source": [
    "#### 인적사고(9) - 변화 없음"
   ]
  },
  {
   "cell_type": "code",
   "execution_count": 22,
   "metadata": {},
   "outputs": [
    {
     "name": "stdout",
     "output_type": "stream",
     "text": [
      "인적사고\n",
      "물체에 맞음                   3460\n",
      "끼임                       2549\n",
      "넘어짐(미끄러짐)                2188\n",
      "넘어짐(기타)                  2063\n",
      "기타                       1915\n",
      "부딪힘                      1815\n",
      "떨어짐(2미터 미만)              1735\n",
      "절단, 베임                   1661\n",
      "넘어짐(물체에 걸림)              1490\n",
      "떨어짐(2미터 이상 ~ 3미터 미만)      759\n",
      "떨어짐(분류불능)                 708\n",
      "떨어짐(3미터 이상 ~ 5미터 미만)      545\n",
      "깔림                        514\n",
      "질병                        383\n",
      "찔림                        306\n",
      "떨어짐(5미터 이상 ~ 10미터 미만)     298\n",
      "분류불능                      225\n",
      "떨어짐(10미터 이상)              210\n",
      "없음                        196\n",
      "화상                        181\n",
      "교통사고                      122\n",
      "감전                         49\n",
      "질식                         18\n",
      "Name: count, dtype: int64\n"
     ]
    }
   ],
   "source": [
    "acc_kind =  train_data.iloc[:, 9]\n",
    "\n",
    "print(acc_kind.value_counts())\n",
    "\n",
    "serieses.append(acc_kind)\n",
    "\n",
    "# acc_kind.replace(['기타','분류불능'], np.nan, inplace=True)"
   ]
  },
  {
   "cell_type": "markdown",
   "metadata": {},
   "source": [
    "#### 물적사고(10) 변화 없음"
   ]
  },
  {
   "cell_type": "code",
   "execution_count": 23,
   "metadata": {},
   "outputs": [],
   "source": [
    "acc_product =  train_data.iloc[:, 10]\n",
    "\n",
    "acc_product.value_counts()\n",
    "\n",
    "serieses.append(acc_product)"
   ]
  },
  {
   "cell_type": "markdown",
   "metadata": {},
   "source": [
    "#### 공종(11)"
   ]
  },
  {
   "cell_type": "code",
   "execution_count": 24,
   "metadata": {},
   "outputs": [
    {
     "name": "stdout",
     "output_type": "stream",
     "text": [
      "공종\n",
      "2.0    23411\n",
      "Name: count, dtype: int64\n"
     ]
    }
   ],
   "source": [
    "construct_kind =  train_data.iloc[:, 11]\n",
    "print(construct_kind.map(lambda x : len(x.split('>')), 'ignore').value_counts())\n",
    "\n",
    "construct_kinds = []\n",
    "for i in range(2):\n",
    "    construct_kinds.append(construct_kind.map(lambda x : x.split('>')[i] if len(x.split('>')) > i else np.nan, 'ignore'))\n",
    "\n",
    "construct_kinds_df =  pd.concat(construct_kinds, axis=1)\n",
    "construct_kinds_df.columns = ['대분류(공종)' , '소분류(공종)']\n",
    "construct_kinds_df\n",
    "\n",
    "serieses.append(construct_kinds_df)"
   ]
  },
  {
   "cell_type": "markdown",
   "metadata": {},
   "source": [
    "#### 사고객체(12)"
   ]
  },
  {
   "cell_type": "code",
   "execution_count": 25,
   "metadata": {},
   "outputs": [
    {
     "data": {
      "text/plain": [
       "Index(['ID', '발생일시', '사고인지 시간', '날씨', '기온', '습도', '공사종류', '연면적', '층 정보',\n",
       "       '인적사고', '물적사고', '공종', '사고객체', '작업프로세스', '장소', '부위', '사고원인',\n",
       "       '재발방지대책 및 향후조치계획'],\n",
       "      dtype='object')"
      ]
     },
     "execution_count": 25,
     "metadata": {},
     "output_type": "execute_result"
    }
   ],
   "source": [
    "train_data.columns\n",
    "# train_data.iloc[:, 12]"
   ]
  },
  {
   "cell_type": "code",
   "execution_count": 26,
   "metadata": {},
   "outputs": [
    {
     "name": "stdout",
     "output_type": "stream",
     "text": [
      "사고객체\n",
      "2.0    22735\n",
      "Name: count, dtype: int64\n"
     ]
    }
   ],
   "source": [
    "acc_obj =  train_data.iloc[:, 12]\n",
    "print(acc_obj.map(lambda x : len(x.split('>')), 'ignore').value_counts())\n",
    "\n",
    "acc_objs = []\n",
    "for i in range(2):\n",
    "    acc_objs.append(acc_obj.map(lambda x : x.split('>')[i] if len(x.split('>')) > i else np.nan, 'ignore'))\n",
    "\n",
    "acc_objs_df =  pd.concat(acc_objs, axis=1)\n",
    "acc_objs_df.columns = ['대분류(사고객체)' , '소분류(사고객체)']\n",
    "acc_objs_df\n",
    "\n",
    "serieses.append(acc_objs_df)"
   ]
  },
  {
   "cell_type": "markdown",
   "metadata": {},
   "source": [
    "#### 작업프로세스(13) 작업무필요"
   ]
  },
  {
   "cell_type": "code",
   "execution_count": 27,
   "metadata": {},
   "outputs": [],
   "source": [
    "train_data.iloc[:, 13].unique()\n",
    "\n",
    "serieses.append(train_data.iloc[:, 13])"
   ]
  },
  {
   "cell_type": "markdown",
   "metadata": {},
   "source": [
    "#### 장소(14) "
   ]
  },
  {
   "cell_type": "code",
   "execution_count": 28,
   "metadata": {},
   "outputs": [
    {
     "name": "stdout",
     "output_type": "stream",
     "text": [
      "장소\n",
      "2    22601\n",
      "1      816\n",
      "3        5\n",
      "Name: count, dtype: int64\n"
     ]
    }
   ],
   "source": [
    "place =  train_data.iloc[:, 14]\n",
    "print(place.map(lambda x : len(x.split(' /')), 'ignore').value_counts())\n",
    "\n",
    "places = []\n",
    "for i in range(3):\n",
    "    places.append(place.map(lambda x : x.split(' /')[i].strip() if len(x.split(' /')) > i else np.nan, 'ignore'))\n",
    "\n",
    "places_df =  pd.concat(places, axis=1)\n",
    "places_df.columns = ['대분류(장소)' , '소분류(장소)', '기타분류(장소)']\n",
    "places_df\n",
    "serieses.append(places_df)"
   ]
  },
  {
   "cell_type": "markdown",
   "metadata": {},
   "source": [
    "#### 부위(15)( 실제로 다친 곳)"
   ]
  },
  {
   "cell_type": "code",
   "execution_count": 29,
   "metadata": {},
   "outputs": [
    {
     "name": "stdout",
     "output_type": "stream",
     "text": [
      "부위\n",
      "2    22731\n",
      "1      687\n",
      "3        3\n",
      "4        1\n",
      "Name: count, dtype: int64\n"
     ]
    }
   ],
   "source": [
    "acc_place =  train_data.iloc[:, 15]\n",
    "print(acc_place.map(lambda x : len(x.split(' /')), 'ignore').value_counts())\n",
    "\n",
    "acc_places = []\n",
    "for i in range(2):\n",
    "    acc_places.append(acc_place.map(lambda x : x.split(' /')[i].strip() if len(x.split(' /')) > i else np.nan, 'ignore'))\n",
    "\n",
    "acc_places_df =  pd.concat(acc_places, axis=1)\n",
    "acc_places_df.columns = ['대분류(다친위치)' , '소분류(다친위치)']\n",
    "acc_places_df\n",
    "\n",
    "serieses.append(acc_places_df)"
   ]
  },
  {
   "cell_type": "markdown",
   "metadata": {},
   "source": [
    "#### 사고원인, 재발방지대책 및 향후조치계획 등은 일단 생략 ( 16, 17)"
   ]
  },
  {
   "cell_type": "code",
   "execution_count": 30,
   "metadata": {},
   "outputs": [],
   "source": [
    "train_data.iloc[:, 17]\n",
    "\n",
    "serieses.append(train_data.iloc[:, [16, 17]])"
   ]
  },
  {
   "cell_type": "markdown",
   "metadata": {},
   "source": [
    "#### 합치기\n",
    "\n"
   ]
  },
  {
   "cell_type": "code",
   "execution_count": 43,
   "metadata": {},
   "outputs": [],
   "source": [
    "train_preprocessed =  pd.concat(serieses, axis=1)\n",
    "\n"
   ]
  },
  {
   "cell_type": "code",
   "execution_count": 45,
   "metadata": {},
   "outputs": [],
   "source": [
    "train_preprocessed.to_csv('../data/train_preprocessed.csv', index=None)"
   ]
  },
  {
   "cell_type": "markdown",
   "metadata": {},
   "source": [
    "### test 데이터 구경"
   ]
  },
  {
   "cell_type": "code",
   "execution_count": 32,
   "metadata": {},
   "outputs": [
    {
     "data": {
      "text/html": [
       "<div>\n",
       "<style scoped>\n",
       "    .dataframe tbody tr th:only-of-type {\n",
       "        vertical-align: middle;\n",
       "    }\n",
       "\n",
       "    .dataframe tbody tr th {\n",
       "        vertical-align: top;\n",
       "    }\n",
       "\n",
       "    .dataframe thead th {\n",
       "        text-align: right;\n",
       "    }\n",
       "</style>\n",
       "<table border=\"1\" class=\"dataframe\">\n",
       "  <thead>\n",
       "    <tr style=\"text-align: right;\">\n",
       "      <th></th>\n",
       "      <th>ID</th>\n",
       "      <th>발생일시</th>\n",
       "      <th>사고인지 시간</th>\n",
       "      <th>날씨</th>\n",
       "      <th>기온</th>\n",
       "      <th>습도</th>\n",
       "      <th>공사종류</th>\n",
       "      <th>연면적</th>\n",
       "      <th>층 정보</th>\n",
       "      <th>인적사고</th>\n",
       "      <th>물적사고</th>\n",
       "      <th>공종</th>\n",
       "      <th>사고객체</th>\n",
       "      <th>작업프로세스</th>\n",
       "      <th>장소</th>\n",
       "      <th>부위</th>\n",
       "      <th>사고원인</th>\n",
       "    </tr>\n",
       "  </thead>\n",
       "  <tbody>\n",
       "    <tr>\n",
       "      <th>0</th>\n",
       "      <td>TEST_000</td>\n",
       "      <td>2024-06-03 오전 09:39</td>\n",
       "      <td>정규작업 -</td>\n",
       "      <td>맑음</td>\n",
       "      <td>27℃</td>\n",
       "      <td>53%</td>\n",
       "      <td>건축 / 건축물 / 교정 및 군사시설</td>\n",
       "      <td>1,990.32㎡</td>\n",
       "      <td>지상 1층, 지하 0층</td>\n",
       "      <td>부딪힘</td>\n",
       "      <td>전도</td>\n",
       "      <td>건축 &gt; 철근콘크리트공사</td>\n",
       "      <td>건설기계 &gt; 콘크리트펌프</td>\n",
       "      <td>타설작업</td>\n",
       "      <td>교정 및 군사시설 / 외부</td>\n",
       "      <td>콘크리트펌프 / 바닥</td>\n",
       "      <td>펌프카 아웃트리거 바닥 고임목을 3단으로 보강 했음에도, 지반 침하(아웃트리거 우측...</td>\n",
       "    </tr>\n",
       "    <tr>\n",
       "      <th>1</th>\n",
       "      <td>TEST_001</td>\n",
       "      <td>2024-02-15 오전 09:00</td>\n",
       "      <td>정규작업 -</td>\n",
       "      <td>맑음</td>\n",
       "      <td>5℃</td>\n",
       "      <td>71%</td>\n",
       "      <td>건축 / 건축물 / 운수시설</td>\n",
       "      <td>349,895㎡</td>\n",
       "      <td>지상 5층, 지하 2층</td>\n",
       "      <td>절단, 베임</td>\n",
       "      <td>없음</td>\n",
       "      <td>건축 &gt; 수장공사</td>\n",
       "      <td>건설공구 &gt; 공구류</td>\n",
       "      <td>절단작업</td>\n",
       "      <td>운수시설 / 내부</td>\n",
       "      <td>공구류 / 핸드그라인더</td>\n",
       "      <td>작업자의 불안전한 행동(숫돌 측면 사용) 및 보안면 미 착용</td>\n",
       "    </tr>\n",
       "    <tr>\n",
       "      <th>2</th>\n",
       "      <td>TEST_002</td>\n",
       "      <td>2024-02-01 오전 09:30</td>\n",
       "      <td>작업 전 -</td>\n",
       "      <td>흐림</td>\n",
       "      <td>5℃</td>\n",
       "      <td>58%</td>\n",
       "      <td>건축 / 건축물 / 공동주택</td>\n",
       "      <td>171,198㎡</td>\n",
       "      <td>지상 27층, 지하 2층</td>\n",
       "      <td>떨어짐(2미터 미만)</td>\n",
       "      <td>없음</td>\n",
       "      <td>건축 &gt; 미장공사</td>\n",
       "      <td>기타 &gt; 기타</td>\n",
       "      <td>이동</td>\n",
       "      <td>공동주택 / 내부</td>\n",
       "      <td>기타 / 바닥</td>\n",
       "      <td>작업자가 작업을 위해 이동 중 전방을 주시하지 않아 발을 헛디뎌 계단에서 굴러 넘어짐</td>\n",
       "    </tr>\n",
       "    <tr>\n",
       "      <th>3</th>\n",
       "      <td>TEST_003</td>\n",
       "      <td>2024-02-06 오후 05:00</td>\n",
       "      <td>정규작업 -</td>\n",
       "      <td>맑음</td>\n",
       "      <td>1℃</td>\n",
       "      <td>87%</td>\n",
       "      <td>건축 / 건축물 / 공동주택</td>\n",
       "      <td>123,540.98㎡</td>\n",
       "      <td>지상 2층, 지하 35층</td>\n",
       "      <td>넘어짐(물체에 걸림)</td>\n",
       "      <td>없음</td>\n",
       "      <td>건축 &gt; 조적공사</td>\n",
       "      <td>건설자재 &gt; 자재</td>\n",
       "      <td>기타</td>\n",
       "      <td>공동주택 / 102동 801호 세대 내부</td>\n",
       "      <td>자재 / 말비계(H:720mm)</td>\n",
       "      <td>작업 발판 위 벽돌 잔재를 밟고 넘어짐</td>\n",
       "    </tr>\n",
       "    <tr>\n",
       "      <th>4</th>\n",
       "      <td>TEST_004</td>\n",
       "      <td>2024-06-03 오전 11:35</td>\n",
       "      <td>기타 -</td>\n",
       "      <td>흐림</td>\n",
       "      <td>22℃</td>\n",
       "      <td>60%</td>\n",
       "      <td>토목 / 교량 / 도로교량</td>\n",
       "      <td>-</td>\n",
       "      <td>-</td>\n",
       "      <td>떨어짐(2미터 미만)</td>\n",
       "      <td>없음</td>\n",
       "      <td>토목 &gt; 교량공사</td>\n",
       "      <td>기타 &gt; 기타</td>\n",
       "      <td>해체작업</td>\n",
       "      <td>도로교량 / 외부</td>\n",
       "      <td>기타 / 바닥</td>\n",
       "      <td>점심식사를 위한 이동시 작업자 부주의로 인한 추락사고 발생</td>\n",
       "    </tr>\n",
       "  </tbody>\n",
       "</table>\n",
       "</div>"
      ],
      "text/plain": [
       "         ID                 발생일시 사고인지 시간  날씨   기온   습도                  공사종류  \\\n",
       "0  TEST_000  2024-06-03 오전 09:39  정규작업 -  맑음  27℃  53%  건축 / 건축물 / 교정 및 군사시설   \n",
       "1  TEST_001  2024-02-15 오전 09:00  정규작업 -  맑음   5℃  71%       건축 / 건축물 / 운수시설   \n",
       "2  TEST_002  2024-02-01 오전 09:30  작업 전 -  흐림   5℃  58%       건축 / 건축물 / 공동주택   \n",
       "3  TEST_003  2024-02-06 오후 05:00  정규작업 -  맑음   1℃  87%       건축 / 건축물 / 공동주택   \n",
       "4  TEST_004  2024-06-03 오전 11:35    기타 -  흐림  22℃  60%        토목 / 교량 / 도로교량   \n",
       "\n",
       "           연면적           층 정보         인적사고 물적사고             공종           사고객체  \\\n",
       "0    1,990.32㎡   지상 1층, 지하 0층          부딪힘   전도  건축 > 철근콘크리트공사  건설기계 > 콘크리트펌프   \n",
       "1     349,895㎡   지상 5층, 지하 2층       절단, 베임   없음      건축 > 수장공사     건설공구 > 공구류   \n",
       "2     171,198㎡  지상 27층, 지하 2층  떨어짐(2미터 미만)   없음      건축 > 미장공사        기타 > 기타   \n",
       "3  123,540.98㎡  지상 2층, 지하 35층  넘어짐(물체에 걸림)   없음      건축 > 조적공사      건설자재 > 자재   \n",
       "4            -              -  떨어짐(2미터 미만)   없음      토목 > 교량공사        기타 > 기타   \n",
       "\n",
       "  작업프로세스                      장소                 부위  \\\n",
       "0   타설작업          교정 및 군사시설 / 외부        콘크리트펌프 / 바닥   \n",
       "1   절단작업               운수시설 / 내부       공구류 / 핸드그라인더   \n",
       "2     이동               공동주택 / 내부            기타 / 바닥   \n",
       "3     기타  공동주택 / 102동 801호 세대 내부  자재 / 말비계(H:720mm)   \n",
       "4   해체작업               도로교량 / 외부            기타 / 바닥   \n",
       "\n",
       "                                                사고원인  \n",
       "0  펌프카 아웃트리거 바닥 고임목을 3단으로 보강 했음에도, 지반 침하(아웃트리거 우측...  \n",
       "1                  작업자의 불안전한 행동(숫돌 측면 사용) 및 보안면 미 착용  \n",
       "2    작업자가 작업을 위해 이동 중 전방을 주시하지 않아 발을 헛디뎌 계단에서 굴러 넘어짐  \n",
       "3                              작업 발판 위 벽돌 잔재를 밟고 넘어짐  \n",
       "4                   점심식사를 위한 이동시 작업자 부주의로 인한 추락사고 발생  "
      ]
     },
     "execution_count": 32,
     "metadata": {},
     "output_type": "execute_result"
    }
   ],
   "source": [
    "test =  pd.read_csv('../data/test.csv')\n",
    "test.head()\n",
    "## 재발방지대첵만 없네"
   ]
  },
  {
   "cell_type": "markdown",
   "metadata": {},
   "source": [
    "### sample_submission 구경\n",
    "### 오케이그냥 임베딩 모델만 갖다주면될거같다 넘어가자..\n"
   ]
  },
  {
   "cell_type": "code",
   "execution_count": 33,
   "metadata": {},
   "outputs": [],
   "source": [
    "from transformers import AutoTokenizer, AutoModel\n",
    "import torch\n",
    "\n",
    "\n",
    "# #Mean Pooling - Take attention mask into account for correct averaging\n",
    "# def mean_pooling(model_output, attention_mask):\n",
    "#     token_embeddings = model_output[0] #First element of model_output contains all token embeddings\n",
    "#     input_mask_expanded = attention_mask.unsqueeze(-1).expand(token_embeddings.size()).float()\n",
    "#     return torch.sum(token_embeddings * input_mask_expanded, 1) / torch.clamp(input_mask_expanded.sum(1), min=1e-9)\n",
    "\n",
    "\n",
    "# # Sentences we want sentence embeddings for\n",
    "# sentences = ['This is an example sentence', 'Each sentence is converted']\n",
    "\n",
    "# # Load model from HuggingFace Hub\n",
    "# tokenizer = AutoTokenizer.from_pretrained('jhgan/ko-sbert-sts')\n",
    "# model = AutoModel.from_pretrained('jhgan/ko-sbert-sts')\n",
    "\n",
    "# # Tokenize sentences\n",
    "# encoded_input = tokenizer(sentences, padding=True, truncation=True, return_tensors='pt')\n",
    "\n",
    "# # Compute token embeddings\n",
    "# with torch.no_grad():\n",
    "#     model_output = model(**encoded_input)\n",
    "\n",
    "# # Perform pooling. In this case, mean pooling.\n",
    "# sentence_embeddings = mean_pooling(model_output, encoded_input['attention_mask'])\n",
    "\n",
    "# print(\"Sentence embeddings:\")\n",
    "# print(sentence_embeddings)\n",
    "\n"
   ]
  },
  {
   "cell_type": "code",
   "execution_count": 34,
   "metadata": {},
   "outputs": [],
   "source": [
    "from transformers import AutoTokenizer, AutoModel\n",
    "import torch\n",
    "\n",
    "tokenizer = AutoTokenizer.from_pretrained('jhgan/ko-sbert-sts')\n",
    "encoded_input =  tokenizer(['안녕하세요'], padding=True, truncation=True, return_tensors='pt')"
   ]
  },
  {
   "cell_type": "code",
   "execution_count": 35,
   "metadata": {},
   "outputs": [],
   "source": [
    "sample =  pd.read_csv('../data/sample_submission.csv')"
   ]
  },
  {
   "cell_type": "code",
   "execution_count": 36,
   "metadata": {},
   "outputs": [
    {
     "name": "stdout",
     "output_type": "stream",
     "text": [
      "Sentence embeddings:\n",
      "tensor([[ 0.5407,  0.6612, -0.6071,  ..., -0.8402,  1.6166,  0.0804],\n",
      "        [ 0.0258, -0.0075, -0.4525,  ..., -0.2425,  1.1695, -0.1204]])\n"
     ]
    }
   ],
   "source": [
    "from transformers import AutoTokenizer, AutoModel\n",
    "import torch\n",
    "\n",
    "\n",
    "#Mean Pooling - Take attention mask into account for correct averaging\n",
    "def mean_pooling(model_output, attention_mask):\n",
    "    token_embeddings = model_output[0] #First element of model_output contains all token embeddings\n",
    "    input_mask_expanded = attention_mask.unsqueeze(-1).expand(token_embeddings.size()).float()\n",
    "    return torch.sum(token_embeddings * input_mask_expanded, 1) / torch.clamp(input_mask_expanded.sum(1), min=1e-9)\n",
    "\n",
    "\n",
    "# Sentences we want sentence embeddings for\n",
    "sentences = ['This is an example sentence', 'Each sentence is converted']\n",
    "\n",
    "# Load model from HuggingFace Hub\n",
    "tokenizer = AutoTokenizer.from_pretrained('jhgan/ko-sbert-sts')\n",
    "model = AutoModel.from_pretrained('jhgan/ko-sbert-sts')\n",
    "\n",
    "# Tokenize sentences\n",
    "encoded_input = tokenizer(sentences, padding=True, truncation=True, return_tensors='pt')\n",
    "\n",
    "# Compute token embeddings\n",
    "with torch.no_grad():\n",
    "    model_output = model(**encoded_input)\n",
    "\n",
    "# Perform pooling. In this case, mean pooling.\n",
    "sentence_embeddings = mean_pooling(model_output, encoded_input['attention_mask'])\n",
    "\n",
    "print(\"Sentence embeddings:\")\n",
    "print(sentence_embeddings)\n"
   ]
  },
  {
   "cell_type": "code",
   "execution_count": null,
   "metadata": {},
   "outputs": [],
   "source": []
  },
  {
   "cell_type": "code",
   "execution_count": 37,
   "metadata": {},
   "outputs": [],
   "source": [
    "y = train_data.iloc[:, 17]"
   ]
  },
  {
   "cell_type": "code",
   "execution_count": 38,
   "metadata": {},
   "outputs": [
    {
     "data": {
      "text/plain": [
       "<Axes: >"
      ]
     },
     "execution_count": 38,
     "metadata": {},
     "output_type": "execute_result"
    },
    {
     "data": {
      "image/png": "[encoded data removed]",
      "text/plain": [
       "<Figure size 640x480 with 1 Axes>"
      ]
     },
     "metadata": {},
     "output_type": "display_data"
    }
   ],
   "source": [
    "len_y =  y.map(lambda x : len(x))\n",
    "len_y.plot(kind='box')"
   ]
  },
  {
   "cell_type": "code",
   "execution_count": 39,
   "metadata": {},
   "outputs": [
    {
     "data": {
      "text/plain": [
       "count    23422.000000\n",
       "mean        60.187687\n",
       "std         35.060058\n",
       "min          7.000000\n",
       "25%         36.000000\n",
       "50%         51.000000\n",
       "75%         75.000000\n",
       "max        492.000000\n",
       "Name: 재발방지대책 및 향후조치계획, dtype: float64"
      ]
     },
     "execution_count": 39,
     "metadata": {},
     "output_type": "execute_result"
    }
   ],
   "source": [
    "len_y.describe()"
   ]
  },
  {
   "cell_type": "code",
   "execution_count": 40,
   "metadata": {},
   "outputs": [
    {
     "data": {
      "text/plain": [
       "Index(['ID', '발생일시', '사고인지 시간', '날씨', '기온', '습도', '공사종류', '연면적', '층 정보',\n",
       "       '인적사고', '물적사고', '공종', '사고객체', '작업프로세스', '장소', '부위', '사고원인',\n",
       "       '재발방지대책 및 향후조치계획'],\n",
       "      dtype='object')"
      ]
     },
     "execution_count": 40,
     "metadata": {},
     "output_type": "execute_result"
    }
   ],
   "source": [
    "train_data.columns"
   ]
  },
  {
   "cell_type": "code",
   "execution_count": 41,
   "metadata": {},
   "outputs": [
    {
     "data": {
      "text/html": [
       "<div>\n",
       "<style scoped>\n",
       "    .dataframe tbody tr th:only-of-type {\n",
       "        vertical-align: middle;\n",
       "    }\n",
       "\n",
       "    .dataframe tbody tr th {\n",
       "        vertical-align: top;\n",
       "    }\n",
       "\n",
       "    .dataframe thead th {\n",
       "        text-align: right;\n",
       "    }\n",
       "</style>\n",
       "<table border=\"1\" class=\"dataframe\">\n",
       "  <thead>\n",
       "    <tr style=\"text-align: right;\">\n",
       "      <th></th>\n",
       "      <th>사고원인</th>\n",
       "      <th>재발방지대책 및 향후조치계획</th>\n",
       "    </tr>\n",
       "  </thead>\n",
       "  <tbody>\n",
       "    <tr>\n",
       "      <th>1</th>\n",
       "      <td>부주의</td>\n",
       "      <td>재발 방지 대책 마련과 안전교육 실시.</td>\n",
       "    </tr>\n",
       "    <tr>\n",
       "      <th>21</th>\n",
       "      <td>공사현장 내부 바닥자재에 걸려 넘어짐</td>\n",
       "      <td>자재 정리에 대한 강조와 재발 방지 대책.</td>\n",
       "    </tr>\n",
       "    <tr>\n",
       "      <th>50</th>\n",
       "      <td>시스템 동바리 해체 작업 중 재해자가 멍에를 받아서 안고 미끄러지면서 시스템 횡대에...</td>\n",
       "      <td>작업방법 및 순서에 관한 교육 실시.</td>\n",
       "    </tr>\n",
       "    <tr>\n",
       "      <th>118</th>\n",
       "      <td>근로자간의 소통 부재</td>\n",
       "      <td>근로자 안전교육 실시와 안전작업 시행 계획.</td>\n",
       "    </tr>\n",
       "    <tr>\n",
       "      <th>121</th>\n",
       "      <td>작업자 부주의</td>\n",
       "      <td>재발방지 근로자 교육 실시.</td>\n",
       "    </tr>\n",
       "    <tr>\n",
       "      <th>...</th>\n",
       "      <td>...</td>\n",
       "      <td>...</td>\n",
       "    </tr>\n",
       "    <tr>\n",
       "      <th>23379</th>\n",
       "      <td>지하 1층에서 가시설 용접을 마치고 말비계를 내려오던 중 발을 헛디뎌 넘어지면서 왼...</td>\n",
       "      <td>작업자 교육을 통한 재발 방지 대책 마련.</td>\n",
       "    </tr>\n",
       "    <tr>\n",
       "      <th>23390</th>\n",
       "      <td>철근가공하는 숙련된 작업자임이었음. 단순 우연의 사고발생</td>\n",
       "      <td>사고 발생 방지를 위한 감리자의 조치.</td>\n",
       "    </tr>\n",
       "    <tr>\n",
       "      <th>23401</th>\n",
       "      <td>우측 무릎의 타박상</td>\n",
       "      <td>상부 작업 시 하부 통제구역 설정.</td>\n",
       "    </tr>\n",
       "    <tr>\n",
       "      <th>23413</th>\n",
       "      <td>작업구간 내 가설계단 이동 중 다리를 헛디뎌 넘어짐. 우측발목 및 허벅지에 타박상 입음.</td>\n",
       "      <td>근로자 안전교육 실시와 재발방지대책 수립.</td>\n",
       "    </tr>\n",
       "    <tr>\n",
       "      <th>23417</th>\n",
       "      <td>적재물 이동과정에서 적재된 유로폼이 작업자에거 넘어져 사고 발생</td>\n",
       "      <td>현장안전관리와 일용근로자 교육의 철저함.</td>\n",
       "    </tr>\n",
       "  </tbody>\n",
       "</table>\n",
       "<p>1623 rows × 2 columns</p>\n",
       "</div>"
      ],
      "text/plain": [
       "                                                    사고원인  \\\n",
       "1                                                    부주의   \n",
       "21                                  공사현장 내부 바닥자재에 걸려 넘어짐   \n",
       "50     시스템 동바리 해체 작업 중 재해자가 멍에를 받아서 안고 미끄러지면서 시스템 횡대에...   \n",
       "118                                          근로자간의 소통 부재   \n",
       "121                                              작업자 부주의   \n",
       "...                                                  ...   \n",
       "23379  지하 1층에서 가시설 용접을 마치고 말비계를 내려오던 중 발을 헛디뎌 넘어지면서 왼...   \n",
       "23390                    철근가공하는 숙련된 작업자임이었음. 단순 우연의 사고발생   \n",
       "23401                                         우측 무릎의 타박상   \n",
       "23413  작업구간 내 가설계단 이동 중 다리를 헛디뎌 넘어짐. 우측발목 및 허벅지에 타박상 입음.   \n",
       "23417                적재물 이동과정에서 적재된 유로폼이 작업자에거 넘어져 사고 발생   \n",
       "\n",
       "                재발방지대책 및 향후조치계획  \n",
       "1         재발 방지 대책 마련과 안전교육 실시.  \n",
       "21      자재 정리에 대한 강조와 재발 방지 대책.  \n",
       "50         작업방법 및 순서에 관한 교육 실시.  \n",
       "118    근로자 안전교육 실시와 안전작업 시행 계획.  \n",
       "121             재발방지 근로자 교육 실시.  \n",
       "...                         ...  \n",
       "23379   작업자 교육을 통한 재발 방지 대책 마련.  \n",
       "23390     사고 발생 방지를 위한 감리자의 조치.  \n",
       "23401       상부 작업 시 하부 통제구역 설정.  \n",
       "23413   근로자 안전교육 실시와 재발방지대책 수립.  \n",
       "23417    현장안전관리와 일용근로자 교육의 철저함.  \n",
       "\n",
       "[1623 rows x 2 columns]"
      ]
     },
     "execution_count": 41,
     "metadata": {},
     "output_type": "execute_result"
    }
   ],
   "source": [
    "train_data[len_y <25].iloc[:,[-2, -1]]"
   ]
  }
 ],
 "metadata": {
  "kernelspec": {
   "display_name": "secondllm",
   "language": "python",
   "name": "python3"
  },
  "language_info": {
   "codemirror_mode": {
    "name": "ipython",
    "version": 3
   },
   "file_extension": ".py",
   "mimetype": "text/x-python",
   "name": "python",
   "nbconvert_exporter": "python",
   "pygments_lexer": "ipython3",
   "version": "3.10.16"
  }
 },
 "nbformat": 4,
 "nbformat_minor": 2
}
