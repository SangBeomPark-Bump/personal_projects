{
 "cells": [
  {
   "cell_type": "code",
   "execution_count": 1,
   "metadata": {},
   "outputs": [],
   "source": [
    "verbose = True\n",
    "verboses = [True for _ in range(10)]"
   ]
  },
  {
   "cell_type": "code",
   "execution_count": 129,
   "metadata": {},
   "outputs": [],
   "source": [
    "N = 7\n",
    "\n",
    "\n",
    "raw_arr = \"\"\"3 10\n",
    "5 20\n",
    "1 10\n",
    "1 20\n",
    "2 15\n",
    "4 40\n",
    "2 200\"\"\".split('\\n')\n",
    "\n",
    "arr =  [tuple(map(int,row.split())) for row in raw_arr]\n",
    "arr = [(0,0)] + arr\n"
   ]
  },
  {
   "cell_type": "code",
   "execution_count": 130,
   "metadata": {},
   "outputs": [],
   "source": [
    "N = 10\n",
    "\n",
    "\n",
    "raw_arr = \"\"\"1 1\n",
    "1 2\n",
    "1 3\n",
    "1 4\n",
    "1 5\n",
    "1 6\n",
    "1 7\n",
    "1 8\n",
    "1 9\n",
    "1 10\"\"\".split('\\n')\n",
    "\n",
    "arr =  [tuple(map(int,row.split())) for row in raw_arr]\n",
    "arr = [(0,0)] + arr"
   ]
  },
  {
   "cell_type": "code",
   "execution_count": null,
   "metadata": {},
   "outputs": [],
   "source": []
  },
  {
   "cell_type": "code",
   "execution_count": null,
   "metadata": {},
   "outputs": [
    {
     "name": "stdout",
     "output_type": "stream",
     "text": [
      "[0, 0, 0, 10, 10, 10, 10, 10]\n",
      "[0, 0, 0, 10, 10, 10, 20, 20]\n",
      "[0, 0, 0, 10, 10, 10, 20, 20]\n",
      "[0, 0, 0, 10, 30, 30, 30, 30]\n",
      "[0, 0, 0, 10, 30, 30, 45, 45]\n",
      "[0, 0, 0, 10, 30, 30, 45, 45]\n",
      "[0, 0, 0, 10, 30, 30, 45, 45]\n",
      "45\n"
     ]
    }
   ],
   "source": [
    "\n",
    "dp = [[0] * (N+1) for _ in range(N+1)]\n",
    "\n",
    "def test(n):\n",
    "    global dp\n",
    "    day, wage = arr[n]\n",
    "    next = n + day - 1\n",
    "    for i in range(1, N+1):\n",
    "        prev = i - day\n",
    "        case1= 0\n",
    "        case3 = 0\n",
    "        if i == next and prev >= 0:\n",
    "            case1 = dp[n][prev] + wage\n",
    "        case2 = dp[n-1][i]\n",
    "        case3 = dp[n][i-1]\n",
    "\n",
    "        dp[n][i] = max(case1, case2, case3)\n",
    "    print(dp[n])\n",
    "\n",
    "\n",
    "for i in range(1,N+1):\n",
    "    test(i)\n",
    "\n",
    "print(dp[-1][-1])"
   ]
  },
  {
   "cell_type": "code",
   "execution_count": 134,
   "metadata": {},
   "outputs": [
    {
     "name": "stdout",
     "output_type": "stream",
     "text": [
      "55\n"
     ]
    }
   ],
   "source": [
    "dp = [0] * (N+1)\n",
    "\n",
    "def test(n):\n",
    "    global dp\n",
    "    day, wage = arr[n]\n",
    "    next = n + day - 1\n",
    "    for i in range(1, N+1):\n",
    "        prev = i - day\n",
    "        case1= 0\n",
    "        if i == next and prev >= 0:\n",
    "            case1 = dp[prev] + wage\n",
    "        case2 = dp[i-1]\n",
    "\n",
    "        dp[i] = max(case1, case2, dp[i])\n",
    "\n",
    "\n",
    "for i in range(1,N+1):\n",
    "    test(i)\n",
    "\n",
    "print(dp[-1])"
   ]
  },
  {
   "cell_type": "code",
   "execution_count": null,
   "metadata": {},
   "outputs": [],
   "source": []
  },
  {
   "cell_type": "code",
   "execution_count": 39,
   "metadata": {},
   "outputs": [
    {
     "name": "stdout",
     "output_type": "stream",
     "text": [
      "[0, 0, 0, 10, 10, 10, 10, 10]\n",
      "[0, 0, 0, 10, 10, 20, 20, 20]\n",
      "[0, 0, 0, 10, 10, 20, 20, 20]\n",
      "[0, 0, 0, 0, 10, 20, 20, 20]\n",
      "[0, 0, 0, 0, 0, 20, 20, 20]\n",
      "[0, 0, 0, 0, 0, 0, 20, 20]\n",
      "[0, 0, 0, 0, 0, 0, 0, 20]\n"
     ]
    }
   ],
   "source": [
    "dp = [[0] * (N+1) for _ in range(N+1)]\n",
    "for n in range(1, N+1):\n",
    "    for i in range(n, N+1):\n",
    "        day, wage = arr[n]\n",
    "        if i == day:\n",
    "            dp[n][i] = dp[n][prev] + wage\n",
    "        dp[n][i] = max(dp[n][i], dp[n][i - 1], dp[n-1][i])\n",
    "\n",
    "    print(dp[n])"
   ]
  },
  {
   "cell_type": "code",
   "execution_count": null,
   "metadata": {},
   "outputs": [],
   "source": []
  }
 ],
 "metadata": {
  "kernelspec": {
   "display_name": "secondllm",
   "language": "python",
   "name": "python3"
  },
  "language_info": {
   "codemirror_mode": {
    "name": "ipython",
    "version": 3
   },
   "file_extension": ".py",
   "mimetype": "text/x-python",
   "name": "python",
   "nbconvert_exporter": "python",
   "pygments_lexer": "ipython3",
   "version": "3.10.16"
  }
 },
 "nbformat": 4,
 "nbformat_minor": 2
}
