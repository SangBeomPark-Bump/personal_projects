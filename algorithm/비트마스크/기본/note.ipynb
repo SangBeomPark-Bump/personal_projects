{
 "cells": [
  {
   "cell_type": "code",
   "execution_count": null,
   "metadata": {},
   "outputs": [],
   "source": [
    "verbose = True\n",
    "verboses = [True for _ in range(10)]"
   ]
  },
  {
   "cell_type": "code",
   "execution_count": null,
   "metadata": {},
   "outputs": [],
   "source": [
    "N = 7\n",
    "arr =  list(map(int, \"9 9 4 1 4 9 6\".split()))\n",
    "\n",
    "raw_arr = \"\"\"6 13\n",
    "4 8\n",
    "3 6\n",
    "5 12\"\"\".split('\\n')\n",
    "\n",
    "arr =  [tuple(map(int,row.split())) for row in raw_arr]\n",
    "arr =  [int(number) for number in raw_arr]"
   ]
  },
  {
   "cell_type": "code",
   "execution_count": 1,
   "metadata": {},
   "outputs": [
    {
     "name": "stdout",
     "output_type": "stream",
     "text": [
      "362\n",
      "0b101101010\n"
     ]
    }
   ],
   "source": [
    "my_num = 181\n",
    "shift_num = my_num << 1\n",
    "print(shift_num) # 362\n",
    "print(bin(shift_num)) # 0b101101010\n"
   ]
  },
  {
   "cell_type": "code",
   "execution_count": 4,
   "metadata": {},
   "outputs": [
    {
     "data": {
      "text/plain": [
       "'0b10110101'"
      ]
     },
     "execution_count": 4,
     "metadata": {},
     "output_type": "execute_result"
    }
   ],
   "source": [
    "bin(my_num)\n",
    "\n",
    "bin(shift_num >>1)"
   ]
  },
  {
   "cell_type": "code",
   "execution_count": null,
   "metadata": {},
   "outputs": [
    {
     "name": "stdout",
     "output_type": "stream",
     "text": [
      "3번째 위치에 값이 있습니다.\n"
     ]
    }
   ],
   "source": [
    "## and연산\n",
    "my_num = 0b10110101\n",
    "n = 3\n",
    "chk = 1 << (n - 1)\n",
    "if my_num & chk:\n",
    "    print(f\"{n}번째 위치에 값이 있습니다.\")\n",
    "else:\n",
    "    print(f\"{n}번째 위치가 비어 있습니다.\")\n",
    "# 3번째 위치에 값이 있습니다."
   ]
  },
  {
   "cell_type": "code",
   "execution_count": null,
   "metadata": {},
   "outputs": [
    {
     "name": "stdout",
     "output_type": "stream",
     "text": [
      "189\n",
      "0b10111101\n"
     ]
    }
   ],
   "source": [
    "## or연산\n",
    "my_num = 0b10110101\n",
    "n = 4\n",
    "chk = 1 << (n - 1)\n",
    "new_num = my_num | chk\n",
    "print(new_num) # 189\n",
    "print(bin(new_num)) # 0b10111101"
   ]
  },
  {
   "cell_type": "code",
   "execution_count": null,
   "metadata": {},
   "outputs": [],
   "source": [
    "# not 연산\n",
    "my_num = 0b10110101\n",
    "n = 3\n",
    "chk = 1 << (n - 1)\n",
    "new_num = my_num & ~chk\n",
    "print(new_num) # 177\n",
    "print(bin(new_num)) # 0b10110001\n"
   ]
  },
  {
   "cell_type": "code",
   "execution_count": null,
   "metadata": {},
   "outputs": [],
   "source": [
    "# xor연산\n",
    "my_num = 0b10110101\n",
    "n = 3\n",
    "chk = 0b11 << (n - 1)\n",
    "print(bin(chk))\n",
    "new_num = my_num ^ chk\n",
    "print(new_num) # 185\n",
    "print(bin(new_num)) # 0b10111001\n"
   ]
  }
 ],
 "metadata": {
  "kernelspec": {
   "display_name": "secondllm",
   "language": "python",
   "name": "python3"
  },
  "language_info": {
   "codemirror_mode": {
    "name": "ipython",
    "version": 3
   },
   "file_extension": ".py",
   "mimetype": "text/x-python",
   "name": "python",
   "nbconvert_exporter": "python",
   "pygments_lexer": "ipython3",
   "version": "3.10.16"
  }
 },
 "nbformat": 4,
 "nbformat_minor": 2
}
