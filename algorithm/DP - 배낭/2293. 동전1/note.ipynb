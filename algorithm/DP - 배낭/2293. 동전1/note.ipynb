{
 "cells": [
  {
   "cell_type": "code",
   "execution_count": 63,
   "metadata": {},
   "outputs": [],
   "source": [
    "verbose = True\n",
    "verboses = [True for _ in range(10)]"
   ]
  },
  {
   "cell_type": "code",
   "execution_count": 64,
   "metadata": {},
   "outputs": [],
   "source": [
    "N, K = 3, 10\n",
    "\n",
    "raw_arr = \"\"\"1\n",
    "2\n",
    "5\"\"\".split('\\n')\n",
    "\n",
    "arr =  [int(number) for number in raw_arr]\n",
    "arr =  [0] + arr"
   ]
  },
  {
   "cell_type": "code",
   "execution_count": 57,
   "metadata": {},
   "outputs": [],
   "source": [
    "N, K =2, 10\n",
    "\n",
    "raw_arr = \"\"\"2\n",
    "5\"\"\".split('\\n')\n",
    "\n",
    "arr =  [int(number) for number in raw_arr]\n",
    "arr =  [0] + arr"
   ]
  },
  {
   "cell_type": "code",
   "execution_count": 65,
   "metadata": {},
   "outputs": [
    {
     "data": {
      "text/plain": [
       "[0, 1, 2, 5]"
      ]
     },
     "execution_count": 65,
     "metadata": {},
     "output_type": "execute_result"
    }
   ],
   "source": [
    "arr"
   ]
  },
  {
   "cell_type": "code",
   "execution_count": null,
   "metadata": {},
   "outputs": [],
   "source": []
  },
  {
   "cell_type": "code",
   "execution_count": null,
   "metadata": {},
   "outputs": [],
   "source": [
    "dp = [[0 for _ in range(K+1)] for _ in range(N+1)]\n",
    "k = 1\n",
    "n = 1\n",
    "\n",
    "prev = k - arr[n]\n",
    "dp[n][k] = dp[n-1][prev] + 1 + dp[n-1][k]\n"
   ]
  },
  {
   "cell_type": "code",
   "execution_count": 48,
   "metadata": {},
   "outputs": [],
   "source": [
    "dp = [[0 for _ in range(K+1)] for _ in range(N+1)]"
   ]
  },
  {
   "cell_type": "code",
   "execution_count": null,
   "metadata": {},
   "outputs": [
    {
     "name": "stdout",
     "output_type": "stream",
     "text": [
      "[1, 0, 1, 0, 1, 0, 1, 0, 1, 0, 1]\n",
      "[1, 0, 1, 0, 1, 1, 1, 1, 1, 1, 2]\n",
      "[1, 0, 1, 0, 1, 1, 1, 1, 1, 1, 2]\n"
     ]
    }
   ],
   "source": [
    "# dp = [[0 for _ in range(K+1)] for _ in range(N+1)]\n",
    "\n",
    "# def test(n):\n",
    "#     dp[n][0] = 1\n",
    "#     for k in range(1, K+1):\n",
    "#         prev = k - arr[n]\n",
    "#         dp[n][k] = dp[n][prev] + dp[n-1][k]\n",
    "#     print(dp[n])\n",
    "\n",
    "# for i in range(1, N+1):\n",
    "#     test(i)"
   ]
  },
  {
   "cell_type": "code",
   "execution_count": null,
   "metadata": {},
   "outputs": [
    {
     "name": "stdout",
     "output_type": "stream",
     "text": [
      "[1, 0, 1, 0, 1, 0, 1, 0, 1, 0, 1]\n",
      "[1, 0, 1, 0, 1, 1, 1, 1, 1, 1, 2]\n",
      "2\n"
     ]
    }
   ],
   "source": [
    "# dp = [0 for _ in range(K+1)]\n",
    "# dp[0] = 1\n",
    "\n",
    "# def test2(n):\n",
    "#     for k in range(1, K+1):\n",
    "#         prev = k - arr[n]\n",
    "#         if prev>=0:\n",
    "#             dp[k] = dp[prev] + dp[k]\n",
    "#     print(dp)\n",
    "\n",
    "# for i in range(1, N+1):\n",
    "#     test2(i)\n",
    "\n",
    "# print(dp[-1])"
   ]
  },
  {
   "cell_type": "code",
   "execution_count": 66,
   "metadata": {},
   "outputs": [
    {
     "name": "stdout",
     "output_type": "stream",
     "text": [
      "10\n"
     ]
    }
   ],
   "source": [
    "dp = [0 for _ in range(K+1)]\n",
    "dp[0] = 1\n",
    "\n",
    "for n in range(1, N+1):\n",
    "    for k in range(1, K+1):\n",
    "        prev = k - arr[n]\n",
    "        if prev>=0:\n",
    "            dp[k] = dp[prev] + dp[k]\n",
    "\n",
    "print(dp[-1])"
   ]
  }
 ],
 "metadata": {
  "kernelspec": {
   "display_name": "secondllm",
   "language": "python",
   "name": "python3"
  },
  "language_info": {
   "codemirror_mode": {
    "name": "ipython",
    "version": 3
   },
   "file_extension": ".py",
   "mimetype": "text/x-python",
   "name": "python",
   "nbconvert_exporter": "python",
   "pygments_lexer": "ipython3",
   "version": "3.10.16"
  }
 },
 "nbformat": 4,
 "nbformat_minor": 2
}
