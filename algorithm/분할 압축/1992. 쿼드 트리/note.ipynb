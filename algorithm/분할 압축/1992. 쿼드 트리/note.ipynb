{
 "cells": [
  {
   "cell_type": "code",
   "execution_count": 2,
   "metadata": {},
   "outputs": [],
   "source": [
    "verbose = True\n",
    "verboses = [True for _ in range(10)]"
   ]
  },
  {
   "cell_type": "code",
   "execution_count": 30,
   "metadata": {},
   "outputs": [],
   "source": [
    "N = 8\n",
    "raw_arr = \"\"\"11110000\n",
    "11110000\n",
    "00011100\n",
    "00011100\n",
    "11110000\n",
    "11110000\n",
    "11110011\n",
    "11110011\"\"\".split('\\n')\n",
    "\n",
    "arr = [list(map(int, list(row))) for row in raw_arr]"
   ]
  },
  {
   "cell_type": "code",
   "execution_count": 23,
   "metadata": {},
   "outputs": [],
   "source": [
    "N = 4\n",
    "raw_arr = \"\"\"1100\n",
    "1100\n",
    "0011\n",
    "0011\"\"\".split('\\n')\n",
    "\n",
    "arr = [list(map(int, list(row))) for row in raw_arr]"
   ]
  },
  {
   "cell_type": "code",
   "execution_count": 32,
   "metadata": {},
   "outputs": [],
   "source": [
    "def detect(arr):\n",
    "    summary = 0\n",
    "    width = len(arr)\n",
    "    for row in arr:\n",
    "        for num in row:\n",
    "            summary += num\n",
    "    if summary == 0:\n",
    "        return 0\n",
    "    if summary == width * width:\n",
    "        return 1\n",
    "    else:\n",
    "        return -1"
   ]
  },
  {
   "cell_type": "code",
   "execution_count": 40,
   "metadata": {},
   "outputs": [],
   "source": [
    "def sliceing(arr):\n",
    "    width = len(arr)//2\n",
    "    arr1 = [ [ number for number in row[:width] ] for row in arr[:width] ]\n",
    "    arr2 = [ [ number for number in row[width:] ] for row in arr[:width] ]\n",
    "    arr3 = [ [ number for number in row[:width] ] for row in arr[width:] ]\n",
    "    arr4 = [ [ number for number in row[width:] ] for row in arr[width:] ]\n",
    "\n",
    "    return arr1, arr2, arr3, arr4"
   ]
  },
  {
   "cell_type": "code",
   "execution_count": 42,
   "metadata": {},
   "outputs": [],
   "source": [
    "ans = ''\n",
    "def recursive_dc(arr):\n",
    "    global ans\n",
    "    if len(arr) == 1:\n",
    "        ans += str(arr[0][0])\n",
    "        return\n",
    "\n",
    "    detection =  detect(arr)\n",
    "\n",
    "    if detection <0:\n",
    "        ans += '('\n",
    "        arrs = sliceing(arr)\n",
    "        for temp_arr in arrs:\n",
    "            recursive_dc(temp_arr)\n",
    "        ans += ')'\n",
    "    else:\n",
    "        ans += str(detection)"
   ]
  },
  {
   "cell_type": "code",
   "execution_count": 43,
   "metadata": {},
   "outputs": [
    {
     "name": "stdout",
     "output_type": "stream",
     "text": [
      "((110(0101))(0010)1(0001))\n"
     ]
    }
   ],
   "source": [
    "ans = ''\n",
    "recursive_dc(arr)\n",
    "print(ans)"
   ]
  },
  {
   "cell_type": "code",
   "execution_count": null,
   "metadata": {},
   "outputs": [],
   "source": []
  }
 ],
 "metadata": {
  "kernelspec": {
   "display_name": "secondllm",
   "language": "python",
   "name": "python3"
  },
  "language_info": {
   "codemirror_mode": {
    "name": "ipython",
    "version": 3
   },
   "file_extension": ".py",
   "mimetype": "text/x-python",
   "name": "python",
   "nbconvert_exporter": "python",
   "pygments_lexer": "ipython3",
   "version": "3.10.16"
  }
 },
 "nbformat": 4,
 "nbformat_minor": 2
}
