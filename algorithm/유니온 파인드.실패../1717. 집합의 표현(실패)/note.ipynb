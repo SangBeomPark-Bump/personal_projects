{
 "cells": [
  {
   "cell_type": "code",
   "execution_count": 1,
   "metadata": {},
   "outputs": [],
   "source": [
    "verbose = True\n",
    "verboses = [True for _ in range(10)]"
   ]
  },
  {
   "cell_type": "code",
   "execution_count": null,
   "metadata": {},
   "outputs": [],
   "source": [
    "\n"
   ]
  },
  {
   "cell_type": "code",
   "execution_count": null,
   "metadata": {},
   "outputs": [],
   "source": [
    "N, M =  7, 8\n",
    "raw_arr = \"\"\"0 1 3\n",
    "1 1 7\n",
    "0 7 6\n",
    "1 7 1\n",
    "0 3 7\n",
    "0 4 2\n",
    "0 1 1\n",
    "1 1 1\"\"\".split('\\n')\n",
    "\n",
    "arr =  [tuple(map(int,row.split())) for row in raw_arr]"
   ]
  },
  {
   "cell_type": "code",
   "execution_count": null,
   "metadata": {},
   "outputs": [],
   "source": []
  },
  {
   "cell_type": "code",
   "execution_count": null,
   "metadata": {},
   "outputs": [
    {
     "name": "stdout",
     "output_type": "stream",
     "text": [
      "NO\n",
      "NO\n",
      "YES\n"
     ]
    }
   ],
   "source": [
    "numbers = [0 for _ in range(N +1)]\n",
    "sets = [set()]\n",
    "\n",
    "temp = 0\n",
    "# for com, num1, num2 in arr:\n",
    "for m in range(M):\n",
    "    com, num1, num2 = arr[m]\n",
    "    num1_set = numbers[num1]\n",
    "    num2_set = numbers[num2]\n",
    "    if com == 0:\n",
    "        if num1 != num2:\n",
    "            if num1_set == 0 and num2_set ==0:\n",
    "                temp +=1\n",
    "                sets.append(set((num1, num2)))\n",
    "                numbers[num1] = temp\n",
    "                numbers[num2] = temp\n",
    "\n",
    "            elif num1_set != 0 and num2_set == 0:\n",
    "                sets[numbers[num1]].add(num2)\n",
    "                numbers[num2] =  numbers[num1]\n",
    "\n",
    "            elif num2_set != 0 and num1_set == 0:\n",
    "                sets[numbers[num2]].add(num1)\n",
    "                numbers[num1] =  numbers[num2]\n",
    "            else:\n",
    "                sets[num1_set] = (sets[num1_set].union(sets[num2_set]))\n",
    "                numbers[num2] = numbers[num1]\n",
    "    elif com == 1:\n",
    "        print(\"YES\" if num1_set == num2_set else \"NO\")"
   ]
  },
  {
   "cell_type": "code",
   "execution_count": null,
   "metadata": {},
   "outputs": [],
   "source": [
    "import sys \n",
    "sys.setrecursionlimit(10 ** 5)\n",
    "\n",
    "N, M = map(int, input().split())\n",
    "\n",
    "p = [i for i in range(N+1)]\n",
    "\n",
    "def find(a):\n",
    "    if a != p[a]:\n",
    "        p[a] = find(p[a])\n",
    "    return p[a]\n",
    "\n",
    "def union(a, b):\n",
    "    pa = find(a)\n",
    "    pb = find(b)\n",
    "    p[pa] = pb\n",
    "\n",
    "for _ in range(M):\n",
    "    q, a, b = map(int, input().split())\n",
    "\n",
    "    if q == 0: # union\n",
    "        union(a, b)\n",
    "    else:      # find\n",
    "        if find(a) == find(b):\n",
    "            print(\"YES\")\n",
    "        else:\n",
    "            print(\"NO\")\n"
   ]
  },
  {
   "cell_type": "code",
   "execution_count": null,
   "metadata": {},
   "outputs": [],
   "source": []
  },
  {
   "cell_type": "code",
   "execution_count": null,
   "metadata": {},
   "outputs": [],
   "source": []
  },
  {
   "cell_type": "code",
   "execution_count": null,
   "metadata": {},
   "outputs": [],
   "source": []
  }
 ],
 "metadata": {
  "kernelspec": {
   "display_name": "secondllm",
   "language": "python",
   "name": "python3"
  },
  "language_info": {
   "codemirror_mode": {
    "name": "ipython",
    "version": 3
   },
   "file_extension": ".py",
   "mimetype": "text/x-python",
   "name": "python",
   "nbconvert_exporter": "python",
   "pygments_lexer": "ipython3",
   "version": "3.10.16"
  }
 },
 "nbformat": 4,
 "nbformat_minor": 2
}
