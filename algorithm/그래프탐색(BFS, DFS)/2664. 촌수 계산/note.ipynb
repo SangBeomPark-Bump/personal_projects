{
 "cells": [
  {
   "cell_type": "code",
   "execution_count": 2,
   "metadata": {},
   "outputs": [],
   "source": [
    "verbose = True"
   ]
  },
  {
   "cell_type": "code",
   "execution_count": 8,
   "metadata": {},
   "outputs": [],
   "source": [
    "N = 9\n",
    "x, y = 7, 3\n",
    "M = 7\n",
    "\n",
    "raw_arr =  \"\"\"1 2\n",
    "1 3\n",
    "2 7\n",
    "2 8\n",
    "2 9\n",
    "4 5\n",
    "4 6\"\"\".split('\\n')\n",
    "\n",
    "arr_test =  [tuple(map(int,raw.split())) for raw in raw_arr ]\n",
    "arr = [[] for _ in range(N+1)]\n",
    "for u,v in arr_test:\n",
    "    arr[u].append(v)\n",
    "    arr[v].append(u)"
   ]
  },
  {
   "cell_type": "code",
   "execution_count": 11,
   "metadata": {},
   "outputs": [
    {
     "data": {
      "text/plain": [
       "[[], [2, 3], [1, 7, 8, 9], [1], [5, 6], [4], [4], [2], [2], [2]]"
      ]
     },
     "execution_count": 11,
     "metadata": {},
     "output_type": "execute_result"
    }
   ],
   "source": [
    "arr"
   ]
  },
  {
   "cell_type": "code",
   "execution_count": 19,
   "metadata": {},
   "outputs": [
    {
     "name": "stdout",
     "output_type": "stream",
     "text": [
      "3\n"
     ]
    }
   ],
   "source": [
    "from collections import deque\n",
    "def bfs(start, end):\n",
    "    visited = [-1] * (N + 1)\n",
    "    que = deque()\n",
    "    que.append(start)\n",
    "    visited[start] = 0\n",
    "\n",
    "    while que:\n",
    "        node = que.popleft()\n",
    "        for a in arr[node]:\n",
    "            if visited[a] < 0:\n",
    "                que.append(a)\n",
    "                visited[a] = visited[node] +1\n",
    "            if a == end:\n",
    "                return visited[a]\n",
    "    \n",
    "    return -1\n",
    "\n",
    "print(bfs(x, y))\n"
   ]
  }
 ],
 "metadata": {
  "kernelspec": {
   "display_name": "secondllm",
   "language": "python",
   "name": "python3"
  },
  "language_info": {
   "codemirror_mode": {
    "name": "ipython",
    "version": 3
   },
   "file_extension": ".py",
   "mimetype": "text/x-python",
   "name": "python",
   "nbconvert_exporter": "python",
   "pygments_lexer": "ipython3",
   "version": "3.10.16"
  }
 },
 "nbformat": 4,
 "nbformat_minor": 2
}
