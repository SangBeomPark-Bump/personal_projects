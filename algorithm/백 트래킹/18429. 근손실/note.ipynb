{
 "cells": [
  {
   "cell_type": "code",
   "execution_count": 1,
   "metadata": {},
   "outputs": [],
   "source": [
    "verbose = True"
   ]
  },
  {
   "cell_type": "code",
   "execution_count": 9,
   "metadata": {},
   "outputs": [],
   "source": [
    "N, K = 3, 4\n",
    "arr = [3, 7, 5]"
   ]
  },
  {
   "cell_type": "code",
   "execution_count": 10,
   "metadata": {},
   "outputs": [
    {
     "name": "stdout",
     "output_type": "stream",
     "text": [
      "4\n"
     ]
    }
   ],
   "source": [
    "from itertools import permutations\n",
    "orders = list(permutations(arr))  \n",
    "\n",
    "result = 0\n",
    "for order in orders:\n",
    "    muscle = 500\n",
    "    result +=1\n",
    "    for program in order:\n",
    "        muscle += program - K\n",
    "        if muscle < 500:\n",
    "            result -=1\n",
    "            break\n",
    "print(result)"
   ]
  },
  {
   "cell_type": "code",
   "execution_count": null,
   "metadata": {},
   "outputs": [],
   "source": [
    "N, K = 3, 4\n",
    "A = [3, 7, 5]\n",
    "\n",
    "ans = 0\n",
    "visited = [False] * N\n",
    "def dfs(n, weight):\n",
    "    global ans\n",
    "    if weight < 500:\n",
    "        return\n",
    "\n",
    "    if n == N:\n",
    "        ans += 1\n",
    "        return\n",
    "\n",
    "    weight -= K\n",
    "    for i in range(N):\n",
    "        if visited[i]:\n",
    "            continue\n",
    "\n",
    "        visited[i] = True\n",
    "        dfs(n + 1, weight + A[i])\n",
    "        visited[i] = False\n",
    "\n",
    "dfs(0, 500)\n",
    "print(ans)\n"
   ]
  }
 ],
 "metadata": {
  "kernelspec": {
   "display_name": "secondllm",
   "language": "python",
   "name": "python3"
  },
  "language_info": {
   "codemirror_mode": {
    "name": "ipython",
    "version": 3
   },
   "file_extension": ".py",
   "mimetype": "text/x-python",
   "name": "python",
   "nbconvert_exporter": "python",
   "pygments_lexer": "ipython3",
   "version": "3.10.16"
  }
 },
 "nbformat": 4,
 "nbformat_minor": 2
}
