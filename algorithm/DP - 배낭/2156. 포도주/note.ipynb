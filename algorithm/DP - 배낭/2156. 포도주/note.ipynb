{
 "cells": [
  {
   "cell_type": "code",
   "execution_count": 3,
   "metadata": {},
   "outputs": [],
   "source": [
    "verbose = True\n",
    "verboses = [True for _ in range(10)]"
   ]
  },
  {
   "cell_type": "code",
   "execution_count": 42,
   "metadata": {},
   "outputs": [],
   "source": [
    "N = 6\n",
    "\n",
    "raw_arr = \"\"\"6\n",
    "10\n",
    "13\n",
    "9\n",
    "8\n",
    "1\"\"\".split('\\n')\n",
    "\n",
    "# arr =  [tuple(map(int,row.split())) for row in raw_arr]\n",
    "arr =  [int(number) for number in raw_arr]\n",
    "arr = [0] + arr"
   ]
  },
  {
   "cell_type": "code",
   "execution_count": 78,
   "metadata": {},
   "outputs": [],
   "source": [
    "N = 5\n",
    "\n",
    "raw_arr = \"\"\"1\n",
    "1\n",
    "99\n",
    "100\n",
    "1\"\"\".split('\\n')\n",
    "\n",
    "# arr =  [tuple(map(int,row.split())) for row in raw_arr]\n",
    "arr =  [int(number) for number in raw_arr]\n",
    "arr = [0] + arr"
   ]
  },
  {
   "cell_type": "code",
   "execution_count": 81,
   "metadata": {},
   "outputs": [],
   "source": [
    "N = 1\n",
    "\n",
    "raw_arr = \"\"\"1\"\"\".split('\\n')\n",
    "\n",
    "# arr =  [tuple(map(int,row.split())) for row in raw_arr]\n",
    "arr =  [int(number) for number in raw_arr]\n",
    "arr = [0] + arr"
   ]
  },
  {
   "cell_type": "markdown",
   "metadata": {},
   "source": [
    "### 정리 \n",
    "- dp[n][0] : 둘다 안먹음\n",
    "- dp[n][1] : 이전꺼만 먹음\n",
    "- dp[n][2] : 지금꺼만 먹음\n",
    "- dp[n][3] : 둘다 먹음\n",
    "\n"
   ]
  },
  {
   "cell_type": "code",
   "execution_count": 83,
   "metadata": {},
   "outputs": [
    {
     "name": "stdout",
     "output_type": "stream",
     "text": [
      "1\n"
     ]
    }
   ],
   "source": [
    "def wine():\n",
    "    dp = [ [0] * 4 for _ in range(N+1)]\n",
    "    dp[1] = [0, 0, arr[1], arr[1]]\n",
    "    for n in range(2, N+1):\n",
    "        dp[n] = [ max(dp[n-2]), max(dp[n-1]), max(dp[n-2]) +arr[n] , max(dp[n-2][0] , dp[n-2][1]) + arr[n] + arr[n-1]]\n",
    "    return(max(dp[-1]))\n",
    "\n",
    "print(wine())\n"
   ]
  },
  {
   "cell_type": "code",
   "execution_count": null,
   "metadata": {},
   "outputs": [
    {
     "data": {
      "text/plain": [
       "33"
      ]
     },
     "execution_count": 73,
     "metadata": {},
     "output_type": "execute_result"
    }
   ],
   "source": []
  }
 ],
 "metadata": {
  "kernelspec": {
   "display_name": "secondllm",
   "language": "python",
   "name": "python3"
  },
  "language_info": {
   "codemirror_mode": {
    "name": "ipython",
    "version": 3
   },
   "file_extension": ".py",
   "mimetype": "text/x-python",
   "name": "python",
   "nbconvert_exporter": "python",
   "pygments_lexer": "ipython3",
   "version": "3.10.16"
  }
 },
 "nbformat": 4,
 "nbformat_minor": 2
}
