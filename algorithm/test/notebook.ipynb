{
 "cells": [
  {
   "cell_type": "code",
   "execution_count": null,
   "metadata": {},
   "outputs": [],
   "source": []
  },
  {
   "cell_type": "markdown",
   "metadata": {},
   "source": [
    "## 17608"
   ]
  },
  {
   "cell_type": "code",
   "execution_count": 9,
   "metadata": {},
   "outputs": [
    {
     "name": "stdout",
     "output_type": "stream",
     "text": [
      "3\n"
     ]
    }
   ],
   "source": [
    "\n",
    "N = int(input())\n",
    "\n",
    "raw_list = []\n",
    "for _ in range(N):\n",
    "    raw_list.append(int(input()))\n",
    "\n",
    "result = 0\n",
    "maximum_number = -1\n",
    "while raw_list:\n",
    "    cur_number = raw_list.pop()\n",
    "    if cur_number > maximum_number:\n",
    "        maximum_number = cur_number\n",
    "        result +=1\n",
    "\n",
    "print(result)"
   ]
  },
  {
   "cell_type": "markdown",
   "metadata": {},
   "source": [
    "## 21921"
   ]
  },
  {
   "cell_type": "code",
   "execution_count": 14,
   "metadata": {},
   "outputs": [],
   "source": [
    "N, X = map(int, input().split())\n",
    "arr = list(map(int, input().split()))\n"
   ]
  },
  {
   "cell_type": "code",
   "execution_count": 33,
   "metadata": {},
   "outputs": [
    {
     "name": "stdout",
     "output_type": "stream",
     "text": [
      "9\n",
      "2\n"
     ]
    }
   ],
   "source": [
    "period = 1\n",
    "temp_sum = sum(arr[:X])\n",
    "max_visitor = temp_sum\n",
    "\n",
    "for i in range(N - X):\n",
    "    temp_sum -= arr[i]\n",
    "    temp_sum += arr[i+X]\n",
    "    match temp_sum:\n",
    "        case temp_sum if temp_sum > max_visitor:\n",
    "            max_visitor = temp_sum\n",
    "            period = 1\n",
    "        case temp_sum if temp_sum == max_visitor:\n",
    "            period +=1\n",
    "\n",
    "if temp_sum == 0 :\n",
    "    print('SAD')\n",
    "else:\n",
    "    print(max_visitor)\n",
    "    print(period)"
   ]
  },
  {
   "cell_type": "markdown",
   "metadata": {},
   "source": [
    "## 3078"
   ]
  },
  {
   "cell_type": "code",
   "execution_count": 39,
   "metadata": {},
   "outputs": [],
   "source": [
    "N, K = 6, 3\n",
    "arr = [7, 5, 6, 5, 7, 6]"
   ]
  },
  {
   "cell_type": "code",
   "execution_count": 48,
   "metadata": {},
   "outputs": [
    {
     "name": "stdout",
     "output_type": "stream",
     "text": [
      "2\n"
     ]
    }
   ],
   "source": [
    "\n",
    "len_name = [0] * 21\n",
    "\n",
    "cnt = 0\n",
    "for i in range(N):\n",
    "    if K < i:\n",
    "        len_name[arr[i - K - 1]] -= 1\n",
    "\n",
    "    cnt += len_name[arr[i]]\n",
    "    len_name[arr[i]] += 1\n",
    "\n",
    "print(cnt)\n"
   ]
  },
  {
   "cell_type": "markdown",
   "metadata": {},
   "source": [
    "## 11659"
   ]
  },
  {
   "cell_type": "code",
   "execution_count": null,
   "metadata": {},
   "outputs": [],
   "source": []
  },
  {
   "cell_type": "code",
   "execution_count": null,
   "metadata": {},
   "outputs": [],
   "source": [
    "N, M= 4,3\n",
    "\n",
    "x = \"\"\"1 2 3 4\n",
    "2 3 4 5\n",
    "3 4 5 6\n",
    "4 5 6 7\"\"\".split('\\n')\n",
    "\n",
    "arr_x =  [ list(map( int ,i.split())) for i in x]\n",
    "\n",
    "y = \"\"\"2 2 3 4\n",
    "3 4 3 4\n",
    "1 1 4 4\"\"\".split('\\n')\n",
    "arr_y =  [ list(map( int ,i.split())) for i in y]\n"
   ]
  },
  {
   "cell_type": "code",
   "execution_count": 58,
   "metadata": {},
   "outputs": [
    {
     "data": {
      "text/plain": [
       "[[2, 2, 3, 4], [3, 4, 3, 4], [1, 1, 4, 4]]"
      ]
     },
     "execution_count": 58,
     "metadata": {},
     "output_type": "execute_result"
    }
   ],
   "source": [
    "arr_x\n",
    "arr_y"
   ]
  },
  {
   "cell_type": "code",
   "execution_count": 75,
   "metadata": {},
   "outputs": [
    {
     "name": "stdout",
     "output_type": "stream",
     "text": [
      "27\n",
      "6\n",
      "64\n"
     ]
    }
   ],
   "source": [
    "N, M = map(int, input().split())\n",
    "\n",
    "arr = []\n",
    "for _ in range(N):\n",
    "    line = list(map(int, input().split()))\n",
    "    arr.append(line)\n",
    "\n",
    "for _ in range(M):\n",
    "    x1, y1, x2, y2  = map(int, input().split())\n",
    "    cur_sum = 0\n",
    "    for j in range(x1 - 1, x2):\n",
    "        cur_sum += sum(arr_x[j][y1 -1 : y2])\n",
    "    print(cur_sum)"
   ]
  },
  {
   "cell_type": "code",
   "execution_count": null,
   "metadata": {},
   "outputs": [],
   "source": []
  },
  {
   "cell_type": "markdown",
   "metadata": {},
   "source": [
    "##  비밀"
   ]
  },
  {
   "cell_type": "code",
   "execution_count": 11,
   "metadata": {},
   "outputs": [
    {
     "name": "stdout",
     "output_type": "stream",
     "text": [
      "1\n",
      "-1\n",
      "1 3 2\n",
      "-1\n"
     ]
    }
   ],
   "source": [
    "t = int(input())\n",
    "\n",
    "arr_p =  [int(input()) for _ in range(t)]\n",
    "\n",
    "for i in arr_p:\n",
    "    if i == 1:\n",
    "        print('1')\n",
    "    else:\n",
    "        if i %2 == 0:\n",
    "            print(-1)\n",
    "        else:\n",
    "            print(' '.join(['1', f'{i}'] + list(map(str, range(2, i)))))"
   ]
  },
  {
   "cell_type": "code",
   "execution_count": null,
   "metadata": {},
   "outputs": [
    {
     "name": "stdout",
     "output_type": "stream",
     "text": [
      "-1\n",
      "1 3 2\n",
      "-1\n",
      "1 5 2 3 4\n"
     ]
    }
   ],
   "source": []
  },
  {
   "cell_type": "code",
   "execution_count": null,
   "metadata": {},
   "outputs": [],
   "source": []
  },
  {
   "cell_type": "code",
   "execution_count": null,
   "metadata": {},
   "outputs": [],
   "source": []
  },
  {
   "cell_type": "code",
   "execution_count": null,
   "metadata": {},
   "outputs": [],
   "source": []
  },
  {
   "cell_type": "code",
   "execution_count": null,
   "metadata": {},
   "outputs": [],
   "source": []
  },
  {
   "cell_type": "markdown",
   "metadata": {},
   "source": []
  }
 ],
 "metadata": {
  "kernelspec": {
   "display_name": "secondllm",
   "language": "python",
   "name": "python3"
  },
  "language_info": {
   "codemirror_mode": {
    "name": "ipython",
    "version": 3
   },
   "file_extension": ".py",
   "mimetype": "text/x-python",
   "name": "python",
   "nbconvert_exporter": "python",
   "pygments_lexer": "ipython3",
   "version": "3.10.16"
  }
 },
 "nbformat": 4,
 "nbformat_minor": 2
}
