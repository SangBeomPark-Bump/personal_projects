{
 "cells": [
  {
   "cell_type": "code",
   "execution_count": 3,
   "metadata": {},
   "outputs": [],
   "source": [
    "verbose = True"
   ]
  },
  {
   "cell_type": "code",
   "execution_count": 4,
   "metadata": {},
   "outputs": [],
   "source": [
    "\n",
    "\n",
    "N = 5\n",
    "M = 5\n",
    "\n",
    "raw_arr =  \"\"\"1 3\n",
    "1 4\n",
    "4 5\n",
    "4 3\n",
    "3 2\"\"\".split('\\n')\n",
    "\n",
    "arr_test =  [tuple(map(int,raw.split())) for raw in raw_arr ]\n",
    "arr = [[] for _ in range(N+1)]\n",
    "for u,v in arr_test:\n",
    "    arr[u].append(v)\n",
    "    arr[v].append(u)"
   ]
  },
  {
   "cell_type": "code",
   "execution_count": 5,
   "metadata": {},
   "outputs": [
    {
     "data": {
      "text/plain": [
       "[[], [3, 4], [3], [1, 4, 2], [1, 5, 3], [4]]"
      ]
     },
     "execution_count": 5,
     "metadata": {},
     "output_type": "execute_result"
    }
   ],
   "source": [
    "arr"
   ]
  },
  {
   "cell_type": "code",
   "execution_count": 15,
   "metadata": {},
   "outputs": [
    {
     "name": "stdout",
     "output_type": "stream",
     "text": [
      "3\n"
     ]
    }
   ],
   "source": [
    "from collections import deque\n",
    "def bfs(start):\n",
    "    visited =[0] + [-1] * (N)\n",
    "    que = deque()\n",
    "    que.append(start)\n",
    "    visited[start] = 0\n",
    "    while que:\n",
    "        node = que.popleft()\n",
    "        for a in arr[node]:\n",
    "            if visited[a] < 0:\n",
    "                que.append(a)\n",
    "                visited[a] =visited[node] +1\n",
    "\n",
    "    return sum(visited)\n",
    "\n",
    "min_number = N * M\n",
    "\n",
    "for i in range(1,N+1):\n",
    "    temp_number = bfs(i)\n",
    "    if temp_number < min_number:\n",
    "        min_number = temp_number\n",
    "        result = i\n",
    "\n",
    "print(result)\n",
    "\n"
   ]
  }
 ],
 "metadata": {
  "kernelspec": {
   "display_name": "secondllm",
   "language": "python",
   "name": "python3"
  },
  "language_info": {
   "codemirror_mode": {
    "name": "ipython",
    "version": 3
   },
   "file_extension": ".py",
   "mimetype": "text/x-python",
   "name": "python",
   "nbconvert_exporter": "python",
   "pygments_lexer": "ipython3",
   "version": "3.10.16"
  }
 },
 "nbformat": 4,
 "nbformat_minor": 2
}
