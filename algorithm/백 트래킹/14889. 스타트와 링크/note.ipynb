{
 "cells": [
  {
   "cell_type": "code",
   "execution_count": 2,
   "metadata": {},
   "outputs": [],
   "source": [
    "verbose = True\n",
    "verboses = [True for _ in range(10)]"
   ]
  },
  {
   "cell_type": "code",
   "execution_count": 1,
   "metadata": {},
   "outputs": [],
   "source": [
    "N = 4\n",
    "raw_arr = \"\"\"0 1 2 3\n",
    "4 0 5 6\n",
    "7 1 0 2\n",
    "3 4 5 0\"\"\".split('\\n')\n",
    "arr =  [ list(map(int, row.split())) for row in raw_arr]"
   ]
  },
  {
   "cell_type": "code",
   "execution_count": null,
   "metadata": {},
   "outputs": [],
   "source": [
    "# def score(num_set):\n",
    "#     pos_ans = 0\n",
    "#     neg_ans = 0\n",
    "\n",
    "#     revers_set = set(range(N)) - num_set\n",
    "\n",
    "#     for i in num_set:\n",
    "#         for j in num_set:\n",
    "#             if j>i:\n",
    "#                 pos_ans += arr[i][j] + arr[j][i]\n",
    "\n",
    "#     for i in revers_set:\n",
    "#         for j in revers_set:\n",
    "#             if j>i:\n",
    "#                 neg_ans += arr[i][j] + arr[j][i]\n",
    "#     return abs(pos_ans - neg_ans)"
   ]
  },
  {
   "cell_type": "code",
   "execution_count": null,
   "metadata": {},
   "outputs": [
    {
     "data": {
      "text/plain": [
       "0"
      ]
     },
     "execution_count": 26,
     "metadata": {},
     "output_type": "execute_result"
    }
   ],
   "source": [
    "# score({0,3})"
   ]
  },
  {
   "cell_type": "code",
   "execution_count": null,
   "metadata": {},
   "outputs": [
    {
     "data": {
      "text/plain": [
       "{3, 4}"
      ]
     },
     "execution_count": 11,
     "metadata": {},
     "output_type": "execute_result"
    }
   ],
   "source": [
    "# tup = [1,2]\n",
    "# revers_set = set(range(1, N+1)) - tup\n",
    "\n"
   ]
  },
  {
   "cell_type": "code",
   "execution_count": 2,
   "metadata": {},
   "outputs": [],
   "source": [
    "team = [0] * (N)\n",
    "ans = float(\"INF\")"
   ]
  },
  {
   "cell_type": "code",
   "execution_count": 9,
   "metadata": {},
   "outputs": [
    {
     "name": "stdout",
     "output_type": "stream",
     "text": [
      "[1, 0, 0, 0]\n",
      "[1, 1, 0, 0]\n",
      "[1, 0, 1, 0]\n",
      "[1, 0, 0, 1]\n",
      "[0, 1, 0, 0]\n",
      "[0, 1, 1, 0]\n",
      "[0, 1, 0, 1]\n",
      "[0, 0, 1, 0]\n",
      "[0, 0, 1, 1]\n",
      "[0, 0, 0, 1]\n",
      "0\n"
     ]
    }
   ],
   "source": [
    "def dfs(pos):\n",
    "    global ans\n",
    "\n",
    "    if sum(team) == N // 2:\n",
    "        start = 0\n",
    "        link = 0\n",
    "\n",
    "        for i in range(N - 1):\n",
    "            for j in range(i + 1, N):\n",
    "                cnt = team[i] + team[j]\n",
    "                if cnt == 2:\n",
    "                    start += arr[i][j] + arr[j][i]\n",
    "                elif cnt == 0:\n",
    "                    link += arr[i][j] + arr[j][i]\n",
    "\n",
    "        start_link = abs(start - link)\n",
    "\n",
    "        if start_link < ans:\n",
    "            ans = start_link\n",
    "        return\n",
    "\n",
    "    for i in range(pos, N):\n",
    "        team[i] = 1\n",
    "        print(team)\n",
    "        dfs(i + 1)\n",
    "        team[i] = 0\n",
    "\n",
    "dfs(0)\n",
    "print(ans)\n"
   ]
  },
  {
   "cell_type": "code",
   "execution_count": 12,
   "metadata": {},
   "outputs": [
    {
     "name": "stdout",
     "output_type": "stream",
     "text": [
      "[1, 0, 0, 0]\n",
      "[1, 1, 0, 0]\n",
      "[1, 0, 1, 0]\n",
      "[1, 0, 0, 1]\n",
      "[0, 1, 0, 0]\n",
      "[0, 1, 1, 0]\n",
      "[0, 1, 0, 1]\n",
      "[0, 0, 1, 0]\n",
      "[0, 0, 1, 1]\n",
      "[0, 0, 0, 1]\n"
     ]
    }
   ],
   "source": [
    "def dfs(pos):\n",
    "    if sum(team) == N // 2:\n",
    "        return\n",
    "    for i in range(pos, N):\n",
    "        team[i] = 1\n",
    "        print(team)\n",
    "        dfs(i + 1)\n",
    "        team[i] = 0\n",
    "\n",
    "dfs(0)"
   ]
  }
 ],
 "metadata": {
  "kernelspec": {
   "display_name": "secondllm",
   "language": "python",
   "name": "python3"
  },
  "language_info": {
   "codemirror_mode": {
    "name": "ipython",
    "version": 3
   },
   "file_extension": ".py",
   "mimetype": "text/x-python",
   "name": "python",
   "nbconvert_exporter": "python",
   "pygments_lexer": "ipython3",
   "version": "3.10.16"
  }
 },
 "nbformat": 4,
 "nbformat_minor": 2
}
