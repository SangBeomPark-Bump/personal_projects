{
 "cells": [
  {
   "cell_type": "code",
   "execution_count": 1,
   "metadata": {},
   "outputs": [],
   "source": [
    "verbose = True"
   ]
  },
  {
   "cell_type": "code",
   "execution_count": 10,
   "metadata": {},
   "outputs": [],
   "source": [
    "N = 4\n",
    "arr =  list(map(int, \"-100 -2 -1 103\".split()))"
   ]
  },
  {
   "cell_type": "code",
   "execution_count": 11,
   "metadata": {},
   "outputs": [
    {
     "data": {
      "text/plain": [
       "[-100, -2, -1, 103]"
      ]
     },
     "execution_count": 11,
     "metadata": {},
     "output_type": "execute_result"
    }
   ],
   "source": [
    "arr"
   ]
  },
  {
   "cell_type": "code",
   "execution_count": 14,
   "metadata": {},
   "outputs": [
    {
     "name": "stdout",
     "output_type": "stream",
     "text": [
      "iter : 1, start : 0, end: 3, temp_num : 3\n",
      "iter : 2, start : 0, end: 2, temp_num : -101\n",
      "iter : 3, start : 1, end: 2, temp_num : -3\n",
      "-100 103\n"
     ]
    }
   ],
   "source": [
    "start = 0\n",
    "end = N-1\n",
    "\n",
    "opt_num = arr[start] + arr[end]\n",
    "opt_start = start\n",
    "opt_end = end\n",
    "\n",
    "iter = 0\n",
    "while True :\n",
    "    iter +=1\n",
    "    temp_num = arr[start] + arr[end]\n",
    "    if verbose:\n",
    "        print(f'iter : {iter}, start : {start}, end: {end}, temp_num : {temp_num}')\n",
    "\n",
    "    if abs(temp_num) < abs(opt_num):\n",
    "        opt_start = start\n",
    "        opt_end = end\n",
    "        opt_num = temp_num\n",
    "    if temp_num <0:\n",
    "        start +=1\n",
    "    elif temp_num >0:\n",
    "        end -=1\n",
    "    else:\n",
    "        break\n",
    "    if start == end:\n",
    "        break\n",
    "\n",
    "\n",
    "print(arr[opt_start], arr[opt_end])"
   ]
  },
  {
   "cell_type": "code",
   "execution_count": null,
   "metadata": {},
   "outputs": [],
   "source": []
  }
 ],
 "metadata": {
  "kernelspec": {
   "display_name": "secondllm",
   "language": "python",
   "name": "python3"
  },
  "language_info": {
   "codemirror_mode": {
    "name": "ipython",
    "version": 3
   },
   "file_extension": ".py",
   "mimetype": "text/x-python",
   "name": "python",
   "nbconvert_exporter": "python",
   "pygments_lexer": "ipython3",
   "version": "3.10.16"
  }
 },
 "nbformat": 4,
 "nbformat_minor": 2
}
