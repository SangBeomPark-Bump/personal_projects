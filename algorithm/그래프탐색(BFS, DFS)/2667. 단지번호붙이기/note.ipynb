{
 "cells": [
  {
   "cell_type": "code",
   "execution_count": null,
   "metadata": {},
   "outputs": [],
   "source": [
    "verbose = True"
   ]
  },
  {
   "cell_type": "code",
   "execution_count": 1,
   "metadata": {},
   "outputs": [],
   "source": [
    "N = 7\n",
    "raw_arr =  \"\"\"0110100\n",
    "0110101\n",
    "1110101\n",
    "0000111\n",
    "0100000\n",
    "0111110\n",
    "0111000\"\"\".split('\\n')\n",
    "\n",
    "arr =  [list(map(int,list(raw))) for raw in raw_arr ]"
   ]
  },
  {
   "cell_type": "code",
   "execution_count": 17,
   "metadata": {},
   "outputs": [
    {
     "name": "stdout",
     "output_type": "stream",
     "text": [
      "3\n",
      "7\n",
      "8\n",
      "9\n"
     ]
    }
   ],
   "source": [
    "### 방문 했는지 안했는지 알려줌\n",
    "visited = [[False] * N for _ in range(N)]\n",
    "### 이동방향(4개 - 굳이 4개나 쓸이유는 없긴한데 그냥 멋있자낭)\n",
    "dy = (-1, 1, 0, 0)\n",
    "dx = (0, 0, -1, 1)\n",
    "\n",
    "#### dfs함수. 이동경로를 print해줌\n",
    "def dfs(y, x, depth):\n",
    "    visited[y][x] = True\n",
    "    ### 이동메커니즘\n",
    "    for i in range(4):\n",
    "        ### new_x, new_y\n",
    "        ny = y + dy[i]\n",
    "        nx = x + dx[i]\n",
    "        ### 경계면이라면 for문 거르기\n",
    "        if not(0 <= ny < N and 0 <= nx < N):\n",
    "            continue\n",
    "        ### 벽이라면 거르기\n",
    "        if arr[ny][nx] == 0:\n",
    "            continue\n",
    "        ### 방문 안했다면!\n",
    "        if not visited[ny][nx]:\n",
    "            depth = dfs(ny, nx, depth +1)\n",
    "    return depth\n",
    "\n",
    "danjis = []\n",
    "for y in range(N):\n",
    "    for x in range(N):\n",
    "        if (not visited[y][x]) and (arr[y][x] == 1):\n",
    "            danjis.append(dfs(y, x, 1))\n",
    "\n",
    "\n",
    "danjis.sort()\n",
    "print(len(danjis))\n",
    "for danji in danjis:\n",
    "    print(danji)\n",
    "\n",
    "\n",
    "# for raw in arr:\n",
    "#     print(raw)\n"
   ]
  },
  {
   "cell_type": "code",
   "execution_count": 7,
   "metadata": {},
   "outputs": [
    {
     "data": {
      "text/plain": [
       "[[0, 1, 1, 0, 1, 0, 0],\n",
       " [0, 1, 1, 0, 1, 0, 1],\n",
       " [1, 1, 1, 0, 1, 0, 1],\n",
       " [0, 0, 0, 0, 1, 1, 1],\n",
       " [0, 1, 0, 0, 0, 0, 0],\n",
       " [0, 1, 1, 1, 1, 1, 0],\n",
       " [0, 1, 1, 1, 0, 0, 0]]"
      ]
     },
     "execution_count": 7,
     "metadata": {},
     "output_type": "execute_result"
    }
   ],
   "source": [
    "arr"
   ]
  }
 ],
 "metadata": {
  "kernelspec": {
   "display_name": "secondllm",
   "language": "python",
   "name": "python3"
  },
  "language_info": {
   "codemirror_mode": {
    "name": "ipython",
    "version": 3
   },
   "file_extension": ".py",
   "mimetype": "text/x-python",
   "name": "python",
   "nbconvert_exporter": "python",
   "pygments_lexer": "ipython3",
   "version": "3.10.16"
  }
 },
 "nbformat": 4,
 "nbformat_minor": 2
}
