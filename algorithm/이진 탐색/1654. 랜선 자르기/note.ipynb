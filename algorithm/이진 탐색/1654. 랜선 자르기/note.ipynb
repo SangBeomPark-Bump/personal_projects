{
 "cells": [
  {
   "cell_type": "code",
   "execution_count": 55,
   "metadata": {},
   "outputs": [],
   "source": [
    "verbose = True"
   ]
  },
  {
   "cell_type": "code",
   "execution_count": 57,
   "metadata": {},
   "outputs": [],
   "source": [
    "K, N = 4, 11\n",
    "temp =  \"\"\"802\n",
    "743\n",
    "457\n",
    "539\"\"\".split('\\n')\n",
    "arr = list(map(int, temp))"
   ]
  },
  {
   "cell_type": "code",
   "execution_count": 52,
   "metadata": {},
   "outputs": [],
   "source": [
    "K, N = 1, 1\n",
    "temp =  \"\"\"802\"\"\".split('\\n')\n",
    "arr = list(map(int, temp))"
   ]
  },
  {
   "cell_type": "code",
   "execution_count": 53,
   "metadata": {},
   "outputs": [
    {
     "data": {
      "text/plain": [
       "[802]"
      ]
     },
     "execution_count": 53,
     "metadata": {},
     "output_type": "execute_result"
    }
   ],
   "source": [
    "arr"
   ]
  },
  {
   "cell_type": "code",
   "execution_count": 50,
   "metadata": {},
   "outputs": [
    {
     "name": "stdout",
     "output_type": "stream",
     "text": [
      "0 72 36\n",
      "22\n",
      "----------------------------------------\n",
      "36 72 54\n",
      "14\n",
      "----------------------------------------\n",
      "54 72 63\n",
      "12\n",
      "----------------------------------------\n",
      "63 72 67\n",
      "11\n",
      "----------------------------------------\n",
      "67 72 69\n",
      "11\n",
      "----------------------------------------\n",
      "69 72 70\n",
      "11\n",
      "----------------------------------------\n",
      "70 72 71\n",
      "11\n",
      "----------------------------------------\n",
      "71 72 71\n",
      "11\n",
      "----------------------------------------\n",
      "71\n"
     ]
    }
   ],
   "source": [
    "prev_start_num = -1\n",
    "prev_end_num = -1\n",
    "\n",
    "end_num = sum(arr)// 11 \n",
    "start_num = 0 \n",
    "\n",
    "iter = 0\n",
    "while True:\n",
    "    cur_sum = 0\n",
    "    iter +=1\n",
    "    cur_num = (start_num + end_num)//2\n",
    "    if verbose:\n",
    "        print(start_num, end_num, cur_num)\n",
    "    for i in arr:\n",
    "        cur_sum += i//cur_num\n",
    "    if cur_sum < N:\n",
    "        end_num = cur_num\n",
    "    elif cur_sum > N:\n",
    "        start_num = cur_num\n",
    "    else:\n",
    "        start_num = cur_num\n",
    "\n",
    "    if verbose:\n",
    "        print(cur_sum)\n",
    "        print('-' * 40)\n",
    "\n",
    "    if prev_start_num == start_num and prev_end_num == end_num:\n",
    "        break\n",
    "    else:\n",
    "        prev_start_num = start_num\n",
    "        prev_end_num = end_num\n",
    "\n",
    "print(cur_num)"
   ]
  },
  {
   "cell_type": "code",
   "execution_count": null,
   "metadata": {},
   "outputs": [],
   "source": [
    "while start_num <= end_num:\n",
    "    cur_sum = 0\n",
    "    cur_num = (start_num + end_num)//2\n",
    "    if verbose:\n",
    "        print(start_num, end_num, cur_num)\n",
    "    for i in arr:\n",
    "        cur_sum += i//cur_num\n",
    "    if cur_sum < N:\n",
    "        end_num = cur_num - 1\n",
    "    else:\n",
    "        start_num = cur_num +1\n",
    "    if verbose:\n",
    "        print(cur_sum)\n",
    "        print('-' * 40)\n",
    "\n",
    "print(end_num)"
   ]
  }
 ],
 "metadata": {
  "kernelspec": {
   "display_name": "secondllm",
   "language": "python",
   "name": "python3"
  },
  "language_info": {
   "codemirror_mode": {
    "name": "ipython",
    "version": 3
   },
   "file_extension": ".py",
   "mimetype": "text/x-python",
   "name": "python",
   "nbconvert_exporter": "python",
   "pygments_lexer": "ipython3",
   "version": "3.10.16"
  }
 },
 "nbformat": 4,
 "nbformat_minor": 2
}
