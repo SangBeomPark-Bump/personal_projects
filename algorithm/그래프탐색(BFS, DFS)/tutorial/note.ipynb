{
 "cells": [
  {
   "cell_type": "code",
   "execution_count": null,
   "metadata": {},
   "outputs": [],
   "source": [
    "verbose = True"
   ]
  },
  {
   "cell_type": "code",
   "execution_count": 1,
   "metadata": {},
   "outputs": [],
   "source": [
    "N = 7\n",
    "arr =  list(map(int, \"9 9 4 1 4 9 6\".split()))"
   ]
  },
  {
   "cell_type": "code",
   "execution_count": 13,
   "metadata": {},
   "outputs": [],
   "source": [
    "N, M = 6, 6\n",
    "raw_arr =  \"\"\"0 1 1 1 1 1\n",
    "0 1 0 0 0 1\n",
    "0 1 0 1 0 1\n",
    "0 1 0 1 0 0 \n",
    "0 0 0 0 1 0\n",
    "1 1 1 0 1 0\"\"\".split('\\n')\n",
    "\n",
    "arr =  [list(map(int,raw.split())) for raw in raw_arr ]"
   ]
  },
  {
   "cell_type": "code",
   "execution_count": 14,
   "metadata": {},
   "outputs": [
    {
     "data": {
      "text/plain": [
       "[[0, 1, 1, 1, 1, 1],\n",
       " [0, 1, 0, 0, 0, 1],\n",
       " [0, 1, 0, 1, 0, 1],\n",
       " [0, 1, 0, 1, 0, 0],\n",
       " [0, 0, 0, 0, 1, 0],\n",
       " [1, 1, 1, 0, 1, 0]]"
      ]
     },
     "execution_count": 14,
     "metadata": {},
     "output_type": "execute_result"
    }
   ],
   "source": [
    "arr"
   ]
  },
  {
   "cell_type": "code",
   "execution_count": null,
   "metadata": {},
   "outputs": [
    {
     "name": "stdout",
     "output_type": "stream",
     "text": [
      "0 0\n",
      "1 0\n",
      "2 0\n",
      "3 0\n",
      "4 0\n",
      "4 1\n",
      "4 2\n",
      "3 2\n",
      "2 2\n",
      "1 2\n",
      "1 3\n",
      "1 4\n",
      "2 4\n",
      "3 4\n",
      "3 5\n",
      "4 5\n",
      "5 5\n",
      "4 3\n",
      "5 3\n",
      "[0, 1, 1, 1, 1, 1]\n",
      "[0, 1, 0, 0, 0, 1]\n",
      "[0, 1, 0, 1, 0, 1]\n",
      "[0, 1, 0, 1, 0, 0]\n",
      "[0, 0, 0, 0, 1, 0]\n",
      "[1, 1, 1, 0, 1, 0]\n"
     ]
    }
   ],
   "source": [
    "### 방문 했는지 안했는지 알려줌\n",
    "visited = [[False] * M for _ in range(N)]\n",
    "### 이동방향(4개 - 굳이 4개나 쓸이유는 없긴한데 그냥 멋있자낭)\n",
    "dy = (-1, 1, 0, 0)\n",
    "dx = (0, 0, -1, 1)\n",
    "\n",
    "#### dfs함수. 이동경로를 print해줌\n",
    "def dfs(y, x):\n",
    "    ### 일단 0번 print\n",
    "    print(y, x)\n",
    "    ### visited에 넣기 (y, x임에 주의!)\n",
    "    visited[y][x] = True\n",
    "    ### 이동메커니즘\n",
    "    for i in range(4):\n",
    "        ### new_x, new_y\n",
    "        ny = y + dy[i]\n",
    "        nx = x + dx[i]\n",
    "        ### 경계면이라면 for문 거르기\n",
    "        if not(0 <= ny < N and 0 <= nx < M):\n",
    "            continue\n",
    "        ### 벽이라면 거르기\n",
    "        if arr[ny][nx] == 1:\n",
    "            continue\n",
    "        ### 방문 안했다면!\n",
    "        if not visited[ny][nx]:\n",
    "            ### 얘로 재귀함수돌리기\n",
    "            dfs(ny, nx)\n",
    "            #### 재귀함수라서 깊이기반 탐색이 된다. 재귀함수의 특징이야!\n",
    "\n",
    "dfs(0, 0)\n",
    "\n",
    "for raw in arr:\n",
    "    print(raw)\n"
   ]
  },
  {
   "cell_type": "code",
   "execution_count": null,
   "metadata": {},
   "outputs": [
    {
     "name": "stdout",
     "output_type": "stream",
     "text": [
      "0 0\n",
      "1 0\n",
      "2 0\n",
      "3 0\n",
      "4 0\n",
      "4 1\n",
      "4 2\n",
      "3 2\n",
      "4 3\n",
      "2 2\n",
      "5 3\n",
      "1 2\n",
      "1 3\n",
      "1 4\n",
      "2 4\n",
      "3 4\n",
      "3 5\n",
      "4 5\n",
      "5 5\n",
      "[0, 1, 1, 1, 1, 1]\n",
      "[0, 1, 0, 0, 0, 1]\n",
      "[0, 1, 0, 1, 0, 1]\n",
      "[0, 1, 0, 1, 0, 0]\n",
      "[0, 0, 0, 0, 1, 0]\n",
      "[1, 1, 1, 0, 1, 0]\n"
     ]
    }
   ],
   "source": [
    "from collections import deque\n",
    "def bfs(y, x):\n",
    "    ### 여기는 앞에와 같음\n",
    "    visited = [[False] * M for _ in range(N)]\n",
    "    dy = (-1, 1, 0, 0)\n",
    "    dx = (0, 0, -1, 1)\n",
    "\n",
    "    ## 초기설정\n",
    "    visited[y][x] = True\n",
    "    que = deque()\n",
    "    ## y, x에 넣어준다\n",
    "    que.append((y, x))\n",
    "\n",
    "    while que:\n",
    "        y, x = que.popleft()\n",
    "        print(y, x)\n",
    "        for i in range(4):\n",
    "            ny = y + dy[i]\n",
    "            nx = x + dx[i]\n",
    "            if not(0 <= ny < N and 0 <= nx < M):\n",
    "                continue\n",
    "            if arr[ny][nx] == 1:\n",
    "                continue\n",
    "            if not visited[ny][nx]:\n",
    "                visited[ny][nx] = True\n",
    "                que.append((ny, nx))\n",
    "\n",
    "bfs(0, 0)\n",
    "for raw in arr:\n",
    "    print(raw)\n"
   ]
  },
  {
   "cell_type": "code",
   "execution_count": null,
   "metadata": {},
   "outputs": [],
   "source": []
  }
 ],
 "metadata": {
  "kernelspec": {
   "display_name": "secondllm",
   "language": "python",
   "name": "python3"
  },
  "language_info": {
   "codemirror_mode": {
    "name": "ipython",
    "version": 3
   },
   "file_extension": ".py",
   "mimetype": "text/x-python",
   "name": "python",
   "nbconvert_exporter": "python",
   "pygments_lexer": "ipython3",
   "version": "3.10.16"
  }
 },
 "nbformat": 4,
 "nbformat_minor": 2
}
