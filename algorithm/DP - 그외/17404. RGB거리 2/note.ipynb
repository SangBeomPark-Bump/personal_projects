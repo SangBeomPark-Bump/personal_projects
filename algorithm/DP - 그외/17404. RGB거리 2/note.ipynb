{
 "cells": [
  {
   "cell_type": "code",
   "execution_count": 1,
   "metadata": {},
   "outputs": [],
   "source": [
    "verbose = True\n",
    "verboses = [True for _ in range(10)]"
   ]
  },
  {
   "cell_type": "code",
   "execution_count": 60,
   "metadata": {},
   "outputs": [],
   "source": [
    "N = 3\n",
    "\n",
    "raw_arr = \"\"\"26 40 83\n",
    "49 60 57\n",
    "13 89 99\"\"\".split('\\n')\n",
    "\n",
    "arr =  [tuple(map(int,row.split())) for row in raw_arr]"
   ]
  },
  {
   "cell_type": "code",
   "execution_count": 83,
   "metadata": {},
   "outputs": [],
   "source": [
    "N = 2\n",
    "\n",
    "raw_arr = \"\"\"1 2 3\n",
    "10 6 6\"\"\".split('\\n')\n",
    "\n",
    "arr =  [tuple(map(int,row.split())) for row in raw_arr]"
   ]
  },
  {
   "cell_type": "code",
   "execution_count": 84,
   "metadata": {},
   "outputs": [
    {
     "name": "stdout",
     "output_type": "stream",
     "text": [
      "[(1, 2, 3), (10, 6, 6)]\n"
     ]
    }
   ],
   "source": [
    "print(arr)"
   ]
  },
  {
   "cell_type": "code",
   "execution_count": 85,
   "metadata": {},
   "outputs": [
    {
     "name": "stdout",
     "output_type": "stream",
     "text": [
      "7\n"
     ]
    }
   ],
   "source": [
    "ans = float('inf')\n",
    "for first_color in range(3):\n",
    "    dp = [ [(float('inf'))] * 3 for _ in range(N)]\n",
    "    for i in range(3):\n",
    "        if i == first_color:\n",
    "            dp[0][i] = arr[0][i]\n",
    "    dp[0]\n",
    "    for n in range(1, N):\n",
    "        for i in range(3):\n",
    "            for j in range(3):\n",
    "                if i != j:\n",
    "                    dp[n][j] = min(dp[n][j], dp[n-1][i] + arr[n][j])\n",
    "\n",
    "    dp[-1][first_color] = float('inf')\n",
    "    ans = min(ans, min(dp[-1]))\n",
    "print(ans)"
   ]
  },
  {
   "cell_type": "code",
   "execution_count": 28,
   "metadata": {},
   "outputs": [
    {
     "data": {
      "text/plain": [
       "[(26, 40, 83), [89, 86, 83], [96, 172, 185]]"
      ]
     },
     "execution_count": 28,
     "metadata": {},
     "output_type": "execute_result"
    }
   ],
   "source": [
    "dp"
   ]
  },
  {
   "cell_type": "code",
   "execution_count": null,
   "metadata": {},
   "outputs": [],
   "source": []
  }
 ],
 "metadata": {
  "kernelspec": {
   "display_name": "secondllm",
   "language": "python",
   "name": "python3"
  },
  "language_info": {
   "codemirror_mode": {
    "name": "ipython",
    "version": 3
   },
   "file_extension": ".py",
   "mimetype": "text/x-python",
   "name": "python",
   "nbconvert_exporter": "python",
   "pygments_lexer": "ipython3",
   "version": "3.10.16"
  }
 },
 "nbformat": 4,
 "nbformat_minor": 2
}
