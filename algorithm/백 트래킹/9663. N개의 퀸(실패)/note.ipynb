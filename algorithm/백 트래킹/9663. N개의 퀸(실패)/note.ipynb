{
 "cells": [
  {
   "cell_type": "code",
   "execution_count": null,
   "metadata": {},
   "outputs": [],
   "source": [
    "verbose = True\n",
    "\n",
    "verboses = [True for _ in range(10)]"
   ]
  },
  {
   "cell_type": "code",
   "execution_count": 77,
   "metadata": {},
   "outputs": [],
   "source": [
    "N = 12\n",
    "\n"
   ]
  },
  {
   "cell_type": "code",
   "execution_count": null,
   "metadata": {},
   "outputs": [
    {
     "data": {
      "text/plain": [
       "1.9073486328125e-05"
      ]
     },
     "execution_count": 61,
     "metadata": {},
     "output_type": "execute_result"
    }
   ],
   "source": [
    "import time\n",
    "\n",
    "before = time.time()\n",
    "after = time.time()\n"
   ]
  },
  {
   "cell_type": "code",
   "execution_count": 78,
   "metadata": {},
   "outputs": [
    {
     "name": "stdout",
     "output_type": "stream",
     "text": [
      "15.139832973480225\n",
      "14200\n"
     ]
    }
   ],
   "source": [
    "visited = [[0 for _ in range(N) ] for _ in range(N)]\n",
    "\n",
    "def put_queen(x, y, is_plus = True):\n",
    "\n",
    "    plus = 1 if is_plus else -1\n",
    "\n",
    "    for i in range(N):\n",
    "        visited[y][i] = visited[y][i] + 1 * plus\n",
    "\n",
    "    for i in range(N):\n",
    "        visited[i][x] = visited[i][x] + 1 * plus\n",
    "\n",
    "    for i in range(N):\n",
    "        x_array = (-1, 1, -1, 1)\n",
    "        y_array = (-1, -1, 1, 1)\n",
    "        for dx, dy in zip(x_array, y_array):\n",
    "            nx = x + dx * i\n",
    "            ny = y + dy * i\n",
    "\n",
    "            if 0<= nx < N and 0 <= ny < N:\n",
    "                visited[ny][nx] = visited[ny][nx] + 1 * plus\n",
    "\n",
    "\n",
    "\n",
    "cnt = 0\n",
    "\n",
    "def dfs(depth):\n",
    "    global cnt\n",
    "    if depth == N+1:\n",
    "        cnt +=1\n",
    "        return\n",
    "    for x in range(N):\n",
    "        y = depth -1\n",
    "        if (visited[y][x]) == 0:\n",
    "            put_queen(x,y)\n",
    "            dfs(depth + 1)\n",
    "            put_queen(x, y, False)\n",
    "\n",
    "\n",
    "\n",
    "\n",
    "\n",
    "before = time.time()\n",
    "dfs(1)\n",
    "after = time.time()\n",
    "print(after - before)\n",
    "print(cnt)\n",
    "# visited"
   ]
  },
  {
   "cell_type": "code",
   "execution_count": 56,
   "metadata": {},
   "outputs": [
    {
     "data": {
      "text/plain": [
       "92"
      ]
     },
     "execution_count": 56,
     "metadata": {},
     "output_type": "execute_result"
    }
   ],
   "source": [
    "cnt"
   ]
  },
  {
   "cell_type": "code",
   "execution_count": null,
   "metadata": {},
   "outputs": [
    {
     "name": "stdout",
     "output_type": "stream",
     "text": [
      "14200\n",
      "5.237873077392578\n"
     ]
    }
   ],
   "source": [
    "def is_possible(r):\n",
    "    for i in range(r):\n",
    "        if arr[r] == arr[i]:\n",
    "            return False\n",
    "        if r - i == abs(arr[r] - arr[i]):\n",
    "            return False\n",
    "    return True\n",
    "\n",
    "arr = [0] * N\n",
    "\n",
    "def dfs(depth):\n",
    "\n",
    "    if depth == N:\n",
    "        return 1\n",
    "    \n",
    "    ans = 0\n",
    "\n",
    "    for i in range(N):\n",
    "        arr[depth] = i\n",
    "        if is_possible(depth):\n",
    "            ans += dfs(depth + 1)\n",
    "    return ans\n",
    "\n",
    "\n",
    "\n",
    "before = time.time()\n",
    "print(dfs(0))\n",
    "after = time.time()\n",
    "print(after - before)\n",
    "\n",
    "# visited"
   ]
  },
  {
   "cell_type": "code",
   "execution_count": null,
   "metadata": {},
   "outputs": [],
   "source": [
    "def is_possible(r):\n",
    "    for i in range(r):\n",
    "        if arr[r] == arr[i]:\n",
    "            return False\n",
    "        if r - i == abs(arr[r] - arr[i]):\n",
    "            return False\n",
    "    return True"
   ]
  }
 ],
 "metadata": {
  "kernelspec": {
   "display_name": "secondllm",
   "language": "python",
   "name": "python3"
  },
  "language_info": {
   "codemirror_mode": {
    "name": "ipython",
    "version": 3
   },
   "file_extension": ".py",
   "mimetype": "text/x-python",
   "name": "python",
   "nbconvert_exporter": "python",
   "pygments_lexer": "ipython3",
   "version": "3.10.16"
  }
 },
 "nbformat": 4,
 "nbformat_minor": 2
}
